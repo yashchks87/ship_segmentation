{
 "cells": [
  {
   "cell_type": "code",
   "execution_count": 1,
   "metadata": {},
   "outputs": [
    {
     "name": "stderr",
     "output_type": "stream",
     "text": [
      "/home/ubuntu/torch_env/lib/python3.8/site-packages/tqdm/auto.py:21: TqdmWarning: IProgress not found. Please update jupyter and ipywidgets. See https://ipywidgets.readthedocs.io/en/stable/user_install.html\n",
      "  from .autonotebook import tqdm as notebook_tqdm\n"
     ]
    }
   ],
   "source": [
    "import torch\n",
    "import numpy as np\n",
    "import pandas as pd\n",
    "import segmentation_models_pytorch as sm\n",
    "import cv2\n",
    "import os\n",
    "import glob\n",
    "from tqdm import tqdm\n",
    "import multiprocessing as mp\n",
    "from sklearn.model_selection import train_test_split\n",
    "from torch.utils.data import Dataset, DataLoader\n",
    "import torchvision\n",
    "from torchvision import io\n",
    "import torchvision.transforms as T\n",
    "import PIL\n",
    "import torch.nn as nn\n",
    "import torch.nn.functional as F\n",
    "import time\n",
    "import torch.optim as optim\n",
    "import warnings\n",
    "warnings.filterwarnings(\"ignore\")\n",
    "from torch.utils.tensorboard import SummaryWriter\n",
    "import sys\n",
    "sys.path.append('../scripts/helper_functions_cv/torch_helpers/')\n",
    "from save_weights_every_epoch import SaveWeightsEveryEpoch"
   ]
  },
  {
   "cell_type": "code",
   "execution_count": 2,
   "metadata": {},
   "outputs": [],
   "source": [
    "csv_file = pd.read_csv('../../files/train_ship_segmentations_v2.csv')\n",
    "csv_file = csv_file.groupby('ImageId')['EncodedPixels'].apply(list).reset_index()\n",
    "image_ids, pixels = csv_file['ImageId'].values.tolist(), csv_file['EncodedPixels'].values.tolist()"
   ]
  },
  {
   "cell_type": "code",
   "execution_count": 3,
   "metadata": {},
   "outputs": [],
   "source": [
    "csv_file['fixed_inputs'] = csv_file['ImageId'].apply(lambda x: '../../files/train_v2/' + x)\n",
    "csv_file['mask_paths'] = csv_file['ImageId'].apply(lambda x: '../../files/masks_v1/train/' + x.split('.')[0] + '.' + 'png')"
   ]
  },
  {
   "cell_type": "code",
   "execution_count": 4,
   "metadata": {},
   "outputs": [
    {
     "name": "stderr",
     "output_type": "stream",
     "text": [
      "100%|██████████| 192556/192556 [00:00<00:00, 421292.96it/s]\n"
     ]
    }
   ],
   "source": [
    "for x in tqdm(csv_file['fixed_inputs'].values.tolist()):\n",
    "    if os.path.exists(x) == False:\n",
    "        print(x)"
   ]
  },
  {
   "cell_type": "code",
   "execution_count": 5,
   "metadata": {},
   "outputs": [
    {
     "name": "stderr",
     "output_type": "stream",
     "text": [
      "100%|██████████| 192556/192556 [00:00<00:00, 393317.43it/s]\n"
     ]
    }
   ],
   "source": [
    "for x in tqdm(csv_file['mask_paths'].values.tolist()):\n",
    "    if os.path.exists(x) == False:\n",
    "        print(x)"
   ]
  },
  {
   "cell_type": "code",
   "execution_count": 6,
   "metadata": {},
   "outputs": [
    {
     "data": {
      "text/plain": [
       "'../../files/train_v2/00003e153.jpg'"
      ]
     },
     "execution_count": 6,
     "metadata": {},
     "output_type": "execute_result"
    }
   ],
   "source": [
    "csv_file['fixed_inputs'].values.tolist()[0]"
   ]
  },
  {
   "cell_type": "code",
   "execution_count": 116,
   "metadata": {},
   "outputs": [],
   "source": [
    "csv_file = csv_file[csv_file['fixed_inputs'] != '../../files/train_v2/6384c3e78.jpg']"
   ]
  },
  {
   "cell_type": "code",
   "execution_count": 117,
   "metadata": {},
   "outputs": [],
   "source": [
    "def split_datasets(csv_file, test_size = 0.01):\n",
    "    train, test = train_test_split(csv_file, test_size = test_size, random_state=42)\n",
    "    train, val = train_test_split(train, test_size = test_size, random_state=42)\n",
    "    return train, val, test"
   ]
  },
  {
   "cell_type": "code",
   "execution_count": 118,
   "metadata": {},
   "outputs": [],
   "source": [
    "# csv_file = pd.read_csv\n",
    "train, val, test = split_datasets(csv_file)"
   ]
  },
  {
   "cell_type": "code",
   "execution_count": 119,
   "metadata": {},
   "outputs": [],
   "source": [
    "type_of_label = []\n",
    "for x in train['EncodedPixels'].values.tolist():\n",
    "    if type(x[0]) == str:\n",
    "        type_of_label.append(1)\n",
    "    else:\n",
    "        type_of_label.append(0)"
   ]
  },
  {
   "cell_type": "code",
   "execution_count": 120,
   "metadata": {},
   "outputs": [],
   "source": [
    "unet_incep = sm.Unet(\n",
    "    encoder_name='inceptionv4',\n",
    "    encoder_weights=None,\n",
    "    in_channels=3,\n",
    "    classes=1\n",
    ")"
   ]
  },
  {
   "cell_type": "code",
   "execution_count": 121,
   "metadata": {},
   "outputs": [],
   "source": [
    "class ShipSegmentationData(Dataset):\n",
    "    def __init__(self, csv_file, output_shape, is_val = False):\n",
    "        self.csv_file = csv_file\n",
    "        self.imgs = self.csv_file['fixed_inputs'].values.tolist()\n",
    "        self.masks = self.csv_file['mask_paths'].values.tolist()\n",
    "        self.flip_probs = torch.randint(0, 2, (len(self.imgs),))\n",
    "        # numpy implementation\n",
    "        # self.brightness_factor = np.random.uniform(1, 2, len(self.imgs))\n",
    "        # torch implementation\n",
    "        self.brightness_factor = torch.rand(len(self.imgs)) + 1\n",
    "        self.contrast_factor = torch.rand(len(self.imgs)) + 1\n",
    "        self.output_shape = output_shape\n",
    "        self.is_val = is_val\n",
    "\n",
    "    def __getitem__(self, idx):\n",
    "        img = io.read_image(self.imgs[idx])\n",
    "        mask = io.read_image(self.masks[idx])\n",
    "        if self.is_val:\n",
    "            if self.flip_probs[idx] == 1:\n",
    "                img = T.functional.hflip(img)\n",
    "                mask = T.functional.hflip(mask)\n",
    "            img = T.functional.adjust_brightness(img, self.brightness_factor[idx])\n",
    "            img = T.functional.adjust_contrast(img, self.contrast_factor[idx])\n",
    "        img = T.functional.resize(img, self.output_shape)\n",
    "        mask = T.functional.resize(mask, self.output_shape)\n",
    "        img = img / 255\n",
    "        mask = mask / 255\n",
    "        mask = torch.where(mask < 1, 0, 1)\n",
    "        return img, mask\n",
    "\n",
    "    def __len__(self):\n",
    "        return len(self.imgs)"
   ]
  },
  {
   "cell_type": "code",
   "execution_count": 122,
   "metadata": {},
   "outputs": [],
   "source": [
    "train_dataset = ShipSegmentationData(train, output_shape=(512, 512))\n",
    "val_dataset = ShipSegmentationData(val, output_shape=(512, 512), is_val=True)\n",
    "trainloader = DataLoader(train_dataset, shuffle=True, num_workers=8, prefetch_factor=16, batch_size=264)\n",
    "valloader = DataLoader(val_dataset, shuffle=False, num_workers=2, prefetch_factor=2, batch_size=512)\n",
    "dataloaders = {\n",
    "    'train': trainloader,\n",
    "    'val': valloader\n",
    "}\n",
    "dataset_sizes = {\n",
    "    'train' : len(train),\n",
    "    'val' : len(val)\n",
    "}"
   ]
  },
  {
   "cell_type": "code",
   "execution_count": 123,
   "metadata": {},
   "outputs": [],
   "source": [
    "def dice_bce_loss(inputs, targets, smooth = 1):\n",
    "    inputs = F.sigmoid(inputs)\n",
    "    inputs = inputs.view(-1)\n",
    "    targets = targets.view(-1)\n",
    "    intersection = (inputs * targets).sum() \n",
    "    dice_loss = 1 - (2.*intersection + smooth)/(inputs.sum() + targets.sum() + smooth)\n",
    "    targets = targets.float()\n",
    "    BCE = F.binary_cross_entropy(inputs, targets, reduction='mean')\n",
    "    Dice_BCE = BCE + dice_loss\n",
    "    return Dice_BCE\n",
    "\n",
    "def iou_score(inputs, targets, thres = 0.5):\n",
    "    inputs = inputs.view(-1)\n",
    "    targets = targets.view(-1)\n",
    "    inputs = torch.where(inputs > thres, 1, 0)\n",
    "    intersection = torch.logical_and(targets, inputs)\n",
    "    unioun = torch.logical_or(targets, inputs)\n",
    "    score = torch.sum(intersection) / torch.sum(unioun)\n",
    "    return score"
   ]
  },
  {
   "cell_type": "code",
   "execution_count": 131,
   "metadata": {},
   "outputs": [],
   "source": [
    "from torch.utils.tensorboard import SummaryWriter\n",
    "import torch\n",
    "import os\n",
    "\n",
    "class TBCallBack():\n",
    "    def __init__(self, dir_path, folder_name):\n",
    "        self.dir_path = dir_path\n",
    "        self.folder_name = folder_name\n",
    "        self.check_paths()\n",
    "        self.init_writer()\n",
    "\n",
    "    def init_writer(self):\n",
    "        self.writer = SummaryWriter(f'{self.dir_path}{self.folder_name}')\n",
    "        print(f'Writer object is poiniting to {self.dir_path}{self.folder_name}.')        \n",
    "\n",
    "    def check_paths(self):\n",
    "        temp_path = f'{self.dir_path}{self.folder_name}/'\n",
    "        if os.path.exists(temp_path) == True:\n",
    "            os.rmdir(temp_path)\n",
    "\n",
    "    def save(self, epoch, phase, iou, loss):\n",
    "        if phase == 'train':\n",
    "            writer.add_scalars('loss', {'train': iou}, epoch)\n",
    "            writer.add_scalars('iou', {'train': loss}, epoch)\n",
    "        else:\n",
    "            writer.add_scalars('loss', {'val': iou}, epoch)\n",
    "            writer.add_scalars('iou', {'val': loss}, epoch)"
   ]
  },
  {
   "cell_type": "code",
   "execution_count": 132,
   "metadata": {},
   "outputs": [],
   "source": [
    "def train_model(model, criterion, optimizer, writer, device, weights_path, num_epochs = 5):\n",
    "    since = time.time()\n",
    "    save_weights = SaveWeightsEveryEpoch(weights_path)\n",
    "    writer = TBCallBack('../../TB/', 'incep_seg/')\n",
    "    for epoch in range(num_epochs):\n",
    "        print(f'epoch: {epoch}/{num_epochs - 1}')\n",
    "        print('-' * 10)\n",
    "        for phase in ['train', 'val']:\n",
    "            if phase == 'train':\n",
    "                model.train()\n",
    "            else:\n",
    "                model.eval()\n",
    "            running_loss = 0.0\n",
    "            iou_scores = 0.0\n",
    "\n",
    "            print(phase)\n",
    "\n",
    "            for inputs, masks in tqdm(dataloaders[phase]):\n",
    "                inputs = inputs.to(device)\n",
    "                masks = masks.to(device)\n",
    "                optimizer.zero_grad()\n",
    "\n",
    "                # Forward\n",
    "                # Track hist if it's only train\n",
    "                with torch.set_grad_enabled(phase=='train'):\n",
    "                    outputs = model(inputs)\n",
    "                    loss = criterion(outputs, masks)\n",
    "\n",
    "                    # backward + optimize only if training phase\n",
    "                    if phase == 'train':\n",
    "                        loss.backward()\n",
    "                        optimizer.step()\n",
    "                \n",
    "                # some stats\n",
    "                running_loss += loss.item() * inputs.size(0)\n",
    "                iou_scores += iou_score(outputs, masks) * inputs.size(0)\n",
    "            \n",
    "\n",
    "            epoch_loss = running_loss / dataset_sizes[phase]\n",
    "            # writer.add_scalar(\"Loss/train\", epoch_loss, epoch)\n",
    "            epoch_iou = iou_scores / dataset_sizes[phase]\n",
    "            \n",
    "            writer.save(epoch, phase, epoch_iou, epoch_loss)\n",
    "            # if phase == 'train':\n",
    "            #     writer.add_scalars('loss', {'train': epoch_loss}, epoch)\n",
    "            #     writer.add_scalars('iou', {'train': epoch_iou}, epoch)\n",
    "            # else:\n",
    "            #     writer.add_scalars('loss', {'val': epoch_loss}, epoch)\n",
    "            #     writer.add_scalars('iou', {'val': epoch_iou}, epoch)\n",
    "        \n",
    "            print(f'Loss: {epoch_loss}')\n",
    "            print('IOU: {0:.10f}'.format(epoch_iou))\n",
    "            save_weights.save(model, epoch)\n",
    "\n",
    "    time_elapsed = time.time() - since\n",
    "    print(f'Training complete in {time_elapsed // 60:.0f}m {time_elapsed % 60:.0f}s')"
   ]
  },
  {
   "cell_type": "code",
   "execution_count": 133,
   "metadata": {},
   "outputs": [],
   "source": [
    "model = nn.DataParallel(unet_incep, device_ids=[0, 1, 2, 3, 4, 5, 6, 7])"
   ]
  },
  {
   "cell_type": "code",
   "execution_count": 134,
   "metadata": {},
   "outputs": [],
   "source": [
    "device = torch.device(\"cuda:0\" if torch.cuda.is_available() else \"cpu\")"
   ]
  },
  {
   "cell_type": "code",
   "execution_count": 135,
   "metadata": {},
   "outputs": [
    {
     "name": "stdout",
     "output_type": "stream",
     "text": [
      "Writer object is poiniting to ../../TB/incep_seg/.\n",
      "epoch: 0/4\n",
      "----------\n",
      "train\n"
     ]
    },
    {
     "name": "stderr",
     "output_type": "stream",
     "text": [
      " 30%|██▉       | 213/715 [04:35<10:49,  1.29s/it]\n"
     ]
    },
    {
     "ename": "KeyboardInterrupt",
     "evalue": "",
     "output_type": "error",
     "traceback": [
      "\u001b[0;31m---------------------------------------------------------------------------\u001b[0m",
      "\u001b[0;31mKeyboardInterrupt\u001b[0m                         Traceback (most recent call last)",
      "Cell \u001b[0;32mIn[135], line 4\u001b[0m\n\u001b[1;32m      2\u001b[0m writer \u001b[39m=\u001b[39m SummaryWriter()\n\u001b[1;32m      3\u001b[0m optimzer \u001b[39m=\u001b[39m optim\u001b[39m.\u001b[39mSGD(unet_incep\u001b[39m.\u001b[39mparameters(), lr\u001b[39m=\u001b[39m\u001b[39m0.01\u001b[39m)\n\u001b[0;32m----> 4\u001b[0m train_model(model, dice_bce_loss, optimzer, writer, device, \u001b[39m'\u001b[39;49m\u001b[39m../../weights/incep_dbl_fbc/\u001b[39;49m\u001b[39m'\u001b[39;49m, num_epochs\u001b[39m=\u001b[39;49m\u001b[39m5\u001b[39;49m)\n",
      "Cell \u001b[0;32mIn[132], line 31\u001b[0m, in \u001b[0;36mtrain_model\u001b[0;34m(model, criterion, optimizer, writer, device, weights_path, num_epochs)\u001b[0m\n\u001b[1;32m     29\u001b[0m     \u001b[39m# backward + optimize only if training phase\u001b[39;00m\n\u001b[1;32m     30\u001b[0m     \u001b[39mif\u001b[39;00m phase \u001b[39m==\u001b[39m \u001b[39m'\u001b[39m\u001b[39mtrain\u001b[39m\u001b[39m'\u001b[39m:\n\u001b[0;32m---> 31\u001b[0m         loss\u001b[39m.\u001b[39;49mbackward()\n\u001b[1;32m     32\u001b[0m         optimizer\u001b[39m.\u001b[39mstep()\n\u001b[1;32m     34\u001b[0m \u001b[39m# some stats\u001b[39;00m\n",
      "File \u001b[0;32m~/torch_env/lib/python3.8/site-packages/torch/_tensor.py:487\u001b[0m, in \u001b[0;36mTensor.backward\u001b[0;34m(self, gradient, retain_graph, create_graph, inputs)\u001b[0m\n\u001b[1;32m    477\u001b[0m \u001b[39mif\u001b[39;00m has_torch_function_unary(\u001b[39mself\u001b[39m):\n\u001b[1;32m    478\u001b[0m     \u001b[39mreturn\u001b[39;00m handle_torch_function(\n\u001b[1;32m    479\u001b[0m         Tensor\u001b[39m.\u001b[39mbackward,\n\u001b[1;32m    480\u001b[0m         (\u001b[39mself\u001b[39m,),\n\u001b[0;32m   (...)\u001b[0m\n\u001b[1;32m    485\u001b[0m         inputs\u001b[39m=\u001b[39minputs,\n\u001b[1;32m    486\u001b[0m     )\n\u001b[0;32m--> 487\u001b[0m torch\u001b[39m.\u001b[39;49mautograd\u001b[39m.\u001b[39;49mbackward(\n\u001b[1;32m    488\u001b[0m     \u001b[39mself\u001b[39;49m, gradient, retain_graph, create_graph, inputs\u001b[39m=\u001b[39;49minputs\n\u001b[1;32m    489\u001b[0m )\n",
      "File \u001b[0;32m~/torch_env/lib/python3.8/site-packages/torch/autograd/__init__.py:200\u001b[0m, in \u001b[0;36mbackward\u001b[0;34m(tensors, grad_tensors, retain_graph, create_graph, grad_variables, inputs)\u001b[0m\n\u001b[1;32m    195\u001b[0m     retain_graph \u001b[39m=\u001b[39m create_graph\n\u001b[1;32m    197\u001b[0m \u001b[39m# The reason we repeat same the comment below is that\u001b[39;00m\n\u001b[1;32m    198\u001b[0m \u001b[39m# some Python versions print out the first line of a multi-line function\u001b[39;00m\n\u001b[1;32m    199\u001b[0m \u001b[39m# calls in the traceback and some print out the last line\u001b[39;00m\n\u001b[0;32m--> 200\u001b[0m Variable\u001b[39m.\u001b[39;49m_execution_engine\u001b[39m.\u001b[39;49mrun_backward(  \u001b[39m# Calls into the C++ engine to run the backward pass\u001b[39;49;00m\n\u001b[1;32m    201\u001b[0m     tensors, grad_tensors_, retain_graph, create_graph, inputs,\n\u001b[1;32m    202\u001b[0m     allow_unreachable\u001b[39m=\u001b[39;49m\u001b[39mTrue\u001b[39;49;00m, accumulate_grad\u001b[39m=\u001b[39;49m\u001b[39mTrue\u001b[39;49;00m)\n",
      "\u001b[0;31mKeyboardInterrupt\u001b[0m: "
     ]
    }
   ],
   "source": [
    "unet_incep.to(device)\n",
    "writer = SummaryWriter()\n",
    "optimzer = optim.SGD(unet_incep.parameters(), lr=0.01)\n",
    "train_model(model, dice_bce_loss, optimzer, writer, device, '../../weights/incep_dbl_fbc/', num_epochs=5)"
   ]
  },
  {
   "cell_type": "code",
   "execution_count": null,
   "metadata": {},
   "outputs": [],
   "source": []
  }
 ],
 "metadata": {
  "kernelspec": {
   "display_name": "torch_env",
   "language": "python",
   "name": "torch_env"
  },
  "language_info": {
   "codemirror_mode": {
    "name": "ipython",
    "version": 3
   },
   "file_extension": ".py",
   "mimetype": "text/x-python",
   "name": "python",
   "nbconvert_exporter": "python",
   "pygments_lexer": "ipython3",
   "version": "3.8.10"
  },
  "orig_nbformat": 4
 },
 "nbformat": 4,
 "nbformat_minor": 2
}
