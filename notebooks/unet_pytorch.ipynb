{
 "cells": [
  {
   "cell_type": "code",
   "execution_count": 22,
   "metadata": {},
   "outputs": [],
   "source": [
    "import torch\n",
    "import numpy as np\n",
    "import pandas as pd\n",
    "import segmentation_models_pytorch as sm\n",
    "import cv2\n",
    "import os\n",
    "import glob\n",
    "from tqdm import tqdm\n",
    "import multiprocessing as mp\n",
    "from sklearn.model_selection import train_test_split\n",
    "from torch.utils.data import Dataset, DataLoader\n",
    "import torchvision\n",
    "from torchvision import io\n",
    "import torchvision.transforms as T\n",
    "import PIL\n",
    "import torch.nn as nn\n",
    "import torch.nn.functional as F\n",
    "import time\n",
    "import torch.optim as optim\n",
    "import warnings\n",
    "warnings.filterwarnings(\"ignore\")\n",
    "from torch.utils.tensorboard import SummaryWriter"
   ]
  },
  {
   "cell_type": "code",
   "execution_count": 2,
   "metadata": {},
   "outputs": [],
   "source": [
    "csv_file = pd.read_csv('../../files/train_ship_segmentations_v2.csv')\n",
    "csv_file = csv_file.groupby('ImageId')['EncodedPixels'].apply(list).reset_index()\n",
    "image_ids, pixels = csv_file['ImageId'].values.tolist(), csv_file['EncodedPixels'].values.tolist()"
   ]
  },
  {
   "cell_type": "code",
   "execution_count": 3,
   "metadata": {},
   "outputs": [],
   "source": [
    "csv_file['fixed_inputs'] = csv_file['ImageId'].apply(lambda x: '../../files/train_v2/' + x)\n",
    "csv_file['mask_paths'] = csv_file['ImageId'].apply(lambda x: '../../files/masks_v1/train/' + x.split('.')[0] + '.' + 'png')"
   ]
  },
  {
   "cell_type": "code",
   "execution_count": 4,
   "metadata": {},
   "outputs": [
    {
     "name": "stderr",
     "output_type": "stream",
     "text": [
      "100%|██████████| 192556/192556 [00:00<00:00, 627781.51it/s]\n"
     ]
    }
   ],
   "source": [
    "for x in tqdm(csv_file['fixed_inputs'].values.tolist()):\n",
    "    if os.path.exists(x) == False:\n",
    "        print(x)"
   ]
  },
  {
   "cell_type": "code",
   "execution_count": 5,
   "metadata": {},
   "outputs": [
    {
     "name": "stderr",
     "output_type": "stream",
     "text": [
      "100%|██████████| 192556/192556 [00:00<00:00, 606901.49it/s]\n"
     ]
    }
   ],
   "source": [
    "for x in tqdm(csv_file['mask_paths'].values.tolist()):\n",
    "    if os.path.exists(x) == False:\n",
    "        print(x)"
   ]
  },
  {
   "cell_type": "code",
   "execution_count": 6,
   "metadata": {},
   "outputs": [
    {
     "data": {
      "text/plain": [
       "'../../files/train_v2/00003e153.jpg'"
      ]
     },
     "execution_count": 6,
     "metadata": {},
     "output_type": "execute_result"
    }
   ],
   "source": [
    "csv_file['fixed_inputs'].values.tolist()[0]"
   ]
  },
  {
   "cell_type": "code",
   "execution_count": 7,
   "metadata": {},
   "outputs": [],
   "source": [
    "csv_file = csv_file[csv_file['fixed_inputs'] != '../../files/train_v2/6384c3e78.jpg']"
   ]
  },
  {
   "cell_type": "code",
   "execution_count": 8,
   "metadata": {},
   "outputs": [],
   "source": [
    "def split_datasets(csv_file, test_size = 0.01):\n",
    "    train, test = train_test_split(csv_file, test_size = test_size, random_state=42)\n",
    "    train, val = train_test_split(train, test_size = test_size, random_state=42)\n",
    "    return train, val, test"
   ]
  },
  {
   "cell_type": "code",
   "execution_count": 9,
   "metadata": {},
   "outputs": [],
   "source": [
    "# csv_file = pd.read_csv\n",
    "train, val, test = split_datasets(csv_file)"
   ]
  },
  {
   "cell_type": "code",
   "execution_count": 10,
   "metadata": {},
   "outputs": [],
   "source": [
    "type_of_label = []\n",
    "for x in train['EncodedPixels'].values.tolist():\n",
    "    if type(x[0]) == str:\n",
    "        type_of_label.append(1)\n",
    "    else:\n",
    "        type_of_label.append(0)"
   ]
  },
  {
   "cell_type": "code",
   "execution_count": 11,
   "metadata": {},
   "outputs": [],
   "source": [
    "unet_incep = sm.Unet(\n",
    "    encoder_name='inceptionv4',\n",
    "    encoder_weights=None,\n",
    "    in_channels=3,\n",
    "    classes=1\n",
    ")"
   ]
  },
  {
   "cell_type": "code",
   "execution_count": 12,
   "metadata": {},
   "outputs": [],
   "source": [
    "class ShipSegmentationData(Dataset):\n",
    "    def __init__(self, csv_file, output_shape, is_val = False):\n",
    "        self.csv_file = csv_file\n",
    "        self.imgs = self.csv_file['fixed_inputs'].values.tolist()\n",
    "        self.masks = self.csv_file['mask_paths'].values.tolist()\n",
    "        self.flip_probs = np.random.randint(0, 2, size = (len(self.imgs)))\n",
    "        self.brightness_factor = np.random.uniform(1, 2, len(self.imgs))\n",
    "        self.contrast_factor = np.random.uniform(1, 2, len(self.imgs))\n",
    "        self.output_shape = output_shape\n",
    "        self.is_val = is_val\n",
    "\n",
    "    def __getitem__(self, idx):\n",
    "        img = io.read_image(self.imgs[idx])\n",
    "        mask = io.read_image(self.masks[idx])\n",
    "        if self.is_val:\n",
    "            if self.flip_probs[idx] == 1:\n",
    "                img = T.functional.hflip(img)\n",
    "                mask = T.functional.hflip(mask)\n",
    "            img = T.functional.adjust_brightness(img, self.brightness_factor[idx])\n",
    "            img = T.functional.adjust_contrast(img, self.contrast_factor[idx])\n",
    "        img = T.functional.resize(img, self.output_shape)\n",
    "        mask = T.functional.resize(mask, self.output_shape)\n",
    "        img = img / 255\n",
    "        mask = mask / 255\n",
    "        mask = torch.where(mask < 1, 0, 1)\n",
    "        return img, mask\n",
    "\n",
    "    def __len__(self):\n",
    "        return len(self.imgs)"
   ]
  },
  {
   "cell_type": "code",
   "execution_count": 13,
   "metadata": {},
   "outputs": [],
   "source": [
    "train_dataset = ShipSegmentationData(train[:1000], output_shape=(512, 512))\n",
    "val_dataset = ShipSegmentationData(val, output_shape=(512, 512), is_val=True)\n",
    "trainloader = DataLoader(train_dataset, shuffle=True, num_workers=10, prefetch_factor=2, batch_size=24)\n",
    "valloader = DataLoader(val_dataset, shuffle=False, num_workers=2, prefetch_factor=2, batch_size=24)\n",
    "dataloaders = {\n",
    "    'train': trainloader,\n",
    "    'val': valloader\n",
    "}\n",
    "dataset_sizes = {\n",
    "    'train' : len(train),\n",
    "    'val' : len(val)\n",
    "}"
   ]
  },
  {
   "cell_type": "code",
   "execution_count": 14,
   "metadata": {},
   "outputs": [],
   "source": [
    "def dice_bce_loss(inputs, targets, smooth = 1):\n",
    "    inputs = F.sigmoid(inputs)\n",
    "    inputs = inputs.view(-1)\n",
    "    targets = targets.view(-1)\n",
    "    intersection = (inputs * targets).sum() \n",
    "    dice_loss = 1 - (2.*intersection + smooth)/(inputs.sum() + targets.sum() + smooth)\n",
    "    targets = targets.float()\n",
    "    BCE = F.binary_cross_entropy(inputs, targets, reduction='mean')\n",
    "    Dice_BCE = BCE + dice_loss\n",
    "    return Dice_BCE"
   ]
  },
  {
   "cell_type": "code",
   "execution_count": 15,
   "metadata": {},
   "outputs": [],
   "source": [
    "device = torch.device(\"cuda:0\" if torch.cuda.is_available() else \"cpu\")"
   ]
  },
  {
   "cell_type": "code",
   "execution_count": 23,
   "metadata": {},
   "outputs": [],
   "source": [
    "def train_model(model, criterion, optimizer, writer, num_epochs = 5):\n",
    "    since = time.time()\n",
    "\n",
    "    for epoch in range(num_epochs):\n",
    "        print(f'epoch: {epoch}/{num_epochs - 1}')\n",
    "        print('-' * 10)\n",
    "        for phase in ['train', 'val']:\n",
    "            if phase == 'train':\n",
    "                model.train()\n",
    "            else:\n",
    "                model.eval()\n",
    "            running_loss = 0.0\n",
    "            running_corrects = 0.0\n",
    "\n",
    "            for inputs, masks in dataloaders[phase]:\n",
    "                inputs = inputs.to(device)\n",
    "                masks = masks.to(device)\n",
    "                optimizer.zero_grad()\n",
    "\n",
    "                # Forward\n",
    "                # Track hist if it's only train\n",
    "                with torch.set_grad_enabled(phase=='train'):\n",
    "                    outputs = model(inputs)\n",
    "                    loss = criterion(outputs, masks)\n",
    "\n",
    "                    # backward + optimize only if training phase\n",
    "                    if phase == 'train':\n",
    "                        loss.backward()\n",
    "                        optimizer.step()\n",
    "                \n",
    "                # some stats\n",
    "                running_loss += loss.item() * inputs.size(0)\n",
    "                running_corrects += torch.sum(outputs == masks.data)\n",
    "            \n",
    "\n",
    "            epoch_loss = running_loss / dataset_sizes[phase]\n",
    "            writer.add_scalar(\"Loss/train\", epoch_loss, epoch)\n",
    "            epoch_acc = running_corrects.double() / dataset_sizes[phase]\n",
    "            torch.save(model.state_dict(), f'../../weights/{epoch}.pth')\n",
    "\n",
    "    time_elapsed = time.time() - since\n",
    "    print(f'Training complete in {time_elapsed // 60:.0f}m {time_elapsed % 60:.0f}s')\n",
    "    # print(f'Best val Acc: {best_acc:4f}')"
   ]
  },
  {
   "cell_type": "code",
   "execution_count": 24,
   "metadata": {},
   "outputs": [
    {
     "name": "stdout",
     "output_type": "stream",
     "text": [
      "epoch: 0/4\n",
      "----------\n",
      "epoch: 1/4\n",
      "----------\n",
      "epoch: 2/4\n",
      "----------\n",
      "epoch: 3/4\n",
      "----------\n",
      "epoch: 4/4\n",
      "----------\n",
      "Training complete in 5m 25s\n"
     ]
    }
   ],
   "source": [
    "# unet_incep.to(device)\n",
    "writer = SummaryWriter()\n",
    "optimzer = optim.SGD(unet_incep.parameters(), lr=0.01)\n",
    "train_model(unet_incep, dice_bce_loss, optimzer, writer)"
   ]
  },
  {
   "cell_type": "code",
   "execution_count": null,
   "metadata": {},
   "outputs": [],
   "source": []
  },
  {
   "cell_type": "code",
   "execution_count": null,
   "metadata": {},
   "outputs": [],
   "source": []
  },
  {
   "cell_type": "code",
   "execution_count": null,
   "metadata": {},
   "outputs": [],
   "source": []
  },
  {
   "cell_type": "code",
   "execution_count": null,
   "metadata": {},
   "outputs": [],
   "source": []
  }
 ],
 "metadata": {
  "kernelspec": {
   "display_name": "torch_env",
   "language": "python",
   "name": "torch_env"
  },
  "language_info": {
   "codemirror_mode": {
    "name": "ipython",
    "version": 3
   },
   "file_extension": ".py",
   "mimetype": "text/x-python",
   "name": "python",
   "nbconvert_exporter": "python",
   "pygments_lexer": "ipython3",
   "version": "3.8.10"
  },
  "orig_nbformat": 4
 },
 "nbformat": 4,
 "nbformat_minor": 2
}
