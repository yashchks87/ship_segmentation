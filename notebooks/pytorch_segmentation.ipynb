{
 "cells": [
  {
   "cell_type": "code",
   "execution_count": 1,
   "metadata": {},
   "outputs": [
    {
     "name": "stderr",
     "output_type": "stream",
     "text": [
      "/home/ubuntu/.local/lib/python3.8/site-packages/pandas/core/computation/expressions.py:20: UserWarning: Pandas requires version '2.7.3' or newer of 'numexpr' (version '2.7.1' currently installed).\n",
      "  from pandas.core.computation.check import NUMEXPR_INSTALLED\n"
     ]
    }
   ],
   "source": [
    "import segmentation_models_pytorch as smp\n",
    "import torch\n",
    "import torchvision\n",
    "import numpy as np\n",
    "import pandas as pd\n",
    "from torch.utils.data import Dataset, DataLoader\n",
    "import os\n",
    "from tqdm import tqdm\n",
    "from sklearn.model_selection import train_test_split\n",
    "import torch.nn as nn\n",
    "import torch.functional as F\n",
    "import torch.optim as optim\n",
    "from torch.utils.data.distributed import DistributedSampler\n",
    "from torch.nn.parallel import DistributedDataParallel as DDP\n",
    "import PIL\n",
    "import wandb"
   ]
  },
  {
   "cell_type": "code",
   "execution_count": 2,
   "metadata": {},
   "outputs": [],
   "source": [
    "device = torch.device(\"cuda:0\" if torch.cuda.is_available() else \"cpu\")"
   ]
  },
  {
   "cell_type": "code",
   "execution_count": 3,
   "metadata": {},
   "outputs": [
    {
     "data": {
      "text/plain": [
       "device(type='cuda', index=0)"
      ]
     },
     "execution_count": 3,
     "metadata": {},
     "output_type": "execute_result"
    }
   ],
   "source": [
    "device"
   ]
  },
  {
   "cell_type": "code",
   "execution_count": 4,
   "metadata": {},
   "outputs": [],
   "source": [
    "csv_file = pd.read_csv('../../files/train_ship_segmentations_v2.csv')\n",
    "csv_file = csv_file.groupby('ImageId')['EncodedPixels'].apply(list).reset_index()\n",
    "image_ids, pixels = csv_file['ImageId'].values.tolist(), csv_file['EncodedPixels'].values.tolist()"
   ]
  },
  {
   "cell_type": "code",
   "execution_count": 5,
   "metadata": {},
   "outputs": [],
   "source": [
    "csv_file['fixed_inputs'] = csv_file['ImageId'].apply(lambda x: '../../files/train_v2/' + x)\n",
    "csv_file['mask_paths'] = csv_file['ImageId'].apply(lambda x: '../../files/masks_v1/train/' + x.split('.')[0] + '.' + 'png')"
   ]
  },
  {
   "cell_type": "code",
   "execution_count": 6,
   "metadata": {},
   "outputs": [],
   "source": [
    "csv_file['fixed_inputs'] = csv_file['ImageId'].apply(lambda x: '../../files/train_v2/' + x)\n",
    "csv_file['mask_paths'] = csv_file['ImageId'].apply(lambda x: '../../files/masks_v1/train/' + x.split('.')[0] + '.' + 'png')"
   ]
  },
  {
   "cell_type": "code",
   "execution_count": 7,
   "metadata": {},
   "outputs": [
    {
     "name": "stderr",
     "output_type": "stream",
     "text": [
      "100%|██████████| 192556/192556 [00:00<00:00, 423318.74it/s]\n"
     ]
    }
   ],
   "source": [
    "for x in tqdm(csv_file['fixed_inputs'].values.tolist()):\n",
    "    if os.path.exists(x) == False:\n",
    "        print(x)"
   ]
  },
  {
   "cell_type": "code",
   "execution_count": 8,
   "metadata": {},
   "outputs": [
    {
     "name": "stderr",
     "output_type": "stream",
     "text": [
      "100%|██████████| 192556/192556 [00:00<00:00, 401489.76it/s]\n"
     ]
    }
   ],
   "source": [
    "for x in tqdm(csv_file['mask_paths'].values.tolist()):\n",
    "    if os.path.exists(x) == False:\n",
    "        print(x)"
   ]
  },
  {
   "cell_type": "code",
   "execution_count": 9,
   "metadata": {},
   "outputs": [
    {
     "data": {
      "text/plain": [
       "'../../files/train_v2/00003e153.jpg'"
      ]
     },
     "execution_count": 9,
     "metadata": {},
     "output_type": "execute_result"
    }
   ],
   "source": [
    "csv_file['fixed_inputs'].values.tolist()[0]"
   ]
  },
  {
   "cell_type": "code",
   "execution_count": 10,
   "metadata": {},
   "outputs": [],
   "source": [
    "csv_file = csv_file[csv_file['fixed_inputs'] != '../../files/train_v2/6384c3e78.jpg']"
   ]
  },
  {
   "cell_type": "code",
   "execution_count": 11,
   "metadata": {},
   "outputs": [],
   "source": [
    "def split_datasets(csv_file, test_size = 0.01):\n",
    "    train, test = train_test_split(csv_file, test_size = test_size, random_state=42)\n",
    "    train, val = train_test_split(train, test_size = test_size, random_state=42)\n",
    "    return train, val, test"
   ]
  },
  {
   "cell_type": "code",
   "execution_count": 12,
   "metadata": {},
   "outputs": [],
   "source": [
    "train, val, test = split_datasets(csv_file)"
   ]
  },
  {
   "cell_type": "code",
   "execution_count": 13,
   "metadata": {},
   "outputs": [],
   "source": [
    "class Version1Dataset(Dataset):\n",
    "    def __init__(self, csv_file):\n",
    "        self.input_images = csv_file['fixed_inputs'].values\n",
    "        self.mask_images = csv_file['mask_paths'].values\n",
    "    \n",
    "    def __len__(self):\n",
    "        return len(self.input_images)\n",
    "    \n",
    "    def __getitem__(self, idx):\n",
    "        img = torchvision.io.read_file(self.input_images[idx])\n",
    "        img = torchvision.io.decode_jpeg(img, torchvision.io.ImageReadMode.RGB)\n",
    "        mask = torchvision.io.read_file(self.mask_images[idx])\n",
    "        mask = torchvision.io.decode_image(mask, torchvision.io.ImageReadMode.GRAY)\n",
    "        img = torchvision.transforms.Resize((512, 512))(img)\n",
    "        mask = torchvision.transforms.Resize((512, 512))(mask)\n",
    "        img = img / 255\n",
    "        mask = mask / 255\n",
    "        return img, mask"
   ]
  },
  {
   "cell_type": "code",
   "execution_count": 14,
   "metadata": {},
   "outputs": [],
   "source": [
    "train_dataset = Version1Dataset(train)\n",
    "train_dataloader = DataLoader(train_dataset, shuffle = True, batch_size = 32)"
   ]
  },
  {
   "cell_type": "code",
   "execution_count": 15,
   "metadata": {},
   "outputs": [],
   "source": [
    "def get_model():\n",
    "    model = smp.Unet(\n",
    "        encoder_name=\"inceptionv4\",\n",
    "        encoder_weights=None,\n",
    "        in_channels=3,             \n",
    "        classes=1,                \n",
    "    )\n",
    "    return model"
   ]
  },
  {
   "cell_type": "code",
   "execution_count": 16,
   "metadata": {},
   "outputs": [],
   "source": [
    "# create loss, optimizer and other stuff"
   ]
  },
  {
   "cell_type": "code",
   "execution_count": 17,
   "metadata": {},
   "outputs": [],
   "source": [
    "# Loss function\n",
    "def dice_bce_loss(inputs, targets, smooth = 1e-5):\n",
    "    # remove if your model inherently handles sigmoid\n",
    "    number_of_pixels = inputs.shape[0] * (512 * 512 * 3)\n",
    "    sigmoid = nn.Sigmoid()\n",
    "    inputs = sigmoid(inputs)\n",
    "    inputs = inputs.view(-1)\n",
    "    targets = targets.view(-1)\n",
    "    intersection = (inputs * targets).sum()\n",
    "    dice_loss = (2. * intersection + smooth) / (inputs.sum() + targets.sum() + smooth)\n",
    "    dice_loss = 1 - dice_loss\n",
    "    # Pixel wise log loss is calculated not number of images\n",
    "    # I checked reduce by mean is correct measure.\n",
    "    BCE = nn.functional.binary_cross_entropy(inputs, targets, reduce='mean')\n",
    "    final = dice_loss + BCE\n",
    "    return final, number_of_pixels"
   ]
  },
  {
   "cell_type": "code",
   "execution_count": 18,
   "metadata": {},
   "outputs": [],
   "source": [
    "# IOU metric\n",
    "# SMOOTH = 1e-5\n",
    "def iou_score(inputs, targets, smooth=1e-5):\n",
    "    inputs = (inputs > 0.5).float()\n",
    "    inputs = inputs.view(-1)\n",
    "    targets = targets.view(-1)\n",
    "    intersection = torch.sum(inputs * targets)\n",
    "    unioun = torch.sum(inputs + targets) - intersection\n",
    "    # TP = torch.sum(torch.logical_and(inputs == 1, targets == 1))\n",
    "    # FP = torch.sum(torch.logical_and(inputs == 1, targets == 0))\n",
    "    # FN = torch.sum(torch.logical_and(inputs == 0, targets == 1))\n",
    "    iou = (intersection + smooth) / (unioun + smooth)\n",
    "    return iou"
   ]
  },
  {
   "cell_type": "code",
   "execution_count": null,
   "metadata": {},
   "outputs": [],
   "source": []
  },
  {
   "cell_type": "code",
   "execution_count": 19,
   "metadata": {},
   "outputs": [],
   "source": [
    "# gather_datasets\n",
    "train_dataset = Version1Dataset(train)\n",
    "train_dataloader = DataLoader(train_dataset, shuffle = True, batch_size = 88, num_workers=24, prefetch_factor=2)\n",
    "val_dataset = Version1Dataset(val)\n",
    "val_dataloader = DataLoader(val_dataset, shuffle = False, batch_size = 128)\n",
    "test_dataset = Version1Dataset(test)\n",
    "test_dataloader = DataLoader(test_dataset, shuffle = False, batch_size = 128)"
   ]
  },
  {
   "cell_type": "code",
   "execution_count": 20,
   "metadata": {},
   "outputs": [
    {
     "data": {
      "text/plain": [
       "2145"
      ]
     },
     "execution_count": 20,
     "metadata": {},
     "output_type": "execute_result"
    }
   ],
   "source": [
    "len(train_dataloader)"
   ]
  },
  {
   "cell_type": "code",
   "execution_count": 21,
   "metadata": {},
   "outputs": [],
   "source": [
    "train_image_size = 1000 * (512 * 512 * 3)\n",
    "val_image_size = len(val) * (512 * 512 * 3)\n",
    "train_batches = len(train_dataloader)\n",
    "val_batches = len(val_dataloader)"
   ]
  },
  {
   "cell_type": "code",
   "execution_count": 22,
   "metadata": {},
   "outputs": [],
   "source": [
    "# model = nn.DataParallel(model, device_ids=[0, 1, 2, 3, 4])"
   ]
  },
  {
   "cell_type": "code",
   "execution_count": 23,
   "metadata": {},
   "outputs": [],
   "source": [
    "# x = torch.rand((32, 512, 512, 3)).to(device)"
   ]
  },
  {
   "cell_type": "code",
   "execution_count": 24,
   "metadata": {},
   "outputs": [],
   "source": [
    "# next(model.parameters()).is_cuda"
   ]
  },
  {
   "cell_type": "code",
   "execution_count": 25,
   "metadata": {},
   "outputs": [],
   "source": [
    "# model(x)"
   ]
  },
  {
   "cell_type": "code",
   "execution_count": 26,
   "metadata": {},
   "outputs": [],
   "source": [
    "def train_model(model, train_dataset, val_dataset, epochs = 10):\n",
    "    data_pointers = {\n",
    "        'train': train_dataset,\n",
    "        'val': val_dataset\n",
    "    }\n",
    "    optimizer = optim.SGD(model.parameters(), lr=0.001)\n",
    "    if next(model.parameters()).is_cuda == False:\n",
    "        # model = nn.DataParallel(model)\n",
    "        model = model.to(device)\n",
    "    for epoch in range(epochs):\n",
    "        for phase in ['train', 'val']:\n",
    "            if phase == 'train':\n",
    "                model.train() # set model to train phase\n",
    "            else:\n",
    "                model.eval() # set model to eval phase\n",
    "            running_loss = 0.0\n",
    "            running_iou = 0.0\n",
    "            # TODO: Implement IOU score as metric\n",
    "            count = 0\n",
    "            for imgs, labels in tqdm(data_pointers[phase]):\n",
    "                imgs = imgs.to(device)\n",
    "                labels = labels.to(device)\n",
    "\n",
    "                # init optimizer\n",
    "                optimizer.zero_grad()\n",
    "\n",
    "                with torch.set_grad_enabled(phase=='train'):\n",
    "                    outputs = model(imgs)\n",
    "                    loss, _ = dice_bce_loss(outputs, labels)\n",
    "                    # iou = iou_score(outputs, labels)\n",
    "                    if phase == 'train':\n",
    "                        loss.backward()\n",
    "                        optimizer.step()\n",
    "                running_loss += loss.item()\n",
    "                # running_iou += iou \n",
    "                # if count % 10 == 0:\n",
    "                #     print(count)\n",
    "                # count += 1\n",
    "\n",
    "            if phase == 'train':\n",
    "                epoch_loss = running_loss / train_batches\n",
    "                # epoch_iou = running_iou / train_batches\n",
    "            else:\n",
    "                epoch_loss = running_loss / val_batches\n",
    "                # epoch_iou = running_iou / val_batches\n",
    "            print(f'{phase} Loss: {float(epoch_loss)}')\n",
    "            print(f'{phase} IOU: {float(epoch_iou)}')\n",
    "        if epoch == 2:\n",
    "            break"
   ]
  },
  {
   "cell_type": "code",
   "execution_count": 27,
   "metadata": {},
   "outputs": [],
   "source": [
    "# train_model(model, train_dataloader, val_dataloader)"
   ]
  },
  {
   "cell_type": "markdown",
   "metadata": {},
   "source": [
    "Data augmentation with some changes in code base"
   ]
  },
  {
   "cell_type": "code",
   "execution_count": 28,
   "metadata": {},
   "outputs": [],
   "source": [
    "def get_positive_samples(csv_file):\n",
    "    sample_list = []\n",
    "    for x in csv_file['EncodedPixels'].values.tolist():\n",
    "        if type(x[0]) == str:\n",
    "            sample_list.append(1)\n",
    "        else:\n",
    "            sample_list.append(-1)\n",
    "    csv_file['sample_type'] = sample_list\n",
    "    return csv_file"
   ]
  },
  {
   "cell_type": "code",
   "execution_count": 29,
   "metadata": {},
   "outputs": [],
   "source": [
    "train_updated = get_positive_samples(train)"
   ]
  },
  {
   "cell_type": "code",
   "execution_count": 30,
   "metadata": {},
   "outputs": [],
   "source": [
    "class AugDataset(Dataset):\n",
    "    def __init__(self, csv_file):\n",
    "        self.input_images = csv_file['fixed_inputs'].values\n",
    "        self.mask_images = csv_file['mask_paths'].values\n",
    "        self.mask_type = csv_file['sample_type'].values\n",
    "        self.negative_index = np.where(self.mask_type == -1)[0]\n",
    "        self.brightness_factors = np.random.uniform(1.0, 2.0, size = len(csv_file))\n",
    "        self.contrast_factors = np.random.uniform(2.0, 3.5, size = len(csv_file))\n",
    "\n",
    "    def __len__(self):\n",
    "        return len(self.input_images)\n",
    "    \n",
    "    def change_every_epoch(self):\n",
    "        new_values = np.random.randint(0, 2, size=(self.__len__()))\n",
    "        new_values[self.negative_index] = -1\n",
    "        self.mask_type = new_values\n",
    "        self.brightness_factors = np.random.uniform(1.0, 2.0, size = self.__len__())\n",
    "        self.contrast_factors = np.random.uniform(2.0, 3.5, size = self.__len__())\n",
    "\n",
    "\n",
    "    def aug(self, img, mask, brightness_factor, contrast_factor):\n",
    "        img = torchvision.transforms.functional.hflip(img)\n",
    "        mask = torchvision.transforms.functional.hflip(mask)\n",
    "        img = torchvision.transforms.functional.adjust_brightness(img, brightness_factor)\n",
    "        img = torchvision.transforms.functional.adjust_contrast(img, contrast_factor)\n",
    "        return img, mask\n",
    "\n",
    "    def __getitem__(self, idx):\n",
    "        # All positive sample images will be augmented with \n",
    "        # flip horizontally\n",
    "        # adjusting brightness\n",
    "        # adjusting contrast\n",
    "        img = torchvision.io.read_file(self.input_images[idx])\n",
    "        img = torchvision.io.decode_jpeg(img)\n",
    "        mask = torchvision.io.read_file(self.mask_images[idx])\n",
    "        mask = torchvision.io.decode_image(mask)\n",
    "        if self.mask_type[idx] != -1:\n",
    "            if self.mask_type[idx] == 1:\n",
    "                img, mask = self.aug(img, mask, self.brightness_factors[idx], self.contrast_factors[idx])\n",
    "        img = torchvision.transforms.functional.resize(img, (512, 512))\n",
    "        mask = torchvision.transforms.functional.resize(mask, (512, 512))\n",
    "        img = img / 255\n",
    "        mask = mask / 255\n",
    "        mask = torch.where(mask < 1.0, 0.0, 1.0)\n",
    "        return img, mask"
   ]
  },
  {
   "cell_type": "code",
   "execution_count": 31,
   "metadata": {},
   "outputs": [],
   "source": [
    "# data = AugDataset(train)\n",
    "# train_loader = DataLoader(data, shuffle=False)\n",
    "# img_1 = train_loader.dataset.__getitem__(6)\n",
    "# train_loader.dataset.change_every_epoch()\n",
    "# train_loader = DataLoader(data, shuffle=False)\n",
    "# img_2 = train_loader.dataset.__getitem__(6)"
   ]
  },
  {
   "cell_type": "code",
   "execution_count": 32,
   "metadata": {},
   "outputs": [],
   "source": [
    "# def train_model(model, train_dataset, val_dataset, weights_path, load_weights = None, epochs = 100):\n",
    "#     # If fails reduce protobuf to lower version pip install protobuf==3.19\n",
    "#     wandb.init(project='ship-segmentation-pytorch-wb',\n",
    "#                config = {\n",
    "#                    'arch' : 'Unet- Incepv4',\n",
    "#                    'epochs' : 10\n",
    "#                }\n",
    "#                )\n",
    "#     data_pointers = {\n",
    "#         'train': train_dataset,\n",
    "#         'val': val_dataset\n",
    "#     }\n",
    "#     model = get_model()\n",
    "#     if load_weights != None:\n",
    "#         model.load_state_dict(torch.load(load_weights))\n",
    "#     optimizer = optim.SGD(model.parameters(), lr=0.001)\n",
    "#     if next(model.parameters()).is_cuda == False:\n",
    "#         model = nn.DataParallel(model)\n",
    "#         model = model.to(device)\n",
    "#     for epoch in range(epochs):\n",
    "#         for phase in ['train', 'val']:\n",
    "#             if phase == 'train':\n",
    "#                 model.train() # set model to train phase\n",
    "#             else:\n",
    "#                 model.eval() # set model to eval phase\n",
    "#             running_loss = 0.0\n",
    "#             running_iou = 0.0\n",
    "#             # TODO: Implement IOU score as metric\n",
    "#             count = 0\n",
    "#             for imgs, labels in tqdm(data_pointers[phase]):\n",
    "#                 imgs = imgs.to(device)\n",
    "#                 labels = labels.to(device)\n",
    "\n",
    "#                 # init optimizer\n",
    "#                 optimizer.zero_grad()\n",
    "\n",
    "#                 with torch.set_grad_enabled(phase=='train'):\n",
    "#                     outputs = model(imgs)\n",
    "#                     loss, _ = dice_bce_loss(outputs, labels)\n",
    "#                     iou = iou_score(outputs, labels)\n",
    "#                     if phase == 'train':\n",
    "#                         loss.backward()\n",
    "#                         optimizer.step()\n",
    "#                 running_loss += loss.item()\n",
    "#                 running_iou += iou \n",
    "#                 # if count % 10 == 0:\n",
    "#                 #     print(count)\n",
    "#                 # count += 1\n",
    "\n",
    "#             if phase == 'train':\n",
    "#                 epoch_loss = running_loss / len(train_dataset)\n",
    "#                 epoch_iou = running_iou / len(train_dataset)\n",
    "#                 wandb.log(\n",
    "#                     {'epoch_loss' : epoch_loss,\n",
    "#                     'epoch_iou' : epoch_iou}\n",
    "#                 )\n",
    "#             else:\n",
    "#                 epoch_loss = running_loss / len(val_dataset)\n",
    "#                 epoch_iou = running_iou / len(val_dataset)\n",
    "#                 wandb.log(\n",
    "#                     {'val_epoch_loss' : epoch_loss,\n",
    "#                     'val_epoch_iou' : epoch_iou}\n",
    "#                 )\n",
    "#             print(f'{phase} Loss: {float(epoch_loss)}')\n",
    "#             print(f'{phase} IOU: {float(epoch_iou)}')\n",
    "#         train_dataset.dataset.change_every_epoch()\n",
    "#         if os.path.exists(weights_path) == False:\n",
    "#             os.makedirs(weights_path)\n",
    "#         # torch.save(model.state_dict(), f'{weights_path}{epoch}.pth')\n",
    "#         torch.save({\n",
    "#             'epoch': epoch,\n",
    "#             'model_state_dict': model.state_dict(),\n",
    "#             'optimizer_state_dict': optimizer.state_dict(),\n",
    "#             'loss': loss\n",
    "#         }, f'{weights_path}{epoch}.pth')\n",
    "#         # if epoch == 2:\n",
    "#         #     break"
   ]
  },
  {
   "cell_type": "code",
   "execution_count": 33,
   "metadata": {},
   "outputs": [],
   "source": [
    "# # gather_datasets\n",
    "# train_dataset = AugDataset(train_updated)\n",
    "# train_dataloader = DataLoader(train_dataset, shuffle = True, batch_size = 280, num_workers=120, prefetch_factor=4)\n",
    "# val_dataset = Version1Dataset(val)\n",
    "# val_dataloader = DataLoader(val_dataset, shuffle = False, batch_size = 64)\n",
    "# test_dataset = Version1Dataset(test)\n",
    "# test_dataloader = DataLoader(test_dataset, shuffle = False, batch_size = 64)"
   ]
  },
  {
   "cell_type": "code",
   "execution_count": 34,
   "metadata": {},
   "outputs": [],
   "source": [
    "# gather_datasets\n",
    "train_batch_size = 240\n",
    "num_workers = 120\n",
    "train_dataset = AugDataset(train_updated)\n",
    "train_dataloader = DataLoader(train_dataset, shuffle = True, batch_size = train_batch_size, num_workers=num_workers, prefetch_factor=4)\n",
    "val_dataset = Version1Dataset(val)\n",
    "val_dataloader = DataLoader(val_dataset, shuffle = False, batch_size = 64)\n",
    "test_dataset = Version1Dataset(test)\n",
    "test_dataloader = DataLoader(test_dataset, shuffle = False, batch_size = 64)"
   ]
  },
  {
   "cell_type": "code",
   "execution_count": 35,
   "metadata": {},
   "outputs": [],
   "source": [
    "def train_model(model, train_dataset, val_dataset, weights_path, train_batch_size, num_workers, load_weights = None, epochs = 2):\n",
    "    # If fails reduce protobuf to lower version pip install protobuf==3.19\n",
    "    wandb.init(project='ship-segmentation-pytorch-wb',\n",
    "               config = {\n",
    "                   'arch' : 'Unet- Incepv4',\n",
    "                   'epochs' : epochs,\n",
    "                   'where_weights_stored' : weights_path,\n",
    "                   'weights_loaded': False if load_weights == None else load_weights,\n",
    "                   'optimizer' : 'SGD',\n",
    "                   'lr_schdular' : False,\n",
    "                   'Data augmentation' : True,\n",
    "                   'batch_size': train_batch_size,\n",
    "                   'num_workers' : num_workers\n",
    "               }\n",
    "               )\n",
    "    data_pointers = {\n",
    "        'train': train_dataset,\n",
    "        'val': val_dataset\n",
    "    }\n",
    "    model = get_model()\n",
    "    if load_weights != None:\n",
    "        model.load_state_dict(torch.load(load_weights))\n",
    "    optimizer = optim.SGD(model.parameters(), lr=0.001)\n",
    "    if next(model.parameters()).is_cuda == False:\n",
    "        model = nn.DataParallel(model)\n",
    "        model = model.to(device)\n",
    "    for epoch in range(epochs):\n",
    "        for phase in ['train', 'val']:\n",
    "            if phase == 'train':\n",
    "                model.train() # set model to train phase\n",
    "            else:\n",
    "                model.eval() # set model to eval phase\n",
    "            running_loss = 0.0\n",
    "            running_iou = 0.0\n",
    "            with tqdm(data_pointers[phase], unit='batch') as tepoch:\n",
    "                for imgs, labels in tepoch:\n",
    "                    tepoch.set_description(f'Epoch: {epoch}')\n",
    "                    imgs = imgs.to(device)\n",
    "                    labels = labels.to(device)\n",
    "                    optimizer.zero_grad()\n",
    "                    with torch.set_grad_enabled(phase=='train'):\n",
    "                        outputs = model(imgs)\n",
    "                        loss, _ = dice_bce_loss(outputs, labels)\n",
    "                        iou = iou_score(outputs, labels)\n",
    "                        if phase == 'train':\n",
    "                            loss.backward()\n",
    "                            optimizer.step()\n",
    "                    running_loss += loss.item()\n",
    "                    running_iou += iou.item()\n",
    "                    tepoch.set_postfix(loss = loss.item(), iou = iou.item())\n",
    "            # Please remove wandb.log and put it outside of this scope. Make sure every epoch run only one time.\n",
    "            if phase == 'train':\n",
    "                epoch_loss = running_loss / len(train_dataset)\n",
    "                epoch_iou = running_iou / len(train_dataset)\n",
    "                wandb.log(\n",
    "                    {'epoch_loss' : epoch_loss,\n",
    "                    'epoch_iou' : epoch_iou}\n",
    "                )\n",
    "            else:\n",
    "                epoch_loss = running_loss / len(val_dataset)\n",
    "                epoch_iou = running_iou / len(val_dataset)\n",
    "                wandb.log(\n",
    "                    {'val_epoch_loss' : epoch_loss,\n",
    "                    'val_epoch_iou' : epoch_iou}\n",
    "                )\n",
    "            print(f'{phase} Loss: {float(epoch_loss)}')\n",
    "            print(f'{phase} IOU: {float(epoch_iou)}')\n",
    "        train_dataset.dataset.change_every_epoch()\n",
    "        if os.path.exists(weights_path) == False:\n",
    "            os.makedirs(weights_path)\n",
    "        # Please refer this link for saving and loading models\n",
    "        # Link: https://pytorch.org/tutorials/beginner/saving_loading_models.html\n",
    "        torch.save({\n",
    "            'epoch': epoch,\n",
    "            # Please change this..... if you are using single GPU to model.state_dict().\n",
    "            'model_state_dict': model.module.state_dict(),\n",
    "            'optimizer_state_dict': optimizer.state_dict(),\n",
    "            'loss': loss\n",
    "        }, f'{weights_path}{epoch}.pth')"
   ]
  },
  {
   "cell_type": "code",
   "execution_count": 36,
   "metadata": {},
   "outputs": [
    {
     "name": "stderr",
     "output_type": "stream",
     "text": [
      "Failed to detect the name of this notebook, you can set it manually with the WANDB_NOTEBOOK_NAME environment variable to enable code saving.\n",
      "\u001b[34m\u001b[1mwandb\u001b[0m: Currently logged in as: \u001b[33myashchks87\u001b[0m. Use \u001b[1m`wandb login --relogin`\u001b[0m to force relogin\n"
     ]
    },
    {
     "data": {
      "text/html": [
       "Tracking run with wandb version 0.15.5"
      ],
      "text/plain": [
       "<IPython.core.display.HTML object>"
      ]
     },
     "metadata": {},
     "output_type": "display_data"
    },
    {
     "data": {
      "text/html": [
       "Run data is saved locally in <code>/home/ubuntu/ship_segmentation/notebooks/wandb/run-20230717_220544-mtf5hcgw</code>"
      ],
      "text/plain": [
       "<IPython.core.display.HTML object>"
      ]
     },
     "metadata": {},
     "output_type": "display_data"
    },
    {
     "data": {
      "text/html": [
       "Syncing run <strong><a href='https://wandb.ai/yashchks87/ship-segmentation-pytorch-wb/runs/mtf5hcgw' target=\"_blank\">pleasant-lake-38</a></strong> to <a href='https://wandb.ai/yashchks87/ship-segmentation-pytorch-wb' target=\"_blank\">Weights & Biases</a> (<a href='https://wandb.me/run' target=\"_blank\">docs</a>)<br/>"
      ],
      "text/plain": [
       "<IPython.core.display.HTML object>"
      ]
     },
     "metadata": {},
     "output_type": "display_data"
    },
    {
     "data": {
      "text/html": [
       " View project at <a href='https://wandb.ai/yashchks87/ship-segmentation-pytorch-wb' target=\"_blank\">https://wandb.ai/yashchks87/ship-segmentation-pytorch-wb</a>"
      ],
      "text/plain": [
       "<IPython.core.display.HTML object>"
      ]
     },
     "metadata": {},
     "output_type": "display_data"
    },
    {
     "data": {
      "text/html": [
       " View run at <a href='https://wandb.ai/yashchks87/ship-segmentation-pytorch-wb/runs/mtf5hcgw' target=\"_blank\">https://wandb.ai/yashchks87/ship-segmentation-pytorch-wb/runs/mtf5hcgw</a>"
      ],
      "text/plain": [
       "<IPython.core.display.HTML object>"
      ]
     },
     "metadata": {},
     "output_type": "display_data"
    },
    {
     "name": "stderr",
     "output_type": "stream",
     "text": [
      "Epoch: 0:   0%|          | 0/787 [00:50<?, ?batch/s]/usr/lib/python3/dist-packages/torch/nn/_reduction.py:42: UserWarning: size_average and reduce args will be deprecated, please use reduction='mean' instead.\n",
      "  warnings.warn(warning.format(ret))\n",
      "Epoch: 0: 100%|██████████| 787/787 [16:47<00:00,  1.28s/batch, iou=4.61e-10, loss=1.06]  \n"
     ]
    },
    {
     "name": "stdout",
     "output_type": "stream",
     "text": [
      "train Loss: 1.154797849994451\n",
      "train IOU: 0.00047935742841316727\n"
     ]
    },
    {
     "name": "stderr",
     "output_type": "stream",
     "text": [
      "Epoch: 0: 100%|██████████| 30/30 [01:03<00:00,  2.13s/batch, iou=6.94e-10, loss=1.06]\n"
     ]
    },
    {
     "name": "stdout",
     "output_type": "stream",
     "text": [
      "val Loss: 1.059402048587799\n",
      "val IOU: 5.194180742925288e-10\n"
     ]
    },
    {
     "name": "stderr",
     "output_type": "stream",
     "text": [
      "Epoch: 1: 100%|██████████| 787/787 [15:04<00:00,  1.15s/batch, iou=6.91e-10, loss=1.03] \n"
     ]
    },
    {
     "name": "stdout",
     "output_type": "stream",
     "text": [
      "train Loss: 1.0437772743583786\n",
      "train IOU: 1.259647800058385e-07\n"
     ]
    },
    {
     "name": "stderr",
     "output_type": "stream",
     "text": [
      "Epoch: 1: 100%|██████████| 30/30 [01:01<00:00,  2.05s/batch, iou=6.94e-10, loss=1.03]\n"
     ]
    },
    {
     "name": "stdout",
     "output_type": "stream",
     "text": [
      "val Loss: 1.0297101060549418\n",
      "val IOU: 5.194511395097597e-10\n"
     ]
    },
    {
     "name": "stderr",
     "output_type": "stream",
     "text": [
      "Epoch: 2: 100%|██████████| 787/787 [14:29<00:00,  1.10s/batch, iou=5.28e-10, loss=1.02]\n"
     ]
    },
    {
     "name": "stdout",
     "output_type": "stream",
     "text": [
      "train Loss: 1.0262706759924205\n",
      "train IOU: 2.0306791644979353e-08\n"
     ]
    },
    {
     "name": "stderr",
     "output_type": "stream",
     "text": [
      "Epoch: 2: 100%|██████████| 30/30 [01:00<00:00,  2.02s/batch, iou=6.94e-10, loss=1.02]\n"
     ]
    },
    {
     "name": "stdout",
     "output_type": "stream",
     "text": [
      "val Loss: 1.0211864471435548\n",
      "val IOU: 5.194511395097597e-10\n"
     ]
    },
    {
     "name": "stderr",
     "output_type": "stream",
     "text": [
      "Epoch: 3: 100%|██████████| 787/787 [14:52<00:00,  1.13s/batch, iou=3.56e-10, loss=1.02] \n"
     ]
    },
    {
     "name": "stdout",
     "output_type": "stream",
     "text": [
      "train Loss: 1.018673309680013\n",
      "train IOU: 1.596524331098667e-10\n"
     ]
    },
    {
     "name": "stderr",
     "output_type": "stream",
     "text": [
      "Epoch: 3: 100%|██████████| 30/30 [00:57<00:00,  1.90s/batch, iou=6.94e-10, loss=1.02]\n"
     ]
    },
    {
     "name": "stdout",
     "output_type": "stream",
     "text": [
      "val Loss: 1.016065486272176\n",
      "val IOU: 5.194511395097597e-10\n"
     ]
    },
    {
     "name": "stderr",
     "output_type": "stream",
     "text": [
      "Epoch: 4: 100%|██████████| 787/787 [14:43<00:00,  1.12s/batch, iou=3.31e-10, loss=1.01] \n"
     ]
    },
    {
     "name": "stdout",
     "output_type": "stream",
     "text": [
      "train Loss: 1.0139154781986222\n",
      "train IOU: 1.588845461998719e-10\n"
     ]
    },
    {
     "name": "stderr",
     "output_type": "stream",
     "text": [
      "Epoch: 4: 100%|██████████| 30/30 [00:50<00:00,  1.68s/batch, iou=6.94e-10, loss=1.01]\n"
     ]
    },
    {
     "name": "stdout",
     "output_type": "stream",
     "text": [
      "val Loss: 1.0110196987787883\n",
      "val IOU: 5.194511395097597e-10\n"
     ]
    },
    {
     "name": "stderr",
     "output_type": "stream",
     "text": [
      "Epoch: 5: 100%|██████████| 787/787 [15:05<00:00,  1.15s/batch, iou=3.7e-10, loss=1.01]  \n"
     ]
    },
    {
     "name": "stdout",
     "output_type": "stream",
     "text": [
      "train Loss: 1.009134249584193\n",
      "train IOU: 1.5959625252730314e-10\n"
     ]
    },
    {
     "name": "stderr",
     "output_type": "stream",
     "text": [
      "Epoch: 5: 100%|██████████| 30/30 [01:02<00:00,  2.09s/batch, iou=6.94e-10, loss=1.01]\n"
     ]
    },
    {
     "name": "stdout",
     "output_type": "stream",
     "text": [
      "val Loss: 1.0102710167566935\n",
      "val IOU: 5.194511395097597e-10\n"
     ]
    },
    {
     "name": "stderr",
     "output_type": "stream",
     "text": [
      "Epoch: 6: 100%|██████████| 787/787 [16:03<00:00,  1.22s/batch, iou=3.66e-10, loss=0.991]\n"
     ]
    },
    {
     "name": "stdout",
     "output_type": "stream",
     "text": [
      "train Loss: 0.9988958101714884\n",
      "train IOU: 1.5943512421627063e-10\n"
     ]
    },
    {
     "name": "stderr",
     "output_type": "stream",
     "text": [
      "Epoch: 6: 100%|██████████| 30/30 [01:04<00:00,  2.15s/batch, iou=6.94e-10, loss=1.01] \n"
     ]
    },
    {
     "name": "stdout",
     "output_type": "stream",
     "text": [
      "val Loss: 1.0073349893093109\n",
      "val IOU: 5.194507490813294e-10\n"
     ]
    },
    {
     "name": "stderr",
     "output_type": "stream",
     "text": [
      "Epoch: 7: 100%|██████████| 787/787 [15:48<00:00,  1.21s/batch, iou=6.03e-10, loss=0.966] \n"
     ]
    },
    {
     "name": "stdout",
     "output_type": "stream",
     "text": [
      "train Loss: 0.9712136419634353\n",
      "train IOU: 1.6018686380877134e-10\n"
     ]
    },
    {
     "name": "stderr",
     "output_type": "stream",
     "text": [
      "Epoch: 7: 100%|██████████| 30/30 [01:03<00:00,  2.10s/batch, iou=6.94e-10, loss=1]    \n"
     ]
    },
    {
     "name": "stdout",
     "output_type": "stream",
     "text": [
      "val Loss: 0.9902433613936107\n",
      "val IOU: 5.194511395097597e-10\n"
     ]
    },
    {
     "name": "stderr",
     "output_type": "stream",
     "text": [
      "Epoch: 8: 100%|██████████| 787/787 [14:38<00:00,  1.12s/batch, iou=8.51e-10, loss=0.927]\n"
     ]
    },
    {
     "name": "stdout",
     "output_type": "stream",
     "text": [
      "train Loss: 0.921319494480705\n",
      "train IOU: 1.59657424184835e-10\n"
     ]
    },
    {
     "name": "stderr",
     "output_type": "stream",
     "text": [
      "Epoch: 8: 100%|██████████| 30/30 [00:55<00:00,  1.84s/batch, iou=6.94e-10, loss=0.987]\n"
     ]
    },
    {
     "name": "stdout",
     "output_type": "stream",
     "text": [
      "val Loss: 0.9170106669267019\n",
      "val IOU: 5.194511395097597e-10\n"
     ]
    },
    {
     "name": "stderr",
     "output_type": "stream",
     "text": [
      "Epoch: 9: 100%|██████████| 787/787 [15:12<00:00,  1.16s/batch, iou=5.04e-10, loss=0.915]\n"
     ]
    },
    {
     "name": "stdout",
     "output_type": "stream",
     "text": [
      "train Loss: 0.830247030930719\n",
      "train IOU: 1.5972922751509382e-10\n"
     ]
    },
    {
     "name": "stderr",
     "output_type": "stream",
     "text": [
      "Epoch: 9: 100%|██████████| 30/30 [01:04<00:00,  2.15s/batch, iou=6.94e-10, loss=0.933]\n"
     ]
    },
    {
     "name": "stdout",
     "output_type": "stream",
     "text": [
      "val Loss: 0.845662393172582\n",
      "val IOU: 5.194511395097597e-10\n"
     ]
    },
    {
     "name": "stderr",
     "output_type": "stream",
     "text": [
      "Epoch: 10: 100%|██████████| 787/787 [16:07<00:00,  1.23s/batch, iou=3.59e-10, loss=0.86]  \n"
     ]
    },
    {
     "name": "stdout",
     "output_type": "stream",
     "text": [
      "train Loss: 0.763179057283656\n",
      "train IOU: 1.5944791700618148e-10\n"
     ]
    },
    {
     "name": "stderr",
     "output_type": "stream",
     "text": [
      "Epoch: 10: 100%|██████████| 30/30 [01:04<00:00,  2.14s/batch, iou=6.94e-10, loss=0.711]\n"
     ]
    },
    {
     "name": "stdout",
     "output_type": "stream",
     "text": [
      "val Loss: 0.751601121822993\n",
      "val IOU: 5.194511395097597e-10\n"
     ]
    },
    {
     "name": "stderr",
     "output_type": "stream",
     "text": [
      "Epoch: 11: 100%|██████████| 787/787 [15:55<00:00,  1.21s/batch, iou=3.95e-10, loss=0.704] \n"
     ]
    },
    {
     "name": "stdout",
     "output_type": "stream",
     "text": [
      "train Loss: 0.7155984892324087\n",
      "train IOU: 1.5938118125506166e-10\n"
     ]
    },
    {
     "name": "stderr",
     "output_type": "stream",
     "text": [
      "Epoch: 11: 100%|██████████| 30/30 [01:04<00:00,  2.15s/batch, iou=6.94e-10, loss=0.672]\n"
     ]
    },
    {
     "name": "stdout",
     "output_type": "stream",
     "text": [
      "val Loss: 0.7100715835889181\n",
      "val IOU: 5.194511395097597e-10\n"
     ]
    },
    {
     "name": "stderr",
     "output_type": "stream",
     "text": [
      "Epoch: 12: 100%|██████████| 787/787 [14:43<00:00,  1.12s/batch, iou=4.4e-10, loss=0.614]  \n"
     ]
    },
    {
     "name": "stdout",
     "output_type": "stream",
     "text": [
      "train Loss: 0.6832775172163298\n",
      "train IOU: 1.5945522532785486e-10\n"
     ]
    },
    {
     "name": "stderr",
     "output_type": "stream",
     "text": [
      "Epoch: 12: 100%|██████████| 30/30 [00:57<00:00,  1.92s/batch, iou=6.94e-10, loss=0.594]\n"
     ]
    },
    {
     "name": "stdout",
     "output_type": "stream",
     "text": [
      "val Loss: 0.6775505284468333\n",
      "val IOU: 5.194511395097597e-10\n"
     ]
    },
    {
     "name": "stderr",
     "output_type": "stream",
     "text": [
      "Epoch: 13: 100%|██████████| 787/787 [15:08<00:00,  1.15s/batch, iou=6.07e-10, loss=0.609] \n"
     ]
    },
    {
     "name": "stdout",
     "output_type": "stream",
     "text": [
      "train Loss: 0.6487475935809949\n",
      "train IOU: 1.5916729131407776e-10\n"
     ]
    },
    {
     "name": "stderr",
     "output_type": "stream",
     "text": [
      "Epoch: 13: 100%|██████████| 30/30 [01:02<00:00,  2.08s/batch, iou=6.94e-10, loss=0.599]\n"
     ]
    },
    {
     "name": "stdout",
     "output_type": "stream",
     "text": [
      "val Loss: 0.6602074980735779\n",
      "val IOU: 5.194511395097597e-10\n"
     ]
    },
    {
     "name": "stderr",
     "output_type": "stream",
     "text": [
      "Epoch: 14:  60%|█████▉    | 469/787 [10:41<05:51,  1.11s/batch, iou=1.48e-10, loss=0.63]  "
     ]
    }
   ],
   "source": [
    "train_model(get_model(), train_dataloader, val_dataloader, '../../weights/torch_final_model_v2/', train_batch_size=train_batch_size, num_workers=num_workers, epochs=100)"
   ]
  },
  {
   "cell_type": "code",
   "execution_count": null,
   "metadata": {},
   "outputs": [],
   "source": []
  }
 ],
 "metadata": {
  "kernelspec": {
   "display_name": "base_env",
   "language": "python",
   "name": "base_env"
  },
  "language_info": {
   "codemirror_mode": {
    "name": "ipython",
    "version": 3
   },
   "file_extension": ".py",
   "mimetype": "text/x-python",
   "name": "python",
   "nbconvert_exporter": "python",
   "pygments_lexer": "ipython3",
   "version": "3.8.10"
  },
  "orig_nbformat": 4
 },
 "nbformat": 4,
 "nbformat_minor": 2
}
