{
 "cells": [
  {
   "cell_type": "code",
   "execution_count": 1,
   "metadata": {},
   "outputs": [
    {
     "name": "stderr",
     "output_type": "stream",
     "text": [
      "/home/ubuntu/.local/lib/python3.8/site-packages/pandas/core/computation/expressions.py:20: UserWarning: Pandas requires version '2.7.3' or newer of 'numexpr' (version '2.7.1' currently installed).\n",
      "  from pandas.core.computation.check import NUMEXPR_INSTALLED\n"
     ]
    }
   ],
   "source": [
    "import segmentation_models_pytorch as smp\n",
    "import torch\n",
    "import torchvision\n",
    "import numpy as np\n",
    "import pandas as pd\n",
    "from torch.utils.data import Dataset, DataLoader\n",
    "import os\n",
    "from tqdm import tqdm\n",
    "from sklearn.model_selection import train_test_split\n",
    "import torch.nn as nn\n",
    "import torch.functional as F\n",
    "import torch.optim as optim\n",
    "from torch.utils.data.distributed import DistributedSampler\n",
    "from torch.nn.parallel import DistributedDataParallel as DDP\n",
    "import PIL"
   ]
  },
  {
   "cell_type": "code",
   "execution_count": 2,
   "metadata": {},
   "outputs": [],
   "source": [
    "device = torch.device(\"cuda:0\" if torch.cuda.is_available() else \"cpu\")"
   ]
  },
  {
   "cell_type": "code",
   "execution_count": 3,
   "metadata": {},
   "outputs": [
    {
     "data": {
      "text/plain": [
       "device(type='cuda', index=0)"
      ]
     },
     "execution_count": 3,
     "metadata": {},
     "output_type": "execute_result"
    }
   ],
   "source": [
    "device"
   ]
  },
  {
   "cell_type": "code",
   "execution_count": 4,
   "metadata": {},
   "outputs": [],
   "source": [
    "csv_file = pd.read_csv('../../files/train_ship_segmentations_v2.csv')\n",
    "csv_file = csv_file.groupby('ImageId')['EncodedPixels'].apply(list).reset_index()\n",
    "image_ids, pixels = csv_file['ImageId'].values.tolist(), csv_file['EncodedPixels'].values.tolist()"
   ]
  },
  {
   "cell_type": "code",
   "execution_count": 5,
   "metadata": {},
   "outputs": [],
   "source": [
    "csv_file['fixed_inputs'] = csv_file['ImageId'].apply(lambda x: '../../files/train_v2/' + x)\n",
    "csv_file['mask_paths'] = csv_file['ImageId'].apply(lambda x: '../../files/masks_v1/train/' + x.split('.')[0] + '.' + 'png')"
   ]
  },
  {
   "cell_type": "code",
   "execution_count": 6,
   "metadata": {},
   "outputs": [],
   "source": [
    "csv_file['fixed_inputs'] = csv_file['ImageId'].apply(lambda x: '../../files/train_v2/' + x)\n",
    "csv_file['mask_paths'] = csv_file['ImageId'].apply(lambda x: '../../files/masks_v1/train/' + x.split('.')[0] + '.' + 'png')"
   ]
  },
  {
   "cell_type": "code",
   "execution_count": 7,
   "metadata": {},
   "outputs": [
    {
     "name": "stderr",
     "output_type": "stream",
     "text": [
      " 19%|█▉        | 36131/192556 [00:00<00:00, 361288.81it/s]"
     ]
    },
    {
     "name": "stderr",
     "output_type": "stream",
     "text": [
      "100%|██████████| 192556/192556 [00:00<00:00, 373269.34it/s]\n"
     ]
    }
   ],
   "source": [
    "for x in tqdm(csv_file['fixed_inputs'].values.tolist()):\n",
    "    if os.path.exists(x) == False:\n",
    "        print(x)"
   ]
  },
  {
   "cell_type": "code",
   "execution_count": 8,
   "metadata": {},
   "outputs": [
    {
     "name": "stderr",
     "output_type": "stream",
     "text": [
      "100%|██████████| 192556/192556 [00:00<00:00, 380953.42it/s]\n"
     ]
    }
   ],
   "source": [
    "for x in tqdm(csv_file['mask_paths'].values.tolist()):\n",
    "    if os.path.exists(x) == False:\n",
    "        print(x)"
   ]
  },
  {
   "cell_type": "code",
   "execution_count": 9,
   "metadata": {},
   "outputs": [
    {
     "data": {
      "text/plain": [
       "'../../files/train_v2/00003e153.jpg'"
      ]
     },
     "execution_count": 9,
     "metadata": {},
     "output_type": "execute_result"
    }
   ],
   "source": [
    "csv_file['fixed_inputs'].values.tolist()[0]"
   ]
  },
  {
   "cell_type": "code",
   "execution_count": 10,
   "metadata": {},
   "outputs": [],
   "source": [
    "csv_file = csv_file[csv_file['fixed_inputs'] != '../../files/train_v2/6384c3e78.jpg']"
   ]
  },
  {
   "cell_type": "code",
   "execution_count": 11,
   "metadata": {},
   "outputs": [],
   "source": [
    "def split_datasets(csv_file, test_size = 0.01):\n",
    "    train, test = train_test_split(csv_file, test_size = test_size, random_state=42)\n",
    "    train, val = train_test_split(train, test_size = test_size, random_state=42)\n",
    "    return train, val, test"
   ]
  },
  {
   "cell_type": "code",
   "execution_count": 12,
   "metadata": {},
   "outputs": [],
   "source": [
    "train, val, test = split_datasets(csv_file)"
   ]
  },
  {
   "cell_type": "code",
   "execution_count": 13,
   "metadata": {},
   "outputs": [],
   "source": [
    "class Version1Dataset(Dataset):\n",
    "    def __init__(self, csv_file):\n",
    "        self.input_images = csv_file['fixed_inputs'].values\n",
    "        self.mask_images = csv_file['mask_paths'].values\n",
    "    \n",
    "    def __len__(self):\n",
    "        return len(self.input_images)\n",
    "    \n",
    "    def __getitem__(self, idx):\n",
    "        img = torchvision.io.read_file(self.input_images[idx])\n",
    "        img = torchvision.io.decode_jpeg(img, torchvision.io.ImageReadMode.RGB)\n",
    "        mask = torchvision.io.read_file(self.mask_images[idx])\n",
    "        mask = torchvision.io.decode_image(mask, torchvision.io.ImageReadMode.GRAY)\n",
    "        img = torchvision.transforms.Resize((512, 512))(img)\n",
    "        mask = torchvision.transforms.Resize((512, 512))(mask)\n",
    "        img = img / 255\n",
    "        mask = mask / 255\n",
    "        return img, mask"
   ]
  },
  {
   "cell_type": "code",
   "execution_count": 14,
   "metadata": {},
   "outputs": [],
   "source": [
    "train_dataset = Version1Dataset(train)\n",
    "train_dataloader = DataLoader(train_dataset, shuffle = True, batch_size = 32)"
   ]
  },
  {
   "cell_type": "code",
   "execution_count": 14,
   "metadata": {},
   "outputs": [],
   "source": [
    "model = smp.Unet(\n",
    "    encoder_name=\"inceptionv4\",\n",
    "    encoder_weights=None,\n",
    "    in_channels=3,             \n",
    "    classes=1,                \n",
    ")"
   ]
  },
  {
   "cell_type": "code",
   "execution_count": 16,
   "metadata": {},
   "outputs": [],
   "source": [
    "# create loss, optimizer and other stuff"
   ]
  },
  {
   "cell_type": "code",
   "execution_count": 15,
   "metadata": {},
   "outputs": [],
   "source": [
    "# Loss function\n",
    "def dice_bce_loss(inputs, targets):\n",
    "    # remove if your model inherently handles sigmoid\n",
    "    number_of_pixels = inputs.shape[0] * (512 * 512 * 3)\n",
    "    sigmoid = nn.Sigmoid()\n",
    "    inputs = sigmoid(inputs)\n",
    "    inputs = inputs.view(-1)\n",
    "    targets = targets.view(-1)\n",
    "    intersection = (inputs * targets).sum()\n",
    "    dice_loss = (2. * intersection) / (inputs.sum() + targets.sum())\n",
    "    dice_loss = 1 - dice_loss\n",
    "    # Pixel wise log loss is calculated not number of images\n",
    "    # I checked reduce by mean is correct measure.\n",
    "    BCE = nn.functional.binary_cross_entropy(inputs, targets, reduce='mean')\n",
    "    final = dice_loss + BCE\n",
    "    return final, number_of_pixels"
   ]
  },
  {
   "cell_type": "code",
   "execution_count": 16,
   "metadata": {},
   "outputs": [],
   "source": [
    "# IOU metric\n",
    "def iou_score(inputs, targets):\n",
    "    inputs = (inputs > 0.5).float()\n",
    "    inputs = inputs.view(-1)\n",
    "    targets = targets.view(-1)\n",
    "    TP = torch.sum(torch.logical_and(inputs == 1, targets == 1))\n",
    "    FP = torch.sum(torch.logical_and(inputs == 1, targets == 0))\n",
    "    FN = torch.sum(torch.logical_and(inputs == 0, targets == 1))\n",
    "    iou = TP / (TP + FP + FN)\n",
    "    return iou"
   ]
  },
  {
   "cell_type": "code",
   "execution_count": 19,
   "metadata": {},
   "outputs": [],
   "source": [
    "# gather_datasets\n",
    "train_dataset = Version1Dataset(train)\n",
    "train_dataloader = DataLoader(train_dataset, shuffle = True, batch_size = 88, num_workers=24, prefetch_factor=2)\n",
    "val_dataset = Version1Dataset(val)\n",
    "val_dataloader = DataLoader(val_dataset, shuffle = False, batch_size = 128)\n",
    "test_dataset = Version1Dataset(test)\n",
    "test_dataloader = DataLoader(test_dataset, shuffle = False, batch_size = 128)"
   ]
  },
  {
   "cell_type": "code",
   "execution_count": 20,
   "metadata": {},
   "outputs": [
    {
     "data": {
      "text/plain": [
       "2145"
      ]
     },
     "execution_count": 20,
     "metadata": {},
     "output_type": "execute_result"
    }
   ],
   "source": [
    "len(train_dataloader)"
   ]
  },
  {
   "cell_type": "code",
   "execution_count": 21,
   "metadata": {},
   "outputs": [],
   "source": [
    "train_image_size = 1000 * (512 * 512 * 3)\n",
    "val_image_size = len(val) * (512 * 512 * 3)\n",
    "train_batches = len(train_dataloader)\n",
    "val_batches = len(val_dataloader)"
   ]
  },
  {
   "cell_type": "code",
   "execution_count": 22,
   "metadata": {},
   "outputs": [],
   "source": [
    "# model = nn.DataParallel(model, device_ids=[0, 1, 2, 3, 4])"
   ]
  },
  {
   "cell_type": "code",
   "execution_count": 23,
   "metadata": {},
   "outputs": [],
   "source": [
    "# x = torch.rand((32, 512, 512, 3)).to(device)"
   ]
  },
  {
   "cell_type": "code",
   "execution_count": 24,
   "metadata": {},
   "outputs": [],
   "source": [
    "# next(model.parameters()).is_cuda"
   ]
  },
  {
   "cell_type": "code",
   "execution_count": 25,
   "metadata": {},
   "outputs": [],
   "source": [
    "# model(x)"
   ]
  },
  {
   "cell_type": "code",
   "execution_count": 26,
   "metadata": {},
   "outputs": [],
   "source": [
    "def train_model(model, train_dataset, val_dataset, epochs = 10):\n",
    "    data_pointers = {\n",
    "        'train': train_dataset,\n",
    "        'val': val_dataset\n",
    "    }\n",
    "    optimizer = optim.SGD(model.parameters(), lr=0.001)\n",
    "    if next(model.parameters()).is_cuda == False:\n",
    "        # model = nn.DataParallel(model)\n",
    "        model = model.to(device)\n",
    "    for epoch in range(epochs):\n",
    "        for phase in ['train', 'val']:\n",
    "            if phase == 'train':\n",
    "                model.train() # set model to train phase\n",
    "            else:\n",
    "                model.eval() # set model to eval phase\n",
    "            running_loss = 0.0\n",
    "            running_iou = 0.0\n",
    "            # TODO: Implement IOU score as metric\n",
    "            count = 0\n",
    "            for imgs, labels in tqdm(data_pointers[phase]):\n",
    "                imgs = imgs.to(device)\n",
    "                labels = labels.to(device)\n",
    "\n",
    "                # init optimizer\n",
    "                optimizer.zero_grad()\n",
    "\n",
    "                with torch.set_grad_enabled(phase=='train'):\n",
    "                    outputs = model(imgs)\n",
    "                    loss, _ = dice_bce_loss(outputs, labels)\n",
    "                    # iou = iou_score(outputs, labels)\n",
    "                    if phase == 'train':\n",
    "                        loss.backward()\n",
    "                        optimizer.step()\n",
    "                running_loss += loss.item()\n",
    "                # running_iou += iou \n",
    "                # if count % 10 == 0:\n",
    "                #     print(count)\n",
    "                # count += 1\n",
    "\n",
    "            if phase == 'train':\n",
    "                epoch_loss = running_loss / train_batches\n",
    "                # epoch_iou = running_iou / train_batches\n",
    "            else:\n",
    "                epoch_loss = running_loss / val_batches\n",
    "                # epoch_iou = running_iou / val_batches\n",
    "            print(f'{phase} Loss: {float(epoch_loss)}')\n",
    "            print(f'{phase} IOU: {float(epoch_iou)}')\n",
    "        if epoch == 2:\n",
    "            break"
   ]
  },
  {
   "cell_type": "code",
   "execution_count": 29,
   "metadata": {},
   "outputs": [],
   "source": [
    "# train_model(model, train_dataloader, val_dataloader)"
   ]
  },
  {
   "cell_type": "markdown",
   "metadata": {},
   "source": [
    "Data augmentation with some changes in code base"
   ]
  },
  {
   "cell_type": "code",
   "execution_count": 17,
   "metadata": {},
   "outputs": [],
   "source": [
    "def get_positive_samples(csv_file):\n",
    "    sample_list = []\n",
    "    for x in csv_file['EncodedPixels'].values.tolist():\n",
    "        if type(x[0]) == str:\n",
    "            sample_list.append(1)\n",
    "        else:\n",
    "            sample_list.append(-1)\n",
    "    csv_file['sample_type'] = sample_list\n",
    "    return csv_file"
   ]
  },
  {
   "cell_type": "code",
   "execution_count": 18,
   "metadata": {},
   "outputs": [],
   "source": [
    "train_updated = get_positive_samples(train)"
   ]
  },
  {
   "cell_type": "code",
   "execution_count": 19,
   "metadata": {},
   "outputs": [],
   "source": [
    "class AugDataset(Dataset):\n",
    "    def __init__(self, csv_file):\n",
    "        self.input_images = csv_file['fixed_inputs'].values\n",
    "        self.mask_images = csv_file['mask_paths'].values\n",
    "        self.mask_type = csv_file['sample_type'].values\n",
    "        self.negative_index = np.where(self.mask_type == -1)[0]\n",
    "        self.brightness_factors = np.random.uniform(1.0, 2.0, size = len(csv_file))\n",
    "        self.contrast_factors = np.random.uniform(2.0, 3.5, size = len(csv_file))\n",
    "\n",
    "    def __len__(self):\n",
    "        return len(self.input_images)\n",
    "    \n",
    "    def change_every_epoch(self):\n",
    "        new_values = np.random.randint(0, 2, size=(self.__len__()))\n",
    "        new_values[self.negative_index] = -1\n",
    "        self.mask_type = new_values\n",
    "        self.brightness_factors = np.random.uniform(1.0, 2.0, size = self.__len__())\n",
    "        self.contrast_factors = np.random.uniform(2.0, 3.5, size = self.__len__())\n",
    "\n",
    "\n",
    "    def aug(self, img, mask, brightness_factor, contrast_factor):\n",
    "        img = torchvision.transforms.functional.hflip(img)\n",
    "        mask = torchvision.transforms.functional.hflip(mask)\n",
    "        img = torchvision.transforms.functional.adjust_brightness(img, brightness_factor)\n",
    "        img = torchvision.transforms.functional.adjust_contrast(img, contrast_factor)\n",
    "        return img, mask\n",
    "\n",
    "    def __getitem__(self, idx):\n",
    "        # All positive sample images will be augmented with \n",
    "        # flip horizontally\n",
    "        # adjusting brightness\n",
    "        # adjusting contrast\n",
    "        img = torchvision.io.read_file(self.input_images[idx])\n",
    "        img = torchvision.io.decode_jpeg(img)\n",
    "        mask = torchvision.io.read_file(self.mask_images[idx])\n",
    "        mask = torchvision.io.decode_image(mask)\n",
    "        if self.mask_type[idx] != -1:\n",
    "            if self.mask_type[idx] == 1:\n",
    "                img, mask = self.aug(img, mask, self.brightness_factors[idx], self.contrast_factors[idx])\n",
    "        img = torchvision.transforms.functional.resize(img, (512, 512))\n",
    "        mask = torchvision.transforms.functional.resize(mask, (512, 512))\n",
    "        img = img / 255\n",
    "        mask = mask / 255\n",
    "        mask = torch.where(mask < 1.0, 0.0, 1.0)\n",
    "        return img, mask"
   ]
  },
  {
   "cell_type": "code",
   "execution_count": 333,
   "metadata": {},
   "outputs": [
    {
     "name": "stdout",
     "output_type": "stream",
     "text": [
      "1\n",
      "0\n"
     ]
    },
    {
     "name": "stderr",
     "output_type": "stream",
     "text": [
      "/usr/lib/python3/dist-packages/torchvision/transforms/functional.py:1603: UserWarning: The default value of the antialias parameter of all the resizing transforms (Resize(), RandomResizedCrop(), etc.) will change from None to True in v0.17, in order to be consistent across the PIL and Tensor backends. To suppress this warning, directly pass antialias=True (recommended, future default), antialias=None (current default, which means False for Tensors and True for PIL), or antialias=False (only works on Tensors - PIL will still use antialiasing). This also applies if you are using the inference transforms from the models weights: update the call to weights.transforms(antialias=True).\n",
      "  warnings.warn(\n"
     ]
    }
   ],
   "source": [
    "data = AugDataset(train)\n",
    "train_loader = DataLoader(data, shuffle=False)\n",
    "img_1 = train_loader.dataset.__getitem__(6)\n",
    "train_loader.dataset.change_every_epoch()\n",
    "train_loader = DataLoader(data, shuffle=False)\n",
    "img_2 = train_loader.dataset.__getitem__(6)"
   ]
  },
  {
   "cell_type": "code",
   "execution_count": 20,
   "metadata": {},
   "outputs": [],
   "source": [
    "def train_model(model, train_dataset, val_dataset, weights_path, epochs = 100):\n",
    "    data_pointers = {\n",
    "        'train': train_dataset,\n",
    "        'val': val_dataset\n",
    "    }\n",
    "    optimizer = optim.SGD(model.parameters(), lr=0.001)\n",
    "    if next(model.parameters()).is_cuda == False:\n",
    "        model = nn.DataParallel(model)\n",
    "        model = model.to(device)\n",
    "    for epoch in range(epochs):\n",
    "        for phase in ['train', 'val']:\n",
    "            if phase == 'train':\n",
    "                model.train() # set model to train phase\n",
    "            else:\n",
    "                model.eval() # set model to eval phase\n",
    "            running_loss = 0.0\n",
    "            running_iou = 0.0\n",
    "            # TODO: Implement IOU score as metric\n",
    "            count = 0\n",
    "            for imgs, labels in tqdm(data_pointers[phase]):\n",
    "                imgs = imgs.to(device)\n",
    "                labels = labels.to(device)\n",
    "\n",
    "                # init optimizer\n",
    "                optimizer.zero_grad()\n",
    "\n",
    "                with torch.set_grad_enabled(phase=='train'):\n",
    "                    outputs = model(imgs)\n",
    "                    loss, _ = dice_bce_loss(outputs, labels)\n",
    "                    iou = iou_score(outputs, labels)\n",
    "                    if phase == 'train':\n",
    "                        loss.backward()\n",
    "                        optimizer.step()\n",
    "                running_loss += loss.item()\n",
    "                running_iou += iou \n",
    "                # if count % 10 == 0:\n",
    "                #     print(count)\n",
    "                # count += 1\n",
    "\n",
    "            if phase == 'train':\n",
    "                epoch_loss = running_loss / len(train_dataset)\n",
    "                epoch_iou = running_iou / len(train_dataset)\n",
    "            else:\n",
    "                epoch_loss = running_loss / len(val_dataset)\n",
    "                epoch_iou = running_iou / len(val_dataset)\n",
    "            print(f'{phase} Loss: {float(epoch_loss)}')\n",
    "            print(f'{phase} IOU: {float(epoch_iou)}')\n",
    "        train_dataset.dataset.change_every_epoch()\n",
    "        if os.path.exists(weights_path) == False:\n",
    "            os.makedirs(weights_path)\n",
    "        torch.save(model.state_dict(), f'{weights_path}{epoch}.pth')\n",
    "        # if epoch == 2:\n",
    "        #     break"
   ]
  },
  {
   "cell_type": "code",
   "execution_count": 21,
   "metadata": {},
   "outputs": [],
   "source": [
    "# gather_datasets\n",
    "train_dataset = AugDataset(train_updated)\n",
    "train_dataloader = DataLoader(train_dataset, shuffle = False, batch_size = 650, num_workers=200, prefetch_factor=2)\n",
    "val_dataset = Version1Dataset(val)\n",
    "val_dataloader = DataLoader(val_dataset, shuffle = False, batch_size = 32)\n",
    "test_dataset = Version1Dataset(test)\n",
    "test_dataloader = DataLoader(test_dataset, shuffle = False, batch_size = 32)"
   ]
  },
  {
   "cell_type": "code",
   "execution_count": 22,
   "metadata": {},
   "outputs": [
    {
     "name": "stderr",
     "output_type": "stream",
     "text": [
      "  0%|          | 0/291 [00:00<?, ?it/s]/usr/lib/python3/dist-packages/torch/nn/_reduction.py:42: UserWarning: size_average and reduce args will be deprecated, please use reduction='mean' instead.\n",
      "  warnings.warn(warning.format(ret))\n",
      "100%|██████████| 291/291 [13:55<00:00,  2.87s/it]  \n"
     ]
    },
    {
     "name": "stdout",
     "output_type": "stream",
     "text": [
      "train Loss: 1.2519257834686857\n",
      "train IOU: 0.005048777908086777\n"
     ]
    },
    {
     "name": "stderr",
     "output_type": "stream",
     "text": [
      "100%|██████████| 60/60 [01:16<00:00,  1.27s/it]\n"
     ]
    },
    {
     "name": "stdout",
     "output_type": "stream",
     "text": [
      "val Loss: 1.1266083081563314\n",
      "val IOU: 0.001392475562170148\n"
     ]
    },
    {
     "name": "stderr",
     "output_type": "stream",
     "text": [
      "100%|██████████| 291/291 [13:06<00:00,  2.70s/it]  \n"
     ]
    },
    {
     "name": "stdout",
     "output_type": "stream",
     "text": [
      "train Loss: 1.0995957048488236\n",
      "train IOU: 0.000959063763730228\n"
     ]
    },
    {
     "name": "stderr",
     "output_type": "stream",
     "text": [
      "100%|██████████| 60/60 [01:18<00:00,  1.31s/it]\n"
     ]
    },
    {
     "name": "stdout",
     "output_type": "stream",
     "text": [
      "val Loss: 1.0671249012152353\n",
      "val IOU: 5.057029557065107e-05\n"
     ]
    },
    {
     "name": "stderr",
     "output_type": "stream",
     "text": [
      "100%|██████████| 291/291 [13:10<00:00,  2.72s/it]  \n"
     ]
    },
    {
     "name": "stdout",
     "output_type": "stream",
     "text": [
      "train Loss: 1.0594131385337855\n",
      "train IOU: 7.277865370269865e-05\n"
     ]
    },
    {
     "name": "stderr",
     "output_type": "stream",
     "text": [
      "100%|██████████| 60/60 [01:12<00:00,  1.21s/it]\n"
     ]
    },
    {
     "name": "stdout",
     "output_type": "stream",
     "text": [
      "val Loss: 1.044346151749293\n",
      "val IOU: 5.261302248982247e-06\n"
     ]
    },
    {
     "name": "stderr",
     "output_type": "stream",
     "text": [
      "100%|██████████| 291/291 [13:11<00:00,  2.72s/it]  \n"
     ]
    },
    {
     "name": "stdout",
     "output_type": "stream",
     "text": [
      "train Loss: 1.0416289428665055\n",
      "train IOU: 1.0169661436520983e-05\n"
     ]
    },
    {
     "name": "stderr",
     "output_type": "stream",
     "text": [
      "100%|██████████| 60/60 [01:11<00:00,  1.20s/it]\n"
     ]
    },
    {
     "name": "stdout",
     "output_type": "stream",
     "text": [
      "val Loss: 1.0314925531546275\n",
      "val IOU: 4.052079020766541e-06\n"
     ]
    },
    {
     "name": "stderr",
     "output_type": "stream",
     "text": [
      "100%|██████████| 291/291 [13:03<00:00,  2.69s/it]  \n"
     ]
    },
    {
     "name": "stdout",
     "output_type": "stream",
     "text": [
      "train Loss: 1.0315527670162241\n",
      "train IOU: 2.1975770323479082e-06\n"
     ]
    },
    {
     "name": "stderr",
     "output_type": "stream",
     "text": [
      "100%|██████████| 60/60 [01:08<00:00,  1.15s/it]\n"
     ]
    },
    {
     "name": "stdout",
     "output_type": "stream",
     "text": [
      "val Loss: 1.0237343728542327\n",
      "val IOU: 1.4017382454767358e-06\n"
     ]
    },
    {
     "name": "stderr",
     "output_type": "stream",
     "text": [
      " 23%|██▎       | 66/291 [05:10<07:42,  2.05s/it]   "
     ]
    }
   ],
   "source": [
    "train_model(model, train_dataloader, val_dataloader, '../../weights/torch_final_model/')"
   ]
  },
  {
   "cell_type": "code",
   "execution_count": null,
   "metadata": {},
   "outputs": [],
   "source": []
  },
  {
   "cell_type": "code",
   "execution_count": null,
   "metadata": {},
   "outputs": [],
   "source": []
  }
 ],
 "metadata": {
  "kernelspec": {
   "display_name": "base_env",
   "language": "python",
   "name": "base_env"
  },
  "language_info": {
   "codemirror_mode": {
    "name": "ipython",
    "version": 3
   },
   "file_extension": ".py",
   "mimetype": "text/x-python",
   "name": "python",
   "nbconvert_exporter": "python",
   "pygments_lexer": "ipython3",
   "version": "3.8.10"
  },
  "orig_nbformat": 4
 },
 "nbformat": 4,
 "nbformat_minor": 2
}
