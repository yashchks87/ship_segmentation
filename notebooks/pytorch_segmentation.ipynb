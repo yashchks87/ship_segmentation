{
 "cells": [
  {
   "cell_type": "code",
   "execution_count": 2,
   "metadata": {},
   "outputs": [],
   "source": [
    "import segmentation_models_pytorch as smp\n",
    "import torch\n",
    "import torchvision\n",
    "import numpy as np\n",
    "import pandas as pd\n",
    "from torch.utils.data import Dataset, DataLoader\n",
    "import os\n",
    "from tqdm import tqdm\n",
    "from sklearn.model_selection import train_test_split\n",
    "import torch.nn as nn\n",
    "import torch.functional as F\n",
    "import torch.optim as optim"
   ]
  },
  {
   "cell_type": "code",
   "execution_count": 3,
   "metadata": {},
   "outputs": [],
   "source": [
    "device = torch.device(\"cuda:0\")"
   ]
  },
  {
   "cell_type": "code",
   "execution_count": 4,
   "metadata": {},
   "outputs": [],
   "source": [
    "csv_file = pd.read_csv('../../files/train_ship_segmentations_v2.csv')\n",
    "csv_file = csv_file.groupby('ImageId')['EncodedPixels'].apply(list).reset_index()\n",
    "image_ids, pixels = csv_file['ImageId'].values.tolist(), csv_file['EncodedPixels'].values.tolist()"
   ]
  },
  {
   "cell_type": "code",
   "execution_count": 5,
   "metadata": {},
   "outputs": [],
   "source": [
    "csv_file['fixed_inputs'] = csv_file['ImageId'].apply(lambda x: '../../files/train_v2/' + x)\n",
    "csv_file['mask_paths'] = csv_file['ImageId'].apply(lambda x: '../../files/masks_v1/train/' + x.split('.')[0] + '.' + 'png')"
   ]
  },
  {
   "cell_type": "code",
   "execution_count": 6,
   "metadata": {},
   "outputs": [],
   "source": [
    "csv_file['fixed_inputs'] = csv_file['ImageId'].apply(lambda x: '../../files/train_v2/' + x)\n",
    "csv_file['mask_paths'] = csv_file['ImageId'].apply(lambda x: '../../files/masks_v1/train/' + x.split('.')[0] + '.' + 'png')"
   ]
  },
  {
   "cell_type": "code",
   "execution_count": 7,
   "metadata": {},
   "outputs": [
    {
     "name": "stderr",
     "output_type": "stream",
     "text": [
      "100%|██████████| 192556/192556 [00:00<00:00, 414226.22it/s]\n"
     ]
    }
   ],
   "source": [
    "for x in tqdm(csv_file['fixed_inputs'].values.tolist()):\n",
    "    if os.path.exists(x) == False:\n",
    "        print(x)"
   ]
  },
  {
   "cell_type": "code",
   "execution_count": 8,
   "metadata": {},
   "outputs": [
    {
     "name": "stderr",
     "output_type": "stream",
     "text": [
      "100%|██████████| 192556/192556 [00:00<00:00, 389002.30it/s]\n"
     ]
    }
   ],
   "source": [
    "for x in tqdm(csv_file['mask_paths'].values.tolist()):\n",
    "    if os.path.exists(x) == False:\n",
    "        print(x)"
   ]
  },
  {
   "cell_type": "code",
   "execution_count": 9,
   "metadata": {},
   "outputs": [
    {
     "data": {
      "text/plain": [
       "'../../files/train_v2/00003e153.jpg'"
      ]
     },
     "execution_count": 9,
     "metadata": {},
     "output_type": "execute_result"
    }
   ],
   "source": [
    "csv_file['fixed_inputs'].values.tolist()[0]"
   ]
  },
  {
   "cell_type": "code",
   "execution_count": 10,
   "metadata": {},
   "outputs": [],
   "source": [
    "csv_file = csv_file[csv_file['fixed_inputs'] != '../../files/train_v2/6384c3e78.jpg']"
   ]
  },
  {
   "cell_type": "code",
   "execution_count": 11,
   "metadata": {},
   "outputs": [],
   "source": [
    "def split_datasets(csv_file, test_size = 0.01):\n",
    "    train, test = train_test_split(csv_file, test_size = test_size, random_state=42)\n",
    "    train, val = train_test_split(train, test_size = test_size, random_state=42)\n",
    "    return train, val, test"
   ]
  },
  {
   "cell_type": "code",
   "execution_count": 12,
   "metadata": {},
   "outputs": [],
   "source": [
    "train, val, test = split_datasets(csv_file)"
   ]
  },
  {
   "cell_type": "code",
   "execution_count": 13,
   "metadata": {},
   "outputs": [],
   "source": [
    "class Version1Dataset(Dataset):\n",
    "    def __init__(self, csv_file):\n",
    "        self.input_images = csv_file['fixed_inputs'].values\n",
    "        self.mask_images = csv_file['mask_paths'].values\n",
    "    \n",
    "    def __len__(self):\n",
    "        return len(self.input_images)\n",
    "    \n",
    "    def __getitem__(self, idx):\n",
    "        img = torchvision.io.read_file(self.input_images[idx])\n",
    "        img = torchvision.io.decode_jpeg(img, torchvision.io.ImageReadMode.RGB)\n",
    "        mask = torchvision.io.read_file(self.mask_images[idx])\n",
    "        mask = torchvision.io.decode_image(mask, torchvision.io.ImageReadMode.GRAY)\n",
    "        img = torchvision.transforms.Resize((512, 512))(img)\n",
    "        mask = torchvision.transforms.Resize((512, 512))(mask)\n",
    "        img = img / 255\n",
    "        mask = mask / 255\n",
    "        return img, mask"
   ]
  },
  {
   "cell_type": "code",
   "execution_count": 14,
   "metadata": {},
   "outputs": [],
   "source": [
    "train_dataset = Version1Dataset(train)\n",
    "train_dataloader = DataLoader(train_dataset, shuffle = True, batch_size = 32)"
   ]
  },
  {
   "cell_type": "code",
   "execution_count": 15,
   "metadata": {},
   "outputs": [],
   "source": [
    "model = smp.Unet(\n",
    "    encoder_name=\"inceptionv4\",\n",
    "    encoder_weights=None,\n",
    "    in_channels=3,             \n",
    "    classes=1,                \n",
    ")"
   ]
  },
  {
   "cell_type": "code",
   "execution_count": 16,
   "metadata": {},
   "outputs": [],
   "source": [
    "# create loss, optimizer and other stuff"
   ]
  },
  {
   "cell_type": "code",
   "execution_count": 17,
   "metadata": {},
   "outputs": [],
   "source": [
    "# Loss function\n",
    "def dice_bce_loss(inputs, targets):\n",
    "    # remove if your model inherently handles sigmoid\n",
    "    number_of_pixels = inputs.shape[0] * (512 * 512 * 3)\n",
    "    sigmoid = nn.Sigmoid()\n",
    "    inputs = sigmoid(inputs)\n",
    "    inputs = inputs.view(-1)\n",
    "    targets = targets.view(-1)\n",
    "    intersection = (inputs * targets).sum()\n",
    "    dice_loss = (2. * intersection) / (inputs.sum() + targets.sum())\n",
    "    dice_loss = 1 - dice_loss\n",
    "    # Pixel wise log loss is calculated not number of images\n",
    "    # I checked reduce by mean is correct measure.\n",
    "    BCE = nn.functional.binary_cross_entropy(inputs, targets, reduce='mean')\n",
    "    final = dice_loss + BCE\n",
    "    return final, number_of_pixels"
   ]
  },
  {
   "cell_type": "code",
   "execution_count": 18,
   "metadata": {},
   "outputs": [],
   "source": [
    "# IOU metric\n",
    "def iou_score(inputs, targets):\n",
    "    inputs = (inputs > 0.5).float()\n",
    "    inputs = inputs.view(-1)\n",
    "    targets = targets.view(-1)\n",
    "    TP = torch.sum(torch.logical_and(inputs == 1, targets == 1))\n",
    "    FP = torch.sum(torch.logical_and(inputs == 1, targets == 0))\n",
    "    FN = torch.sum(torch.logical_and(inputs == 0, targets == 1))\n",
    "    iou = TP / (TP + FP + FN)\n",
    "    return iou"
   ]
  },
  {
   "cell_type": "code",
   "execution_count": 19,
   "metadata": {},
   "outputs": [],
   "source": [
    "# gather_datasets\n",
    "train_dataset = Version1Dataset(train[:1000])\n",
    "train_dataloader = DataLoader(train_dataset, shuffle = True, batch_size = 16)\n",
    "val_dataset = Version1Dataset(val)\n",
    "val_dataloader = DataLoader(val_dataset, shuffle = True, batch_size = 16)\n",
    "test_dataset = Version1Dataset(test)\n",
    "test_dataloader = DataLoader(test_dataset, shuffle = True, batch_size = 16)"
   ]
  },
  {
   "cell_type": "code",
   "execution_count": 20,
   "metadata": {},
   "outputs": [
    {
     "data": {
      "text/plain": [
       "1907"
      ]
     },
     "execution_count": 20,
     "metadata": {},
     "output_type": "execute_result"
    }
   ],
   "source": [
    "len(val)"
   ]
  },
  {
   "cell_type": "code",
   "execution_count": 21,
   "metadata": {},
   "outputs": [],
   "source": [
    "train_image_size = 1000 * (512 * 512 * 3)\n",
    "val_image_size = len(val) * (512 * 512 * 3)\n",
    "train_batches = len(train_dataloader)\n",
    "val_batches = len(val_dataloader)"
   ]
  },
  {
   "cell_type": "code",
   "execution_count": 24,
   "metadata": {},
   "outputs": [],
   "source": [
    "def train_model(model, train_dataset, val_dataset, epochs = 10):\n",
    "    data_pointers = {\n",
    "        'train': train_dataset,\n",
    "        'val': val_dataset\n",
    "    }\n",
    "    optimizer = optim.SGD(model.parameters(), lr=0.001)\n",
    "    if next(model.parameters()).is_cuda == False:\n",
    "        model = model.to(device)\n",
    "    for epoch in range(epochs):\n",
    "        for phase in ['train', 'val']:\n",
    "            if phase == 'train':\n",
    "                model.train() # set model to train phase\n",
    "            else:\n",
    "                model.eval() # set model to eval phase\n",
    "            running_loss = 0.0\n",
    "            running_iou = 0.0\n",
    "            # TODO: Implement IOU score as metric\n",
    "            for imgs, labels in data_pointers[phase]:\n",
    "                imgs = imgs.to(device)\n",
    "                labels = labels.to(device)\n",
    "\n",
    "                # init optimizer\n",
    "                optimizer.zero_grad()\n",
    "\n",
    "                with torch.set_grad_enabled(phase=='train'):\n",
    "                    outputs = model(imgs)\n",
    "                    loss, _ = dice_bce_loss(outputs, labels)\n",
    "                    iou = iou_score(outputs, labels)\n",
    "                    if phase == 'train':\n",
    "                        loss.backward()\n",
    "                        optimizer.step()\n",
    "                running_loss += loss.item()\n",
    "                running_iou += iou \n",
    "\n",
    "            if phase == 'train':\n",
    "                epoch_loss = running_loss / train_batches\n",
    "                epoch_iou = running_iou / train_batches\n",
    "            else:\n",
    "                epoch_loss = running_loss / val_batches\n",
    "                epoch_iou = running_iou / val_batches\n",
    "            print(f'{phase} Loss: {float(epoch_loss)}')\n",
    "            print(f'{phase} IOU: {float(epoch_iou)}')\n",
    "        if epoch == 2:\n",
    "            break"
   ]
  },
  {
   "cell_type": "code",
   "execution_count": 25,
   "metadata": {},
   "outputs": [
    {
     "name": "stderr",
     "output_type": "stream",
     "text": [
      "/home/ubuntu/torch_env/lib/python3.8/site-packages/torch/nn/_reduction.py:42: UserWarning: size_average and reduce args will be deprecated, please use reduction='mean' instead.\n",
      "  warnings.warn(warning.format(ret))\n"
     ]
    },
    {
     "name": "stdout",
     "output_type": "stream",
     "text": [
      "train Loss: 1.6666180690129597\n",
      "train IOU: 0.002047209069132805\n",
      "val Loss: 1.5359969238440196\n",
      "val IOU: 0.002549314871430397\n",
      "train Loss: 1.4576379344576882\n",
      "train IOU: 0.0019182541873306036\n",
      "val Loss: 1.3733224083979925\n",
      "val IOU: 0.002055790740996599\n",
      "train Loss: 1.3358339014507474\n",
      "train IOU: 0.0016366088530048728\n",
      "val Loss: 1.2734926968812943\n",
      "val IOU: 0.0015343019040301442\n"
     ]
    }
   ],
   "source": [
    "train_model(model, train_dataloader, val_dataloader)"
   ]
  },
  {
   "cell_type": "code",
   "execution_count": null,
   "metadata": {},
   "outputs": [],
   "source": []
  },
  {
   "cell_type": "code",
   "execution_count": null,
   "metadata": {},
   "outputs": [],
   "source": []
  },
  {
   "cell_type": "code",
   "execution_count": null,
   "metadata": {},
   "outputs": [],
   "source": []
  },
  {
   "cell_type": "code",
   "execution_count": null,
   "metadata": {},
   "outputs": [],
   "source": []
  },
  {
   "cell_type": "code",
   "execution_count": 36,
   "metadata": {},
   "outputs": [],
   "source": [
    "# np.random.random((5,5))"
   ]
  },
  {
   "cell_type": "code",
   "execution_count": null,
   "metadata": {},
   "outputs": [],
   "source": []
  },
  {
   "cell_type": "code",
   "execution_count": null,
   "metadata": {},
   "outputs": [],
   "source": [
    "def make_and_compile_model(model):\n",
    "    model = smp.Unet(\n",
    "        encoder_name='inceptionv4',\n",
    "        encoder_weights=None,\n",
    "        in_channels=3,\n",
    "        classes=1\n",
    "    )\n",
    "    criterion = "
   ]
  },
  {
   "cell_type": "code",
   "execution_count": null,
   "metadata": {},
   "outputs": [],
   "source": []
  },
  {
   "cell_type": "code",
   "execution_count": null,
   "metadata": {},
   "outputs": [],
   "source": []
  }
 ],
 "metadata": {
  "kernelspec": {
   "display_name": "torch_env",
   "language": "python",
   "name": "torch_env"
  },
  "language_info": {
   "codemirror_mode": {
    "name": "ipython",
    "version": 3
   },
   "file_extension": ".py",
   "mimetype": "text/x-python",
   "name": "python",
   "nbconvert_exporter": "python",
   "pygments_lexer": "ipython3",
   "version": "3.8.10"
  },
  "orig_nbformat": 4
 },
 "nbformat": 4,
 "nbformat_minor": 2
}
