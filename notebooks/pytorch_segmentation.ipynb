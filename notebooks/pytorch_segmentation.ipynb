{
 "cells": [
  {
   "cell_type": "code",
   "execution_count": 1,
   "metadata": {},
   "outputs": [
    {
     "name": "stderr",
     "output_type": "stream",
     "text": [
      "/home/ubuntu/.local/lib/python3.8/site-packages/pandas/core/computation/expressions.py:20: UserWarning: Pandas requires version '2.7.3' or newer of 'numexpr' (version '2.7.1' currently installed).\n",
      "  from pandas.core.computation.check import NUMEXPR_INSTALLED\n"
     ]
    }
   ],
   "source": [
    "import segmentation_models_pytorch as smp\n",
    "import torch\n",
    "import torchvision\n",
    "import numpy as np \n",
    "import pandas as pd\n",
    "from torch.utils.data import Dataset, DataLoader\n",
    "import os\n",
    "from tqdm import tqdm\n",
    "from sklearn.model_selection import train_test_split\n",
    "import torch.nn as nn\n",
    "import torch.functional as F\n",
    "import torch.optim as optim\n",
    "from torch.utils.data.distributed import DistributedSampler\n",
    "from torch.nn.parallel import DistributedDataParallel as DDP\n",
    "import PIL\n",
    "import wandb\n",
    "import sys\n",
    "sys.path.append('../scripts/')\n",
    "%load_ext autoreload\n",
    "%autoreload 2\n",
    "from save_model_every_epoch_torch import save_model"
   ]
  },
  {
   "cell_type": "code",
   "execution_count": 2,
   "metadata": {},
   "outputs": [],
   "source": [
    "multiple_gpus = False\n",
    "if torch.cuda.is_available():\n",
    "    if torch.cuda.device_count() > 1:\n",
    "        multiple_gpus = True\n",
    "    device = torch.device(\"cuda:0\" if torch.cuda.is_available() else \"cpu\")"
   ]
  },
  {
   "cell_type": "code",
   "execution_count": 3,
   "metadata": {},
   "outputs": [
    {
     "name": "stdout",
     "output_type": "stream",
     "text": [
      "cuda:0\n"
     ]
    }
   ],
   "source": [
    "print(device)"
   ]
  },
  {
   "cell_type": "code",
   "execution_count": 4,
   "metadata": {},
   "outputs": [],
   "source": [
    "csv_file = pd.read_csv('../../files/train_ship_segmentations_v2.csv')\n",
    "csv_file = csv_file.groupby('ImageId')['EncodedPixels'].apply(list).reset_index()\n",
    "image_ids, pixels = csv_file['ImageId'].values.tolist(), csv_file['EncodedPixels'].values.tolist()"
   ]
  },
  {
   "cell_type": "code",
   "execution_count": 5,
   "metadata": {},
   "outputs": [],
   "source": [
    "csv_file['fixed_inputs'] = csv_file['ImageId'].apply(lambda x: '../../files/train_v2/' + x)\n",
    "csv_file['mask_paths'] = csv_file['ImageId'].apply(lambda x: '../../files/masks_v1/train/' + x.split('.')[0] + '.' + 'png')"
   ]
  },
  {
   "cell_type": "code",
   "execution_count": 6,
   "metadata": {},
   "outputs": [],
   "source": [
    "csv_file['fixed_inputs'] = csv_file['ImageId'].apply(lambda x: '../../files/train_v2/' + x)\n",
    "csv_file['mask_paths'] = csv_file['ImageId'].apply(lambda x: '../../files/masks_v1/train/' + x.split('.')[0] + '.' + 'png')"
   ]
  },
  {
   "cell_type": "code",
   "execution_count": 7,
   "metadata": {},
   "outputs": [
    {
     "name": "stderr",
     "output_type": "stream",
     "text": [
      " 21%|██        | 40680/192556 [00:00<00:00, 406740.26it/s]"
     ]
    },
    {
     "name": "stderr",
     "output_type": "stream",
     "text": [
      "100%|██████████| 192556/192556 [00:00<00:00, 405883.12it/s]\n"
     ]
    }
   ],
   "source": [
    "for x in tqdm(csv_file['fixed_inputs'].values.tolist()):\n",
    "    if os.path.exists(x) == False:\n",
    "        print(x)"
   ]
  },
  {
   "cell_type": "code",
   "execution_count": 8,
   "metadata": {},
   "outputs": [
    {
     "name": "stderr",
     "output_type": "stream",
     "text": [
      " 20%|██        | 39454/192556 [00:00<00:00, 394514.04it/s]"
     ]
    },
    {
     "name": "stderr",
     "output_type": "stream",
     "text": [
      "100%|██████████| 192556/192556 [00:00<00:00, 407436.63it/s]\n"
     ]
    }
   ],
   "source": [
    "for x in tqdm(csv_file['mask_paths'].values.tolist()):\n",
    "    if os.path.exists(x) == False:\n",
    "        print(x)"
   ]
  },
  {
   "cell_type": "code",
   "execution_count": 9,
   "metadata": {},
   "outputs": [
    {
     "data": {
      "text/plain": [
       "'../../files/train_v2/00003e153.jpg'"
      ]
     },
     "execution_count": 9,
     "metadata": {},
     "output_type": "execute_result"
    }
   ],
   "source": [
    "csv_file['fixed_inputs'].values.tolist()[0]"
   ]
  },
  {
   "cell_type": "code",
   "execution_count": 10,
   "metadata": {},
   "outputs": [],
   "source": [
    "csv_file = csv_file[csv_file['fixed_inputs'] != '../../files/train_v2/6384c3e78.jpg']"
   ]
  },
  {
   "cell_type": "code",
   "execution_count": 11,
   "metadata": {},
   "outputs": [],
   "source": [
    "def split_datasets(csv_file, test_size = 0.01):\n",
    "    train, test = train_test_split(csv_file, test_size = test_size, random_state=42)\n",
    "    train, val = train_test_split(train, test_size = test_size, random_state=42)\n",
    "    return train, val, test"
   ]
  },
  {
   "cell_type": "code",
   "execution_count": 12,
   "metadata": {},
   "outputs": [],
   "source": [
    "train, val, test = split_datasets(csv_file)"
   ]
  },
  {
   "cell_type": "code",
   "execution_count": 13,
   "metadata": {},
   "outputs": [],
   "source": [
    "class Version1Dataset(Dataset):\n",
    "    def __init__(self, csv_file):\n",
    "        self.input_images = csv_file['fixed_inputs'].values\n",
    "        self.mask_images = csv_file['mask_paths'].values\n",
    "    \n",
    "    def __len__(self):\n",
    "        return len(self.input_images)\n",
    "    \n",
    "    def __getitem__(self, idx):\n",
    "        img = torchvision.io.read_file(self.input_images[idx])\n",
    "        img = torchvision.io.decode_jpeg(img, torchvision.io.ImageReadMode.RGB)\n",
    "        mask = torchvision.io.read_file(self.mask_images[idx])\n",
    "        mask = torchvision.io.decode_image(mask, torchvision.io.ImageReadMode.GRAY)\n",
    "        img = torchvision.transforms.Resize((512, 512))(img)\n",
    "        mask = torchvision.transforms.Resize((512, 512))(mask)\n",
    "        img = img / 255\n",
    "        mask = mask / 255\n",
    "        return img, mask"
   ]
  },
  {
   "cell_type": "code",
   "execution_count": 14,
   "metadata": {},
   "outputs": [],
   "source": [
    "train_dataset = Version1Dataset(train)\n",
    "train_dataloader = DataLoader(train_dataset, shuffle = True, batch_size = 32)"
   ]
  },
  {
   "cell_type": "code",
   "execution_count": 15,
   "metadata": {},
   "outputs": [],
   "source": [
    "def get_model():\n",
    "    model = smp.Unet(\n",
    "        encoder_name=\"inceptionv4\",\n",
    "        encoder_weights=None,\n",
    "        in_channels=3,             \n",
    "        classes=1,                \n",
    "    )\n",
    "    return model"
   ]
  },
  {
   "cell_type": "code",
   "execution_count": 16,
   "metadata": {},
   "outputs": [],
   "source": [
    "# create loss, optimizer and other stuff"
   ]
  },
  {
   "cell_type": "code",
   "execution_count": 17,
   "metadata": {},
   "outputs": [],
   "source": [
    "# Loss function\n",
    "def dice_bce_loss(inputs, targets, smooth = 1e-5):\n",
    "    # remove if your model inherently handles sigmoid\n",
    "    number_of_pixels = inputs.shape[0] * (512 * 512 * 3)\n",
    "    sigmoid = nn.Sigmoid()\n",
    "    inputs = sigmoid(inputs)\n",
    "    inputs = inputs.view(-1)\n",
    "    targets = targets.view(-1)\n",
    "    intersection = (inputs * targets).sum()\n",
    "    dice_loss = (2. * intersection + smooth) / (inputs.sum() + targets.sum() + smooth)\n",
    "    dice_loss = 1 - dice_loss\n",
    "    # Pixel wise log loss is calculated not number of images\n",
    "    # I checked reduce by mean is correct measure.\n",
    "    BCE = nn.functional.binary_cross_entropy(inputs, targets, reduce='mean')\n",
    "    final = dice_loss + BCE\n",
    "    return final, number_of_pixels"
   ]
  },
  {
   "cell_type": "code",
   "execution_count": 18,
   "metadata": {},
   "outputs": [],
   "source": [
    "# IOU metric\n",
    "# SMOOTH = 1e-5\n",
    "def iou_score(inputs, targets, thres = None, smooth=1e-5):\n",
    "    sigmoid = nn.Sigmoid()\n",
    "    inputs = sigmoid(inputs)\n",
    "    if thres != None:\n",
    "        inputs = (inputs > thres).float()\n",
    "    inputs = inputs.view(-1)\n",
    "    targets = targets.view(-1)\n",
    "    intersection = torch.sum(inputs * targets)\n",
    "    unioun = torch.sum(inputs + targets) - intersection\n",
    "    # TP = torch.sum(torch.logical_and(inputs == 1, targets == 1))\n",
    "    # FP = torch.sum(torch.logical_and(inputs == 1, targets == 0))\n",
    "    # FN = torch.sum(torch.logical_and(inputs == 0, targets == 1))\n",
    "    iou = (intersection + smooth) / (unioun + smooth)\n",
    "    return iou"
   ]
  },
  {
   "cell_type": "code",
   "execution_count": null,
   "metadata": {},
   "outputs": [],
   "source": []
  },
  {
   "cell_type": "code",
   "execution_count": 19,
   "metadata": {},
   "outputs": [],
   "source": [
    "# gather_datasets\n",
    "train_dataset = Version1Dataset(train)\n",
    "train_dataloader = DataLoader(train_dataset, shuffle = True, batch_size = 88, num_workers=24, prefetch_factor=2)\n",
    "val_dataset = Version1Dataset(val)\n",
    "val_dataloader = DataLoader(val_dataset, shuffle = False, batch_size = 128)\n",
    "test_dataset = Version1Dataset(test)\n",
    "test_dataloader = DataLoader(test_dataset, shuffle = False, batch_size = 128)"
   ]
  },
  {
   "cell_type": "code",
   "execution_count": 20,
   "metadata": {},
   "outputs": [
    {
     "data": {
      "text/plain": [
       "2145"
      ]
     },
     "execution_count": 20,
     "metadata": {},
     "output_type": "execute_result"
    }
   ],
   "source": [
    "len(train_dataloader)"
   ]
  },
  {
   "cell_type": "code",
   "execution_count": 21,
   "metadata": {},
   "outputs": [],
   "source": [
    "def train_model(model, train_dataset, val_dataset, epochs = 10):\n",
    "    data_pointers = {\n",
    "        'train': train_dataset,\n",
    "        'val': val_dataset\n",
    "    }\n",
    "    optimizer = optim.SGD(model.parameters(), lr=0.001)\n",
    "    if next(model.parameters()).is_cuda == False:\n",
    "        # model = nn.DataParallel(model)\n",
    "        model = model.to(device)\n",
    "    for epoch in range(epochs):\n",
    "        for phase in ['train', 'val']:\n",
    "            if phase == 'train':\n",
    "                model.train() # set model to train phase\n",
    "            else:\n",
    "                model.eval() # set model to eval phase\n",
    "            running_loss = 0.0\n",
    "            running_iou = 0.0\n",
    "            # TODO: Implement IOU score as metric\n",
    "            count = 0\n",
    "            for imgs, labels in tqdm(data_pointers[phase]):\n",
    "                imgs = imgs.to(device)\n",
    "                labels = labels.to(device)\n",
    "\n",
    "                # init optimizer\n",
    "                optimizer.zero_grad()\n",
    "\n",
    "                with torch.set_grad_enabled(phase=='train'):\n",
    "                    outputs = model(imgs)\n",
    "                    loss, _ = dice_bce_loss(outputs, labels)\n",
    "                    # iou = iou_score(outputs, labels)\n",
    "                    if phase == 'train':\n",
    "                        loss.backward()\n",
    "                        optimizer.step()\n",
    "                running_loss += loss.item()\n",
    "                # running_iou += iou \n",
    "                # if count % 10 == 0:\n",
    "                #     print(count)\n",
    "                # count += 1\n",
    "\n",
    "            if phase == 'train':\n",
    "                epoch_loss = running_loss / train_batches\n",
    "                # epoch_iou = running_iou / train_batches\n",
    "            else:\n",
    "                epoch_loss = running_loss / val_batches\n",
    "                # epoch_iou = running_iou / val_batches\n",
    "            print(f'{phase} Loss: {float(epoch_loss)}')\n",
    "            print(f'{phase} IOU: {float(epoch_iou)}')\n",
    "        if epoch == 2:\n",
    "            break"
   ]
  },
  {
   "cell_type": "code",
   "execution_count": 22,
   "metadata": {},
   "outputs": [],
   "source": [
    "# train_model(model, train_dataloader, val_dataloader)"
   ]
  },
  {
   "cell_type": "markdown",
   "metadata": {},
   "source": [
    "Data augmentation with some changes in code base"
   ]
  },
  {
   "cell_type": "code",
   "execution_count": 21,
   "metadata": {},
   "outputs": [],
   "source": [
    "def get_positive_samples(csv_file):\n",
    "    sample_list = []\n",
    "    for x in csv_file['EncodedPixels'].values.tolist():\n",
    "        if type(x[0]) == str:\n",
    "            sample_list.append(1)\n",
    "        else:\n",
    "            sample_list.append(-1)\n",
    "    csv_file['sample_type'] = sample_list\n",
    "    return csv_file"
   ]
  },
  {
   "cell_type": "code",
   "execution_count": 22,
   "metadata": {},
   "outputs": [],
   "source": [
    "train_updated = get_positive_samples(train)"
   ]
  },
  {
   "cell_type": "code",
   "execution_count": 23,
   "metadata": {},
   "outputs": [],
   "source": [
    "class AugDataset(Dataset):\n",
    "    def __init__(self, csv_file):\n",
    "        self.input_images = csv_file['fixed_inputs'].values\n",
    "        self.mask_images = csv_file['mask_paths'].values\n",
    "        self.mask_type = csv_file['sample_type'].values\n",
    "        self.negative_index = np.where(self.mask_type == -1)[0]\n",
    "        self.brightness_factors = np.random.uniform(1.0, 2.0, size = len(csv_file))\n",
    "        self.contrast_factors = np.random.uniform(2.0, 3.5, size = len(csv_file))\n",
    "\n",
    "    def __len__(self):\n",
    "        return len(self.input_images)\n",
    "    \n",
    "    def change_every_epoch(self):\n",
    "        new_values = np.random.randint(0, 2, size=(self.__len__()))\n",
    "        new_values[self.negative_index] = -1\n",
    "        self.mask_type = new_values\n",
    "        self.brightness_factors = np.random.uniform(1.0, 2.0, size = self.__len__())\n",
    "        self.contrast_factors = np.random.uniform(2.0, 3.5, size = self.__len__())\n",
    "\n",
    "\n",
    "    def aug(self, img, mask, brightness_factor, contrast_factor):\n",
    "        img = torchvision.transforms.functional.hflip(img)\n",
    "        mask = torchvision.transforms.functional.hflip(mask)\n",
    "        img = torchvision.transforms.functional.adjust_brightness(img, brightness_factor)\n",
    "        img = torchvision.transforms.functional.adjust_contrast(img, contrast_factor)\n",
    "        return img, mask\n",
    "\n",
    "    def __getitem__(self, idx):\n",
    "        # All positive sample images will be augmented with \n",
    "        # flip horizontally\n",
    "        # adjusting brightness\n",
    "        # adjusting contrast\n",
    "        img = torchvision.io.read_file(self.input_images[idx])\n",
    "        img = torchvision.io.decode_jpeg(img)\n",
    "        mask = torchvision.io.read_file(self.mask_images[idx])\n",
    "        mask = torchvision.io.decode_image(mask)\n",
    "        if self.mask_type[idx] != -1:\n",
    "            if self.mask_type[idx] == 1:\n",
    "                img, mask = self.aug(img, mask, self.brightness_factors[idx], self.contrast_factors[idx])\n",
    "        img = torchvision.transforms.functional.resize(img, (512, 512))\n",
    "        mask = torchvision.transforms.functional.resize(mask, (512, 512))\n",
    "        img = img / 255\n",
    "        mask = mask / 255\n",
    "        mask = torch.where(mask < 1.0, 0.0, 1.0)\n",
    "        return img, mask"
   ]
  },
  {
   "cell_type": "code",
   "execution_count": 24,
   "metadata": {},
   "outputs": [],
   "source": [
    "# data = AugDataset(train)\n",
    "# train_loader = DataLoader(data, shuffle=False)\n",
    "# img_1 = train_loader.dataset.__getitem__(6)\n",
    "# train_loader.dataset.change_every_epoch()\n",
    "# train_loader = DataLoader(data, shuffle=False)\n",
    "# img_2 = train_loader.dataset.__getitem__(6)"
   ]
  },
  {
   "cell_type": "code",
   "execution_count": 25,
   "metadata": {},
   "outputs": [],
   "source": [
    "# def train_model(model, train_dataset, val_dataset, weights_path, load_weights = None, epochs = 100):\n",
    "#     # If fails reduce protobuf to lower version pip install protobuf==3.19\n",
    "#     wandb.init(project='ship-segmentation-pytorch-wb',\n",
    "#                config = {\n",
    "#                    'arch' : 'Unet- Incepv4',\n",
    "#                    'epochs' : 10\n",
    "#                }\n",
    "#                )\n",
    "#     data_pointers = {\n",
    "#         'train': train_dataset,\n",
    "#         'val': val_dataset\n",
    "#     }\n",
    "#     model = get_model()\n",
    "#     if load_weights != None:\n",
    "#         model.load_state_dict(torch.load(load_weights))\n",
    "#     optimizer = optim.SGD(model.parameters(), lr=0.001)\n",
    "#     if next(model.parameters()).is_cuda == False:\n",
    "#         model = nn.DataParallel(model)\n",
    "#         model = model.to(device)\n",
    "#     for epoch in range(epochs):\n",
    "#         for phase in ['train', 'val']:\n",
    "#             if phase == 'train':\n",
    "#                 model.train() # set model to train phase\n",
    "#             else:\n",
    "#                 model.eval() # set model to eval phase\n",
    "#             running_loss = 0.0\n",
    "#             running_iou = 0.0\n",
    "#             # TODO: Implement IOU score as metric\n",
    "#             count = 0\n",
    "#             for imgs, labels in tqdm(data_pointers[phase]):\n",
    "#                 imgs = imgs.to(device)\n",
    "#                 labels = labels.to(device)\n",
    "\n",
    "#                 # init optimizer\n",
    "#                 optimizer.zero_grad()\n",
    "\n",
    "#                 with torch.set_grad_enabled(phase=='train'):\n",
    "#                     outputs = model(imgs)\n",
    "#                     loss, _ = dice_bce_loss(outputs, labels)\n",
    "#                     iou = iou_score(outputs, labels)\n",
    "#                     if phase == 'train':\n",
    "#                         loss.backward()\n",
    "#                         optimizer.step()\n",
    "#                 running_loss += loss.item()\n",
    "#                 running_iou += iou \n",
    "#                 # if count % 10 == 0:\n",
    "#                 #     print(count)\n",
    "#                 # count += 1\n",
    "\n",
    "#             if phase == 'train':\n",
    "#                 epoch_loss = running_loss / len(train_dataset)\n",
    "#                 epoch_iou = running_iou / len(train_dataset)\n",
    "#                 wandb.log(\n",
    "#                     {'epoch_loss' : epoch_loss,\n",
    "#                     'epoch_iou' : epoch_iou}\n",
    "#                 )\n",
    "#             else:\n",
    "#                 epoch_loss = running_loss / len(val_dataset)\n",
    "#                 epoch_iou = running_iou / len(val_dataset)\n",
    "#                 wandb.log(\n",
    "#                     {'val_epoch_loss' : epoch_loss,\n",
    "#                     'val_epoch_iou' : epoch_iou}\n",
    "#                 )\n",
    "#             print(f'{phase} Loss: {float(epoch_loss)}')\n",
    "#             print(f'{phase} IOU: {float(epoch_iou)}')\n",
    "#         train_dataset.dataset.change_every_epoch()\n",
    "#         if os.path.exists(weights_path) == False:\n",
    "#             os.makedirs(weights_path)\n",
    "#         # torch.save(model.state_dict(), f'{weights_path}{epoch}.pth')\n",
    "#         torch.save({\n",
    "#             'epoch': epoch,\n",
    "#             'model_state_dict': model.state_dict(),\n",
    "#             'optimizer_state_dict': optimizer.state_dict(),\n",
    "#             'loss': loss\n",
    "#         }, f'{weights_path}{epoch}.pth')\n",
    "#         # if epoch == 2:\n",
    "#         #     break"
   ]
  },
  {
   "cell_type": "code",
   "execution_count": 26,
   "metadata": {},
   "outputs": [],
   "source": [
    "# # gather_datasets\n",
    "# train_dataset = AugDataset(train_updated)\n",
    "# train_dataloader = DataLoader(train_dataset, shuffle = True, batch_size = 280, num_workers=120, prefetch_factor=4)\n",
    "# val_dataset = Version1Dataset(val)\n",
    "# val_dataloader = DataLoader(val_dataset, shuffle = False, batch_size = 64)\n",
    "# test_dataset = Version1Dataset(test)\n",
    "# test_dataloader = DataLoader(test_dataset, shuffle = False, batch_size = 64)"
   ]
  },
  {
   "cell_type": "code",
   "execution_count": 27,
   "metadata": {},
   "outputs": [],
   "source": [
    "# gather_datasets\n",
    "train_batch_size = 256\n",
    "num_workers = 120\n",
    "train_dataset = AugDataset(train_updated)\n",
    "train_dataloader = DataLoader(train_dataset, shuffle = True, batch_size = train_batch_size, num_workers=num_workers, prefetch_factor=4)\n",
    "val_dataset = Version1Dataset(val)\n",
    "val_dataloader = DataLoader(val_dataset, shuffle = False, batch_size = 64)\n",
    "test_dataset = Version1Dataset(test)\n",
    "test_dataloader = DataLoader(test_dataset, shuffle = False, batch_size = 64)"
   ]
  },
  {
   "cell_type": "code",
   "execution_count": 28,
   "metadata": {},
   "outputs": [],
   "source": [
    "def train_model(model, train_dataset, val_dataset, weights_path, train_batch_size, num_workers, load_weights = None, epochs = 2):\n",
    "    # If fails reduce protobuf to lower version pip install protobuf==3.19\n",
    "    wandb.init(project='ship-segmentation-pytorch-wb',\n",
    "               config = {\n",
    "                   'arch' : 'Unet- Incepv4',\n",
    "                   'epochs' : epochs,\n",
    "                   'where_weights_stored' : weights_path,\n",
    "                   'weights_loaded': False if load_weights == None else load_weights,\n",
    "                   'optimizer' : 'SGD',\n",
    "                   'lr_schdular' : False,\n",
    "                   'Data augmentation' : True,\n",
    "                   'batch_size': train_batch_size,\n",
    "                   'num_workers' : num_workers\n",
    "               }\n",
    "               )\n",
    "    data_pointers = {\n",
    "        'train': train_dataset,\n",
    "        'val': val_dataset\n",
    "    }\n",
    "    if load_weights != None:\n",
    "        model.load_state_dict(torch.load(load_weights)['model_state_dict'])\n",
    "    optimizer = optim.SGD(model.parameters(), lr=0.001)\n",
    "    if next(model.parameters()).is_cuda == False:\n",
    "        if multiple_gpus == True:\n",
    "            model = nn.DataParallel(model)\n",
    "        model = model.to(device)\n",
    "    print('Hello')\n",
    "    for epoch in range(epochs):\n",
    "        train_loss, train_iou = 0.0, 0.0\n",
    "        val_loss, val_iou = 0.0, 0.0\n",
    "        for phase in ['train', 'val']:\n",
    "            if phase == 'train':\n",
    "                model.train() # set model to train phase\n",
    "            else:\n",
    "                model.eval() # set model to eval phase\n",
    "            running_loss = 0.0\n",
    "            running_iou = 0.0\n",
    "            with tqdm(data_pointers[phase], unit='batch') as tepoch:\n",
    "                for imgs, labels in tepoch:\n",
    "                    tepoch.set_description(f'Epoch: {epoch}')\n",
    "                    imgs = imgs.to(device)\n",
    "                    labels = labels.to(device)\n",
    "                    optimizer.zero_grad()\n",
    "                    with torch.set_grad_enabled(phase=='train'):\n",
    "                        outputs = model(imgs)\n",
    "                        loss, _ = dice_bce_loss(outputs, labels)\n",
    "                        iou = iou_score(outputs, labels)\n",
    "                        if phase == 'train':\n",
    "                            loss.backward()\n",
    "                            optimizer.step()\n",
    "                    running_loss += loss.item()\n",
    "                    running_iou += iou.item()\n",
    "                    tepoch.set_postfix(loss = loss.item(), iou = iou.item())\n",
    "            # Please remove wandb.log and put it outside of this scope. Make sure every epoch run only one time.\n",
    "            if phase == 'train':\n",
    "                train_loss = running_loss / len(train_dataset)\n",
    "                train_iou = running_iou / len(train_dataset)\n",
    "                print(f'{phase} Loss: {float(train_loss)}')\n",
    "                print(f'{phase} IOU: {float(train_iou)}')\n",
    "            else:\n",
    "                val_loss = running_loss / len(val_dataset)\n",
    "                val_iou = running_iou / len(val_dataset)\n",
    "                print(f'{phase} Loss: {float(val_loss)}')\n",
    "                print(f'{phase} IOU: {float(val_iou)}')\n",
    "        wandb.log({\n",
    "            'train_loss' : train_loss,\n",
    "            'train_iou' : train_iou,\n",
    "            'val_loss' : val_loss,\n",
    "            'val_iou' : val_iou,\n",
    "        })\n",
    "        train_dataset.dataset.change_every_epoch()\n",
    "        save_model(model, epoch, optimizer, multiple_gpus, weights_path)"
   ]
  },
  {
   "cell_type": "code",
   "execution_count": 31,
   "metadata": {},
   "outputs": [
    {
     "name": "stderr",
     "output_type": "stream",
     "text": [
      "Failed to detect the name of this notebook, you can set it manually with the WANDB_NOTEBOOK_NAME environment variable to enable code saving.\n",
      "\u001b[34m\u001b[1mwandb\u001b[0m: Currently logged in as: \u001b[33myashchks87\u001b[0m. Use \u001b[1m`wandb login --relogin`\u001b[0m to force relogin\n"
     ]
    },
    {
     "data": {
      "text/html": [
       "Tracking run with wandb version 0.15.5"
      ],
      "text/plain": [
       "<IPython.core.display.HTML object>"
      ]
     },
     "metadata": {},
     "output_type": "display_data"
    },
    {
     "data": {
      "text/html": [
       "Run data is saved locally in <code>/home/ubuntu/ship_segmentation/notebooks/wandb/run-20230719_191530-0qdm0rot</code>"
      ],
      "text/plain": [
       "<IPython.core.display.HTML object>"
      ]
     },
     "metadata": {},
     "output_type": "display_data"
    },
    {
     "data": {
      "text/html": [
       "Syncing run <strong><a href='https://wandb.ai/yashchks87/ship-segmentation-pytorch-wb/runs/0qdm0rot' target=\"_blank\">brisk-night-67</a></strong> to <a href='https://wandb.ai/yashchks87/ship-segmentation-pytorch-wb' target=\"_blank\">Weights & Biases</a> (<a href='https://wandb.me/run' target=\"_blank\">docs</a>)<br/>"
      ],
      "text/plain": [
       "<IPython.core.display.HTML object>"
      ]
     },
     "metadata": {},
     "output_type": "display_data"
    },
    {
     "data": {
      "text/html": [
       " View project at <a href='https://wandb.ai/yashchks87/ship-segmentation-pytorch-wb' target=\"_blank\">https://wandb.ai/yashchks87/ship-segmentation-pytorch-wb</a>"
      ],
      "text/plain": [
       "<IPython.core.display.HTML object>"
      ]
     },
     "metadata": {},
     "output_type": "display_data"
    },
    {
     "data": {
      "text/html": [
       " View run at <a href='https://wandb.ai/yashchks87/ship-segmentation-pytorch-wb/runs/0qdm0rot' target=\"_blank\">https://wandb.ai/yashchks87/ship-segmentation-pytorch-wb/runs/0qdm0rot</a>"
      ],
      "text/plain": [
       "<IPython.core.display.HTML object>"
      ]
     },
     "metadata": {},
     "output_type": "display_data"
    },
    {
     "name": "stdout",
     "output_type": "stream",
     "text": [
      "Hello\n"
     ]
    },
    {
     "name": "stderr",
     "output_type": "stream",
     "text": [
      "Epoch: 0:   0%|          | 0/738 [00:58<?, ?batch/s]/usr/lib/python3/dist-packages/torch/nn/_reduction.py:42: UserWarning: size_average and reduce args will be deprecated, please use reduction='mean' instead.\n",
      "  warnings.warn(warning.format(ret))\n",
      "Epoch: 0: 100%|██████████| 738/738 [16:15<00:00,  1.32s/batch, iou=0.000646, loss=1.06] \n"
     ]
    },
    {
     "name": "stdout",
     "output_type": "stream",
     "text": [
      "train Loss: 1.1420584057727803\n",
      "train IOU: 0.0011447221465846701\n"
     ]
    },
    {
     "name": "stderr",
     "output_type": "stream",
     "text": [
      "Epoch: 0: 100%|██████████| 30/30 [01:21<00:00,  2.72s/batch, iou=0.00184, loss=1.05] \n"
     ]
    },
    {
     "name": "stdout",
     "output_type": "stream",
     "text": [
      "val Loss: 1.0505850871404012\n",
      "val IOU: 0.001972925659113874\n",
      "Weight saved for epoch 0.\n"
     ]
    },
    {
     "name": "stderr",
     "output_type": "stream",
     "text": [
      "Epoch: 1: 100%|██████████| 738/738 [15:33<00:00,  1.27s/batch, iou=0.00206, loss=1.03] \n"
     ]
    },
    {
     "name": "stdout",
     "output_type": "stream",
     "text": [
      "train Loss: 1.039640896688632\n",
      "train IOU: 0.0018504467661250232\n"
     ]
    },
    {
     "name": "stderr",
     "output_type": "stream",
     "text": [
      "Epoch: 1: 100%|██████████| 30/30 [01:17<00:00,  2.59s/batch, iou=0.00218, loss=1.02]\n"
     ]
    },
    {
     "name": "stdout",
     "output_type": "stream",
     "text": [
      "val Loss: 1.0226482113202413\n",
      "val IOU: 0.002340422491154944\n",
      "Weight saved for epoch 1.\n"
     ]
    },
    {
     "name": "stderr",
     "output_type": "stream",
     "text": [
      "Epoch: 2: 100%|██████████| 738/738 [15:14<00:00,  1.24s/batch, iou=0.00873, loss=1.01] \n"
     ]
    },
    {
     "name": "stdout",
     "output_type": "stream",
     "text": [
      "train Loss: 1.0190870610032947\n",
      "train IOU: 0.004255463808508676\n"
     ]
    },
    {
     "name": "stderr",
     "output_type": "stream",
     "text": [
      "Epoch: 2: 100%|██████████| 30/30 [01:15<00:00,  2.53s/batch, iou=0.00211, loss=1.02] \n"
     ]
    },
    {
     "name": "stdout",
     "output_type": "stream",
     "text": [
      "val Loss: 1.0147292216618855\n",
      "val IOU: 0.004364662064472213\n",
      "Weight saved for epoch 2.\n"
     ]
    },
    {
     "name": "stderr",
     "output_type": "stream",
     "text": [
      "Epoch: 3: 100%|██████████| 738/738 [15:09<00:00,  1.23s/batch, iou=0.0286, loss=0.962]\n"
     ]
    },
    {
     "name": "stdout",
     "output_type": "stream",
     "text": [
      "train Loss: 0.9908891324266832\n",
      "train IOU: 0.015938835297105457\n"
     ]
    },
    {
     "name": "stderr",
     "output_type": "stream",
     "text": [
      "Epoch: 3: 100%|██████████| 30/30 [01:20<00:00,  2.68s/batch, iou=0.00208, loss=1.01] \n"
     ]
    },
    {
     "name": "stdout",
     "output_type": "stream",
     "text": [
      "val Loss: 0.9920217374960582\n",
      "val IOU: 0.011679660852920885\n",
      "Weight saved for epoch 3.\n"
     ]
    },
    {
     "name": "stderr",
     "output_type": "stream",
     "text": [
      "Epoch: 4: 100%|██████████| 738/738 [15:37<00:00,  1.27s/batch, iou=0.0985, loss=0.83]  \n"
     ]
    },
    {
     "name": "stdout",
     "output_type": "stream",
     "text": [
      "train Loss: 0.9274340381790306\n",
      "train IOU: 0.04562621904526986\n"
     ]
    },
    {
     "name": "stderr",
     "output_type": "stream",
     "text": [
      "Epoch: 4: 100%|██████████| 30/30 [01:21<00:00,  2.71s/batch, iou=0.00133, loss=1.01] \n"
     ]
    },
    {
     "name": "stdout",
     "output_type": "stream",
     "text": [
      "val Loss: 0.9235393226146698\n",
      "val IOU: 0.046930809574162895\n",
      "Weight saved for epoch 4.\n"
     ]
    },
    {
     "name": "stderr",
     "output_type": "stream",
     "text": [
      "Epoch: 5: 100%|██████████| 738/738 [15:57<00:00,  1.30s/batch, iou=0.117, loss=0.804]  \n"
     ]
    },
    {
     "name": "stdout",
     "output_type": "stream",
     "text": [
      "train Loss: 0.7484968473433156\n",
      "train IOU: 0.1515589670497712\n"
     ]
    },
    {
     "name": "stderr",
     "output_type": "stream",
     "text": [
      "Epoch: 5: 100%|██████████| 30/30 [01:21<00:00,  2.72s/batch, iou=0.105, loss=0.817] \n"
     ]
    },
    {
     "name": "stdout",
     "output_type": "stream",
     "text": [
      "val Loss: 0.7014072865247727\n",
      "val IOU: 0.18978903827567895\n",
      "Weight saved for epoch 5.\n"
     ]
    },
    {
     "name": "stderr",
     "output_type": "stream",
     "text": [
      "Epoch: 6: 100%|██████████| 738/738 [14:55<00:00,  1.21s/batch, iou=0.0909, loss=0.84] \n"
     ]
    },
    {
     "name": "stdout",
     "output_type": "stream",
     "text": [
      "train Loss: 0.590796047513724\n",
      "train IOU: 0.26546412424706833\n"
     ]
    },
    {
     "name": "stderr",
     "output_type": "stream",
     "text": [
      "Epoch: 6: 100%|██████████| 30/30 [01:05<00:00,  2.17s/batch, iou=0.322, loss=0.518] \n"
     ]
    },
    {
     "name": "stdout",
     "output_type": "stream",
     "text": [
      "val Loss: 0.5996849954128265\n",
      "val IOU: 0.26608272070686023\n",
      "Weight saved for epoch 6.\n"
     ]
    },
    {
     "name": "stderr",
     "output_type": "stream",
     "text": [
      "Epoch: 7: 100%|██████████| 738/738 [15:27<00:00,  1.26s/batch, iou=0.209, loss=0.664] \n"
     ]
    },
    {
     "name": "stdout",
     "output_type": "stream",
     "text": [
      "train Loss: 0.5284595913518735\n",
      "train IOU: 0.31722627015819715\n"
     ]
    },
    {
     "name": "stderr",
     "output_type": "stream",
     "text": [
      "Epoch: 7: 100%|██████████| 30/30 [01:18<00:00,  2.63s/batch, iou=0.362, loss=0.474] \n"
     ]
    },
    {
     "name": "stdout",
     "output_type": "stream",
     "text": [
      "val Loss: 0.5525688191254934\n",
      "val IOU: 0.3058138487239679\n",
      "Weight saved for epoch 7.\n"
     ]
    },
    {
     "name": "stderr",
     "output_type": "stream",
     "text": [
      "Epoch: 8: 100%|██████████| 738/738 [15:40<00:00,  1.27s/batch, iou=0.18, loss=0.708]  \n"
     ]
    },
    {
     "name": "stdout",
     "output_type": "stream",
     "text": [
      "train Loss: 0.4928228469075872\n",
      "train IOU: 0.34864569079827484\n"
     ]
    },
    {
     "name": "stderr",
     "output_type": "stream",
     "text": [
      "Epoch: 8: 100%|██████████| 30/30 [01:17<00:00,  2.59s/batch, iou=0.33, loss=0.509]  \n"
     ]
    },
    {
     "name": "stdout",
     "output_type": "stream",
     "text": [
      "val Loss: 0.5805911302566529\n",
      "val IOU: 0.28124687808255355\n",
      "Weight saved for epoch 8.\n"
     ]
    },
    {
     "name": "stderr",
     "output_type": "stream",
     "text": [
      "Epoch: 9: 100%|██████████| 738/738 [15:36<00:00,  1.27s/batch, iou=0.336, loss=0.504] \n"
     ]
    },
    {
     "name": "stdout",
     "output_type": "stream",
     "text": [
      "train Loss: 0.4727475794592524\n",
      "train IOU: 0.3672279738556079\n"
     ]
    },
    {
     "name": "stderr",
     "output_type": "stream",
     "text": [
      "Epoch: 9: 100%|██████████| 30/30 [01:13<00:00,  2.45s/batch, iou=0.449, loss=0.385]\n"
     ]
    },
    {
     "name": "stdout",
     "output_type": "stream",
     "text": [
      "val Loss: 0.4952968229850133\n",
      "val IOU: 0.3548273990551631\n",
      "Weight saved for epoch 9.\n"
     ]
    },
    {
     "name": "stderr",
     "output_type": "stream",
     "text": [
      "Epoch: 10: 100%|██████████| 738/738 [14:51<00:00,  1.21s/batch, iou=0.257, loss=0.603] \n"
     ]
    },
    {
     "name": "stdout",
     "output_type": "stream",
     "text": [
      "train Loss: 0.4469233616015452\n",
      "train IOU: 0.3917329299054172\n"
     ]
    },
    {
     "name": "stderr",
     "output_type": "stream",
     "text": [
      "Epoch: 10: 100%|██████████| 30/30 [01:21<00:00,  2.71s/batch, iou=0.529, loss=0.312]\n"
     ]
    },
    {
     "name": "stdout",
     "output_type": "stream",
     "text": [
      "val Loss: 0.4666630739967028\n",
      "val IOU: 0.3793461412191391\n",
      "Weight saved for epoch 10.\n"
     ]
    },
    {
     "name": "stderr",
     "output_type": "stream",
     "text": [
      "Epoch: 11: 100%|██████████| 738/738 [15:37<00:00,  1.27s/batch, iou=0.316, loss=0.527] \n"
     ]
    },
    {
     "name": "stdout",
     "output_type": "stream",
     "text": [
      "train Loss: 0.4258190793840866\n",
      "train IOU: 0.4123474868736293\n"
     ]
    },
    {
     "name": "stderr",
     "output_type": "stream",
     "text": [
      "Epoch: 11: 100%|██████████| 30/30 [01:16<00:00,  2.55s/batch, iou=0.54, loss=0.302] \n"
     ]
    },
    {
     "name": "stdout",
     "output_type": "stream",
     "text": [
      "val Loss: 0.44291786998510363\n",
      "val IOU: 0.4029573385914167\n",
      "Weight saved for epoch 11.\n"
     ]
    },
    {
     "name": "stderr",
     "output_type": "stream",
     "text": [
      "Epoch: 12: 100%|██████████| 738/738 [15:32<00:00,  1.26s/batch, iou=0.349, loss=0.489] \n"
     ]
    },
    {
     "name": "stdout",
     "output_type": "stream",
     "text": [
      "train Loss: 0.4138857883812612\n",
      "train IOU: 0.4242954212152538\n"
     ]
    },
    {
     "name": "stderr",
     "output_type": "stream",
     "text": [
      "Epoch: 12: 100%|██████████| 30/30 [01:17<00:00,  2.57s/batch, iou=0.451, loss=0.383]\n"
     ]
    },
    {
     "name": "stdout",
     "output_type": "stream",
     "text": [
      "val Loss: 0.4452903583645821\n",
      "val IOU: 0.40100891292095187\n",
      "Weight saved for epoch 12.\n"
     ]
    },
    {
     "name": "stderr",
     "output_type": "stream",
     "text": [
      "Epoch: 13: 100%|██████████| 738/738 [14:48<00:00,  1.20s/batch, iou=0.426, loss=0.406] \n"
     ]
    },
    {
     "name": "stdout",
     "output_type": "stream",
     "text": [
      "train Loss: 0.39543146349307967\n",
      "train IOU: 0.4429625160083538\n"
     ]
    },
    {
     "name": "stderr",
     "output_type": "stream",
     "text": [
      "Epoch: 13: 100%|██████████| 30/30 [01:14<00:00,  2.47s/batch, iou=0.563, loss=0.283]\n"
     ]
    },
    {
     "name": "stdout",
     "output_type": "stream",
     "text": [
      "val Loss: 0.4241315598289172\n",
      "val IOU: 0.4223495985070864\n",
      "Weight saved for epoch 13.\n"
     ]
    },
    {
     "name": "stderr",
     "output_type": "stream",
     "text": [
      "Epoch: 14: 100%|██████████| 738/738 [14:43<00:00,  1.20s/batch, iou=0.416, loss=0.421] \n"
     ]
    },
    {
     "name": "stdout",
     "output_type": "stream",
     "text": [
      "train Loss: 0.38131476349139276\n",
      "train IOU: 0.45758627240008454\n"
     ]
    },
    {
     "name": "stderr",
     "output_type": "stream",
     "text": [
      "Epoch: 14: 100%|██████████| 30/30 [01:03<00:00,  2.11s/batch, iou=0.575, loss=0.273]\n"
     ]
    },
    {
     "name": "stdout",
     "output_type": "stream",
     "text": [
      "val Loss: 0.3865355665485064\n",
      "val IOU: 0.46009992559750873\n",
      "Weight saved for epoch 14.\n"
     ]
    },
    {
     "name": "stderr",
     "output_type": "stream",
     "text": [
      "Epoch: 15: 100%|██████████| 738/738 [14:29<00:00,  1.18s/batch, iou=0.194, loss=0.681] \n"
     ]
    },
    {
     "name": "stdout",
     "output_type": "stream",
     "text": [
      "train Loss: 0.3663514114936516\n",
      "train IOU: 0.47326091382157837\n"
     ]
    },
    {
     "name": "stderr",
     "output_type": "stream",
     "text": [
      "Epoch: 15: 100%|██████████| 30/30 [01:18<00:00,  2.61s/batch, iou=0.414, loss=0.421]\n"
     ]
    },
    {
     "name": "stdout",
     "output_type": "stream",
     "text": [
      "val Loss: 0.4162439281741778\n",
      "val IOU: 0.43043705572684604\n",
      "Weight saved for epoch 15.\n"
     ]
    },
    {
     "name": "stderr",
     "output_type": "stream",
     "text": [
      "Epoch: 16: 100%|██████████| 738/738 [15:32<00:00,  1.26s/batch, iou=0.586, loss=0.263] \n"
     ]
    },
    {
     "name": "stdout",
     "output_type": "stream",
     "text": [
      "train Loss: 0.35698726561253635\n",
      "train IOU: 0.48334771140319543\n"
     ]
    },
    {
     "name": "stderr",
     "output_type": "stream",
     "text": [
      "Epoch: 16: 100%|██████████| 30/30 [01:19<00:00,  2.66s/batch, iou=0.479, loss=0.357]\n"
     ]
    },
    {
     "name": "stdout",
     "output_type": "stream",
     "text": [
      "val Loss: 0.3847299595673879\n",
      "val IOU: 0.4613747025529544\n",
      "Weight saved for epoch 16.\n"
     ]
    },
    {
     "name": "stderr",
     "output_type": "stream",
     "text": [
      "Epoch: 17: 100%|██████████| 738/738 [15:53<00:00,  1.29s/batch, iou=0.331, loss=0.509] \n"
     ]
    },
    {
     "name": "stdout",
     "output_type": "stream",
     "text": [
      "train Loss: 0.35159530442177767\n",
      "train IOU: 0.4894868134240794\n"
     ]
    },
    {
     "name": "stderr",
     "output_type": "stream",
     "text": [
      "Epoch: 17: 100%|██████████| 30/30 [01:20<00:00,  2.67s/batch, iou=0.5, loss=0.339]  \n"
     ]
    },
    {
     "name": "stdout",
     "output_type": "stream",
     "text": [
      "val Loss: 0.3528720865646998\n",
      "val IOU: 0.49510701894760134\n",
      "Weight saved for epoch 17.\n"
     ]
    },
    {
     "name": "stderr",
     "output_type": "stream",
     "text": [
      "Epoch: 18: 100%|██████████| 738/738 [15:17<00:00,  1.24s/batch, iou=0.36, loss=0.476]  \n"
     ]
    },
    {
     "name": "stdout",
     "output_type": "stream",
     "text": [
      "train Loss: 0.34037376302206096\n",
      "train IOU: 0.5016721373166495\n"
     ]
    },
    {
     "name": "stderr",
     "output_type": "stream",
     "text": [
      "Epoch: 18: 100%|██████████| 30/30 [01:05<00:00,  2.17s/batch, iou=0.391, loss=0.445]\n"
     ]
    },
    {
     "name": "stdout",
     "output_type": "stream",
     "text": [
      "val Loss: 0.42273565381765366\n",
      "val IOU: 0.42560276091098787\n",
      "Weight saved for epoch 18.\n"
     ]
    },
    {
     "name": "stderr",
     "output_type": "stream",
     "text": [
      "Epoch: 19: 100%|██████████| 738/738 [14:41<00:00,  1.19s/batch, iou=0.424, loss=0.411] \n"
     ]
    },
    {
     "name": "stdout",
     "output_type": "stream",
     "text": [
      "train Loss: 0.33287963612373606\n",
      "train IOU: 0.5103005156082513\n"
     ]
    },
    {
     "name": "stderr",
     "output_type": "stream",
     "text": [
      "Epoch: 19: 100%|██████████| 30/30 [01:17<00:00,  2.59s/batch, iou=0.643, loss=0.22] \n"
     ]
    },
    {
     "name": "stdout",
     "output_type": "stream",
     "text": [
      "val Loss: 0.3624128460884094\n",
      "val IOU: 0.4864709585905075\n",
      "Weight saved for epoch 19.\n"
     ]
    },
    {
     "name": "stderr",
     "output_type": "stream",
     "text": [
      "Epoch: 20: 100%|██████████| 738/738 [16:11<00:00,  1.32s/batch, iou=0.211, loss=0.662] \n"
     ]
    },
    {
     "name": "stdout",
     "output_type": "stream",
     "text": [
      "train Loss: 0.32309056012853377\n",
      "train IOU: 0.5212141850453406\n"
     ]
    },
    {
     "name": "stderr",
     "output_type": "stream",
     "text": [
      "Epoch: 20: 100%|██████████| 30/30 [01:18<00:00,  2.63s/batch, iou=0.65, loss=0.216] \n"
     ]
    },
    {
     "name": "stdout",
     "output_type": "stream",
     "text": [
      "val Loss: 0.33453698009252547\n",
      "val IOU: 0.5172546188036601\n",
      "Weight saved for epoch 20.\n"
     ]
    },
    {
     "name": "stderr",
     "output_type": "stream",
     "text": [
      "Epoch: 21: 100%|██████████| 738/738 [15:08<00:00,  1.23s/batch, iou=0.386, loss=0.461] \n"
     ]
    },
    {
     "name": "stdout",
     "output_type": "stream",
     "text": [
      "train Loss: 0.3166944795669256\n",
      "train IOU: 0.5284774142713727\n"
     ]
    },
    {
     "name": "stderr",
     "output_type": "stream",
     "text": [
      "Epoch: 21: 100%|██████████| 30/30 [01:16<00:00,  2.56s/batch, iou=0.628, loss=0.232]\n"
     ]
    },
    {
     "name": "stdout",
     "output_type": "stream",
     "text": [
      "val Loss: 0.3661495462059975\n",
      "val IOU: 0.48385192702213925\n",
      "Weight saved for epoch 21.\n"
     ]
    },
    {
     "name": "stderr",
     "output_type": "stream",
     "text": [
      "Epoch: 22: 100%|██████████| 738/738 [14:31<00:00,  1.18s/batch, iou=0.501, loss=0.335] \n"
     ]
    },
    {
     "name": "stdout",
     "output_type": "stream",
     "text": [
      "train Loss: 0.3087189683746193\n",
      "train IOU: 0.5372983134051326\n"
     ]
    },
    {
     "name": "stderr",
     "output_type": "stream",
     "text": [
      "Epoch: 22: 100%|██████████| 30/30 [01:11<00:00,  2.37s/batch, iou=0.449, loss=0.387]\n"
     ]
    },
    {
     "name": "stdout",
     "output_type": "stream",
     "text": [
      "val Loss: 0.36993514448404313\n",
      "val IOU: 0.47914407352606453\n",
      "Weight saved for epoch 22.\n"
     ]
    },
    {
     "name": "stderr",
     "output_type": "stream",
     "text": [
      "Epoch: 23: 100%|██████████| 738/738 [14:42<00:00,  1.20s/batch, iou=0.517, loss=0.325] \n"
     ]
    },
    {
     "name": "stdout",
     "output_type": "stream",
     "text": [
      "train Loss: 0.30717537481448837\n",
      "train IOU: 0.5392672957847435\n"
     ]
    },
    {
     "name": "stderr",
     "output_type": "stream",
     "text": [
      "Epoch: 23: 100%|██████████| 30/30 [01:16<00:00,  2.57s/batch, iou=0.628, loss=0.233]\n"
     ]
    },
    {
     "name": "stdout",
     "output_type": "stream",
     "text": [
      "val Loss: 0.4211401954293251\n",
      "val IOU: 0.43039215008417764\n",
      "Weight saved for epoch 23.\n"
     ]
    },
    {
     "name": "stderr",
     "output_type": "stream",
     "text": [
      "Epoch: 24: 100%|██████████| 738/738 [15:45<00:00,  1.28s/batch, iou=0.183, loss=0.698] \n"
     ]
    },
    {
     "name": "stdout",
     "output_type": "stream",
     "text": [
      "train Loss: 0.29967480627340354\n",
      "train IOU: 0.5482905938575261\n"
     ]
    },
    {
     "name": "stderr",
     "output_type": "stream",
     "text": [
      "Epoch: 24: 100%|██████████| 30/30 [01:15<00:00,  2.53s/batch, iou=0.489, loss=0.35] \n"
     ]
    },
    {
     "name": "stdout",
     "output_type": "stream",
     "text": [
      "val Loss: 0.5743651886781057\n",
      "val IOU: 0.30862845852971077\n",
      "Weight saved for epoch 24.\n"
     ]
    },
    {
     "name": "stderr",
     "output_type": "stream",
     "text": [
      "Epoch: 25: 100%|██████████| 738/738 [15:19<00:00,  1.25s/batch, iou=0.315, loss=0.528] \n"
     ]
    },
    {
     "name": "stdout",
     "output_type": "stream",
     "text": [
      "train Loss: 0.29836575951437316\n",
      "train IOU: 0.5497317157867478\n"
     ]
    },
    {
     "name": "stderr",
     "output_type": "stream",
     "text": [
      "Epoch: 25: 100%|██████████| 30/30 [01:12<00:00,  2.42s/batch, iou=0.513, loss=0.327]\n"
     ]
    },
    {
     "name": "stdout",
     "output_type": "stream",
     "text": [
      "val Loss: 0.3240907276670138\n",
      "val IOU: 0.5314135531584422\n",
      "Weight saved for epoch 25.\n"
     ]
    },
    {
     "name": "stderr",
     "output_type": "stream",
     "text": [
      "Epoch: 26: 100%|██████████| 738/738 [15:00<00:00,  1.22s/batch, iou=0.298, loss=0.552] \n"
     ]
    },
    {
     "name": "stdout",
     "output_type": "stream",
     "text": [
      "train Loss: 0.29207572106746477\n",
      "train IOU: 0.5571245448537635\n"
     ]
    },
    {
     "name": "stderr",
     "output_type": "stream",
     "text": [
      "Epoch: 26: 100%|██████████| 30/30 [01:16<00:00,  2.56s/batch, iou=0.527, loss=0.315]\n"
     ]
    },
    {
     "name": "stdout",
     "output_type": "stream",
     "text": [
      "val Loss: 0.310972394545873\n",
      "val IOU: 0.544812734425068\n",
      "Weight saved for epoch 26.\n"
     ]
    },
    {
     "name": "stderr",
     "output_type": "stream",
     "text": [
      "Epoch: 27: 100%|██████████| 738/738 [14:33<00:00,  1.18s/batch, iou=0.301, loss=0.546]\n"
     ]
    },
    {
     "name": "stdout",
     "output_type": "stream",
     "text": [
      "train Loss: 0.2876578938710657\n",
      "train IOU: 0.5622278886031975\n"
     ]
    },
    {
     "name": "stderr",
     "output_type": "stream",
     "text": [
      "Epoch: 27: 100%|██████████| 30/30 [01:18<00:00,  2.61s/batch, iou=0.606, loss=0.25] \n"
     ]
    },
    {
     "name": "stdout",
     "output_type": "stream",
     "text": [
      "val Loss: 0.3112762585282326\n",
      "val IOU: 0.543928004304568\n",
      "Weight saved for epoch 27.\n"
     ]
    },
    {
     "name": "stderr",
     "output_type": "stream",
     "text": [
      "Epoch: 28: 100%|██████████| 738/738 [15:19<00:00,  1.25s/batch, iou=0.568, loss=0.279] \n"
     ]
    },
    {
     "name": "stdout",
     "output_type": "stream",
     "text": [
      "train Loss: 0.28309654315231936\n",
      "train IOU: 0.5677247666488818\n"
     ]
    },
    {
     "name": "stderr",
     "output_type": "stream",
     "text": [
      "Epoch: 28: 100%|██████████| 30/30 [01:09<00:00,  2.32s/batch, iou=0.441, loss=0.394]\n"
     ]
    },
    {
     "name": "stdout",
     "output_type": "stream",
     "text": [
      "val Loss: 0.34035838892062503\n",
      "val IOU: 0.5134922564029694\n",
      "Weight saved for epoch 28.\n"
     ]
    },
    {
     "name": "stderr",
     "output_type": "stream",
     "text": [
      "Epoch: 29: 100%|██████████| 738/738 [15:13<00:00,  1.24s/batch, iou=0.367, loss=0.471] \n"
     ]
    },
    {
     "name": "stdout",
     "output_type": "stream",
     "text": [
      "train Loss: 0.28012143780141663\n",
      "train IOU: 0.5717327514395805\n"
     ]
    },
    {
     "name": "stderr",
     "output_type": "stream",
     "text": [
      "Epoch: 29: 100%|██████████| 30/30 [01:15<00:00,  2.53s/batch, iou=0.585, loss=0.266]\n"
     ]
    },
    {
     "name": "stdout",
     "output_type": "stream",
     "text": [
      "val Loss: 0.34109199941158297\n",
      "val IOU: 0.5090531627337138\n",
      "Weight saved for epoch 29.\n"
     ]
    },
    {
     "name": "stderr",
     "output_type": "stream",
     "text": [
      "Epoch: 30: 100%|██████████| 738/738 [15:36<00:00,  1.27s/batch, iou=0.423, loss=0.413] \n"
     ]
    },
    {
     "name": "stdout",
     "output_type": "stream",
     "text": [
      "train Loss: 0.27746005162475557\n",
      "train IOU: 0.5745990625241908\n"
     ]
    },
    {
     "name": "stderr",
     "output_type": "stream",
     "text": [
      "Epoch: 30: 100%|██████████| 30/30 [01:12<00:00,  2.42s/batch, iou=0.675, loss=0.198]\n"
     ]
    },
    {
     "name": "stdout",
     "output_type": "stream",
     "text": [
      "val Loss: 0.30773767878611885\n",
      "val IOU: 0.5499878744284312\n",
      "Weight saved for epoch 30.\n"
     ]
    },
    {
     "name": "stderr",
     "output_type": "stream",
     "text": [
      "Epoch: 31: 100%|██████████| 738/738 [15:07<00:00,  1.23s/batch, iou=0.356, loss=0.481] \n"
     ]
    },
    {
     "name": "stdout",
     "output_type": "stream",
     "text": [
      "train Loss: 0.2702915493025366\n",
      "train IOU: 0.5833170848891018\n"
     ]
    },
    {
     "name": "stderr",
     "output_type": "stream",
     "text": [
      "Epoch: 31: 100%|██████████| 30/30 [01:16<00:00,  2.55s/batch, iou=0.563, loss=0.284]\n"
     ]
    },
    {
     "name": "stdout",
     "output_type": "stream",
     "text": [
      "val Loss: 0.3019225294391314\n",
      "val IOU: 0.5566802004973094\n",
      "Weight saved for epoch 31.\n"
     ]
    },
    {
     "name": "stderr",
     "output_type": "stream",
     "text": [
      "Epoch: 32: 100%|██████████| 738/738 [15:17<00:00,  1.24s/batch, iou=0.199, loss=0.687]\n"
     ]
    },
    {
     "name": "stdout",
     "output_type": "stream",
     "text": [
      "train Loss: 0.2709261818024201\n",
      "train IOU: 0.5825050534796585\n"
     ]
    },
    {
     "name": "stderr",
     "output_type": "stream",
     "text": [
      "Epoch: 32: 100%|██████████| 30/30 [01:11<00:00,  2.38s/batch, iou=0.632, loss=0.229]\n"
     ]
    },
    {
     "name": "stdout",
     "output_type": "stream",
     "text": [
      "val Loss: 0.28762484590212506\n",
      "val IOU: 0.5707981963952382\n",
      "Weight saved for epoch 32.\n"
     ]
    },
    {
     "name": "stderr",
     "output_type": "stream",
     "text": [
      "Epoch: 33: 100%|██████████| 738/738 [15:10<00:00,  1.23s/batch, iou=0.563, loss=0.281] \n"
     ]
    },
    {
     "name": "stdout",
     "output_type": "stream",
     "text": [
      "train Loss: 0.2665598217428215\n",
      "train IOU: 0.5878701511679626\n"
     ]
    },
    {
     "name": "stderr",
     "output_type": "stream",
     "text": [
      "Epoch: 33: 100%|██████████| 30/30 [01:18<00:00,  2.61s/batch, iou=0.349, loss=0.491]\n"
     ]
    },
    {
     "name": "stdout",
     "output_type": "stream",
     "text": [
      "val Loss: 0.5071240375439326\n",
      "val IOU: 0.3556786152223746\n",
      "Weight saved for epoch 33.\n"
     ]
    },
    {
     "name": "stderr",
     "output_type": "stream",
     "text": [
      "Epoch: 34: 100%|██████████| 738/738 [15:44<00:00,  1.28s/batch, iou=0.519, loss=0.325] \n"
     ]
    },
    {
     "name": "stdout",
     "output_type": "stream",
     "text": [
      "train Loss: 0.2646675038184254\n",
      "train IOU: 0.590016015863354\n"
     ]
    },
    {
     "name": "stderr",
     "output_type": "stream",
     "text": [
      "Epoch: 34: 100%|██████████| 30/30 [01:19<00:00,  2.64s/batch, iou=0.592, loss=0.261]\n"
     ]
    },
    {
     "name": "stdout",
     "output_type": "stream",
     "text": [
      "val Loss: 0.28970188200473784\n",
      "val IOU: 0.5710646683971087\n",
      "Weight saved for epoch 34.\n"
     ]
    },
    {
     "name": "stderr",
     "output_type": "stream",
     "text": [
      "Epoch: 35: 100%|██████████| 738/738 [15:39<00:00,  1.27s/batch, iou=0.409, loss=0.426] \n"
     ]
    },
    {
     "name": "stdout",
     "output_type": "stream",
     "text": [
      "train Loss: 0.2628702818337818\n",
      "train IOU: 0.5926534360259529\n"
     ]
    },
    {
     "name": "stderr",
     "output_type": "stream",
     "text": [
      "Epoch: 35: 100%|██████████| 30/30 [01:17<00:00,  2.57s/batch, iou=0.617, loss=0.241]\n"
     ]
    },
    {
     "name": "stdout",
     "output_type": "stream",
     "text": [
      "val Loss: 0.2923813765247663\n",
      "val IOU: 0.5673752218484879\n",
      "Weight saved for epoch 35.\n"
     ]
    },
    {
     "name": "stderr",
     "output_type": "stream",
     "text": [
      "Epoch: 36: 100%|██████████| 738/738 [14:51<00:00,  1.21s/batch, iou=0.3, loss=0.546]   \n"
     ]
    },
    {
     "name": "stdout",
     "output_type": "stream",
     "text": [
      "train Loss: 0.25960709925912584\n",
      "train IOU: 0.596575557862517\n"
     ]
    },
    {
     "name": "stderr",
     "output_type": "stream",
     "text": [
      "Epoch: 36: 100%|██████████| 30/30 [01:05<00:00,  2.18s/batch, iou=0.434, loss=0.402]\n"
     ]
    },
    {
     "name": "stdout",
     "output_type": "stream",
     "text": [
      "val Loss: 0.33421071420113246\n",
      "val IOU: 0.519614557425181\n",
      "Weight saved for epoch 36.\n"
     ]
    },
    {
     "name": "stderr",
     "output_type": "stream",
     "text": [
      "Epoch: 37: 100%|██████████| 738/738 [14:34<00:00,  1.19s/batch, iou=0.58, loss=0.27]   \n"
     ]
    },
    {
     "name": "stdout",
     "output_type": "stream",
     "text": [
      "train Loss: 0.25716306133887307\n",
      "train IOU: 0.5994792234526094\n"
     ]
    },
    {
     "name": "stderr",
     "output_type": "stream",
     "text": [
      "Epoch: 37: 100%|██████████| 30/30 [01:17<00:00,  2.57s/batch, iou=0.578, loss=0.273]\n"
     ]
    },
    {
     "name": "stdout",
     "output_type": "stream",
     "text": [
      "val Loss: 0.3332028850913048\n",
      "val IOU: 0.5220003669460614\n",
      "Weight saved for epoch 37.\n"
     ]
    },
    {
     "name": "stderr",
     "output_type": "stream",
     "text": [
      "Epoch: 38: 100%|██████████| 738/738 [16:06<00:00,  1.31s/batch, iou=0.282, loss=0.567] \n"
     ]
    },
    {
     "name": "stdout",
     "output_type": "stream",
     "text": [
      "train Loss: 0.2556392246993577\n",
      "train IOU: 0.6014987084519895\n"
     ]
    },
    {
     "name": "stderr",
     "output_type": "stream",
     "text": [
      "Epoch: 38: 100%|██████████| 30/30 [01:20<00:00,  2.68s/batch, iou=0.212, loss=0.681] \n"
     ]
    },
    {
     "name": "stdout",
     "output_type": "stream",
     "text": [
      "val Loss: 0.6758090188105901\n",
      "val IOU: 0.22633076161146165\n",
      "Weight saved for epoch 38.\n"
     ]
    },
    {
     "name": "stderr",
     "output_type": "stream",
     "text": [
      "Epoch: 39: 100%|██████████| 738/738 [15:44<00:00,  1.28s/batch, iou=0.371, loss=0.474] \n"
     ]
    },
    {
     "name": "stdout",
     "output_type": "stream",
     "text": [
      "train Loss: 0.2550877644642582\n",
      "train IOU: 0.6024871722146424\n"
     ]
    },
    {
     "name": "stderr",
     "output_type": "stream",
     "text": [
      "Epoch: 39: 100%|██████████| 30/30 [01:17<00:00,  2.58s/batch, iou=0.695, loss=0.183]\n"
     ]
    },
    {
     "name": "stdout",
     "output_type": "stream",
     "text": [
      "val Loss: 0.2785413016875585\n",
      "val IOU: 0.5828704098860423\n",
      "Weight saved for epoch 39.\n"
     ]
    },
    {
     "name": "stderr",
     "output_type": "stream",
     "text": [
      "Epoch: 40: 100%|██████████| 738/738 [15:11<00:00,  1.24s/batch, iou=0.0877, loss=0.869]\n"
     ]
    },
    {
     "name": "stdout",
     "output_type": "stream",
     "text": [
      "train Loss: 0.2511232538113426\n",
      "train IOU: 0.6075204107456091\n"
     ]
    },
    {
     "name": "stderr",
     "output_type": "stream",
     "text": [
      "Epoch: 40: 100%|██████████| 30/30 [01:21<00:00,  2.71s/batch, iou=0.652, loss=0.214]\n"
     ]
    },
    {
     "name": "stdout",
     "output_type": "stream",
     "text": [
      "val Loss: 0.28535213122765224\n",
      "val IOU: 0.5760412325461706\n",
      "Weight saved for epoch 40.\n"
     ]
    },
    {
     "name": "stderr",
     "output_type": "stream",
     "text": [
      "Epoch: 41: 100%|██████████| 738/738 [15:41<00:00,  1.28s/batch, iou=0.594, loss=0.263] \n"
     ]
    },
    {
     "name": "stdout",
     "output_type": "stream",
     "text": [
      "train Loss: 0.2490606557143736\n",
      "train IOU: 0.6099173765033887\n"
     ]
    },
    {
     "name": "stderr",
     "output_type": "stream",
     "text": [
      "Epoch: 41: 100%|██████████| 30/30 [01:17<00:00,  2.59s/batch, iou=0.674, loss=0.198]\n"
     ]
    },
    {
     "name": "stdout",
     "output_type": "stream",
     "text": [
      "val Loss: 0.2923332445323467\n",
      "val IOU: 0.5685864835977554\n",
      "Weight saved for epoch 41.\n"
     ]
    },
    {
     "name": "stderr",
     "output_type": "stream",
     "text": [
      "Epoch: 42: 100%|██████████| 738/738 [15:16<00:00,  1.24s/batch, iou=0.121, loss=0.793] \n"
     ]
    },
    {
     "name": "stdout",
     "output_type": "stream",
     "text": [
      "train Loss: 0.24784976023887878\n",
      "train IOU: 0.611683471143488\n"
     ]
    },
    {
     "name": "stderr",
     "output_type": "stream",
     "text": [
      "Epoch: 42: 100%|██████████| 30/30 [01:18<00:00,  2.62s/batch, iou=0.688, loss=0.188]\n"
     ]
    },
    {
     "name": "stdout",
     "output_type": "stream",
     "text": [
      "val Loss: 0.2695354347427686\n",
      "val IOU: 0.5928931007782619\n",
      "Weight saved for epoch 42.\n"
     ]
    },
    {
     "name": "stderr",
     "output_type": "stream",
     "text": [
      "Epoch: 43: 100%|██████████| 738/738 [14:50<00:00,  1.21s/batch, iou=0.173, loss=0.71]  \n"
     ]
    },
    {
     "name": "stdout",
     "output_type": "stream",
     "text": [
      "train Loss: 0.24542507910873831\n",
      "train IOU: 0.6145510353693148\n"
     ]
    },
    {
     "name": "stderr",
     "output_type": "stream",
     "text": [
      "Epoch: 43: 100%|██████████| 30/30 [01:15<00:00,  2.51s/batch, iou=0.709, loss=0.173]\n"
     ]
    },
    {
     "name": "stdout",
     "output_type": "stream",
     "text": [
      "val Loss: 0.27732088342308997\n",
      "val IOU: 0.5826269934574763\n",
      "Weight saved for epoch 43.\n"
     ]
    },
    {
     "name": "stderr",
     "output_type": "stream",
     "text": [
      "Epoch: 44: 100%|██████████| 738/738 [15:07<00:00,  1.23s/batch, iou=0.292, loss=0.563]\n"
     ]
    },
    {
     "name": "stdout",
     "output_type": "stream",
     "text": [
      "train Loss: 0.24280180652855535\n",
      "train IOU: 0.6178254096246347\n"
     ]
    },
    {
     "name": "stderr",
     "output_type": "stream",
     "text": [
      "Epoch: 44: 100%|██████████| 30/30 [01:19<00:00,  2.67s/batch, iou=0.686, loss=0.19] \n"
     ]
    },
    {
     "name": "stdout",
     "output_type": "stream",
     "text": [
      "val Loss: 0.3223939230044683\n",
      "val IOU: 0.5323597490787506\n",
      "Weight saved for epoch 44.\n"
     ]
    },
    {
     "name": "stderr",
     "output_type": "stream",
     "text": [
      "Epoch: 45: 100%|██████████| 738/738 [16:18<00:00,  1.33s/batch, iou=0.6, loss=0.257]   \n"
     ]
    },
    {
     "name": "stdout",
     "output_type": "stream",
     "text": [
      "train Loss: 0.24009069337996686\n",
      "train IOU: 0.6210475880602188\n"
     ]
    },
    {
     "name": "stderr",
     "output_type": "stream",
     "text": [
      "Epoch: 45: 100%|██████████| 30/30 [01:20<00:00,  2.68s/batch, iou=0.647, loss=0.218]\n"
     ]
    },
    {
     "name": "stdout",
     "output_type": "stream",
     "text": [
      "val Loss: 0.26157207066814103\n",
      "val IOU: 0.6029408276081085\n",
      "Weight saved for epoch 45.\n"
     ]
    },
    {
     "name": "stderr",
     "output_type": "stream",
     "text": [
      "Epoch: 46: 100%|██████████| 738/738 [15:37<00:00,  1.27s/batch, iou=0.508, loss=0.33]  \n"
     ]
    },
    {
     "name": "stdout",
     "output_type": "stream",
     "text": [
      "train Loss: 0.23725291476824742\n",
      "train IOU: 0.6246497268841519\n"
     ]
    },
    {
     "name": "stderr",
     "output_type": "stream",
     "text": [
      "Epoch: 46: 100%|██████████| 30/30 [01:14<00:00,  2.47s/batch, iou=0.659, loss=0.21] \n"
     ]
    },
    {
     "name": "stdout",
     "output_type": "stream",
     "text": [
      "val Loss: 0.2931600511074066\n",
      "val IOU: 0.5660989999771118\n",
      "Weight saved for epoch 46.\n"
     ]
    },
    {
     "name": "stderr",
     "output_type": "stream",
     "text": [
      "Epoch: 47: 100%|██████████| 738/738 [15:17<00:00,  1.24s/batch, iou=0.732, loss=0.158] \n"
     ]
    },
    {
     "name": "stdout",
     "output_type": "stream",
     "text": [
      "train Loss: 0.23627349774688886\n",
      "train IOU: 0.626043361538471\n"
     ]
    },
    {
     "name": "stderr",
     "output_type": "stream",
     "text": [
      "Epoch: 47: 100%|██████████| 30/30 [01:16<00:00,  2.54s/batch, iou=0.623, loss=0.237]\n"
     ]
    },
    {
     "name": "stdout",
     "output_type": "stream",
     "text": [
      "val Loss: 0.29877891739209494\n",
      "val IOU: 0.5600305438041687\n",
      "Weight saved for epoch 47.\n"
     ]
    },
    {
     "name": "stderr",
     "output_type": "stream",
     "text": [
      "Epoch: 48: 100%|██████████| 738/738 [15:47<00:00,  1.28s/batch, iou=0.581, loss=0.267] \n"
     ]
    },
    {
     "name": "stdout",
     "output_type": "stream",
     "text": [
      "train Loss: 0.23346503797746931\n",
      "train IOU: 0.6292084186138499\n"
     ]
    },
    {
     "name": "stderr",
     "output_type": "stream",
     "text": [
      "Epoch: 48: 100%|██████████| 30/30 [01:15<00:00,  2.50s/batch, iou=0.547, loss=0.298]\n"
     ]
    },
    {
     "name": "stdout",
     "output_type": "stream",
     "text": [
      "val Loss: 0.2895222951968511\n",
      "val IOU: 0.5695114920536677\n",
      "Weight saved for epoch 48.\n"
     ]
    },
    {
     "name": "stderr",
     "output_type": "stream",
     "text": [
      "Epoch: 49: 100%|██████████| 738/738 [15:49<00:00,  1.29s/batch, iou=0.555, loss=0.299] \n"
     ]
    },
    {
     "name": "stdout",
     "output_type": "stream",
     "text": [
      "train Loss: 0.2332574999348581\n",
      "train IOU: 0.6299230542770893\n"
     ]
    },
    {
     "name": "stderr",
     "output_type": "stream",
     "text": [
      "Epoch: 49: 100%|██████████| 30/30 [01:17<00:00,  2.60s/batch, iou=0.712, loss=0.171]\n"
     ]
    },
    {
     "name": "stdout",
     "output_type": "stream",
     "text": [
      "val Loss: 0.25838558524847033\n",
      "val IOU: 0.6080086886882782\n",
      "Weight saved for epoch 49.\n"
     ]
    },
    {
     "name": "stderr",
     "output_type": "stream",
     "text": [
      "Epoch: 50: 100%|██████████| 738/738 [15:17<00:00,  1.24s/batch, iou=0.348, loss=0.497]\n"
     ]
    },
    {
     "name": "stdout",
     "output_type": "stream",
     "text": [
      "train Loss: 0.2322408823261093\n",
      "train IOU: 0.6312746949554459\n"
     ]
    },
    {
     "name": "stderr",
     "output_type": "stream",
     "text": [
      "Epoch: 50: 100%|██████████| 30/30 [01:20<00:00,  2.67s/batch, iou=0.691, loss=0.186]\n"
     ]
    },
    {
     "name": "stdout",
     "output_type": "stream",
     "text": [
      "val Loss: 0.26152020146449406\n",
      "val IOU: 0.601264700293541\n",
      "Weight saved for epoch 50.\n"
     ]
    },
    {
     "name": "stderr",
     "output_type": "stream",
     "text": [
      "Epoch: 51: 100%|██████████| 738/738 [15:34<00:00,  1.27s/batch, iou=0.445, loss=0.393] \n"
     ]
    },
    {
     "name": "stdout",
     "output_type": "stream",
     "text": [
      "train Loss: 0.23118884176985036\n",
      "train IOU: 0.63265392777881\n"
     ]
    },
    {
     "name": "stderr",
     "output_type": "stream",
     "text": [
      "Epoch: 51: 100%|██████████| 30/30 [01:19<00:00,  2.66s/batch, iou=0.657, loss=0.211]\n"
     ]
    },
    {
     "name": "stdout",
     "output_type": "stream",
     "text": [
      "val Loss: 0.27620356952150665\n",
      "val IOU: 0.5868282894293467\n",
      "Weight saved for epoch 51.\n"
     ]
    },
    {
     "name": "stderr",
     "output_type": "stream",
     "text": [
      "Epoch: 52: 100%|██████████| 738/738 [15:51<00:00,  1.29s/batch, iou=0.588, loss=0.261] \n"
     ]
    },
    {
     "name": "stdout",
     "output_type": "stream",
     "text": [
      "train Loss: 0.22814697198832262\n",
      "train IOU: 0.6365542035035001\n"
     ]
    },
    {
     "name": "stderr",
     "output_type": "stream",
     "text": [
      "Epoch: 52: 100%|██████████| 30/30 [01:17<00:00,  2.58s/batch, iou=0.555, loss=0.291]\n"
     ]
    },
    {
     "name": "stdout",
     "output_type": "stream",
     "text": [
      "val Loss: 0.2760464772582054\n",
      "val IOU: 0.5853890846172969\n",
      "Weight saved for epoch 52.\n"
     ]
    },
    {
     "name": "stderr",
     "output_type": "stream",
     "text": [
      "Epoch: 53: 100%|██████████| 738/738 [14:33<00:00,  1.18s/batch, iou=0.532, loss=0.309] \n"
     ]
    },
    {
     "name": "stdout",
     "output_type": "stream",
     "text": [
      "train Loss: 0.22635975884914722\n",
      "train IOU: 0.6388498987285749\n"
     ]
    },
    {
     "name": "stderr",
     "output_type": "stream",
     "text": [
      "Epoch: 53: 100%|██████████| 30/30 [01:08<00:00,  2.27s/batch, iou=0.702, loss=0.178]\n"
     ]
    },
    {
     "name": "stdout",
     "output_type": "stream",
     "text": [
      "val Loss: 0.24605185439189275\n",
      "val IOU: 0.6203866342703501\n",
      "Weight saved for epoch 53.\n"
     ]
    },
    {
     "name": "stderr",
     "output_type": "stream",
     "text": [
      "Epoch: 54: 100%|██████████| 738/738 [14:42<00:00,  1.20s/batch, iou=0.62, loss=0.237]  \n"
     ]
    },
    {
     "name": "stdout",
     "output_type": "stream",
     "text": [
      "train Loss: 0.22490609612891344\n",
      "train IOU: 0.6408804605404536\n"
     ]
    },
    {
     "name": "stderr",
     "output_type": "stream",
     "text": [
      "Epoch: 54: 100%|██████████| 30/30 [01:15<00:00,  2.50s/batch, iou=0.638, loss=0.225]\n"
     ]
    },
    {
     "name": "stdout",
     "output_type": "stream",
     "text": [
      "val Loss: 0.2606486218671004\n",
      "val IOU: 0.6063341975212098\n",
      "Weight saved for epoch 54.\n"
     ]
    },
    {
     "name": "stderr",
     "output_type": "stream",
     "text": [
      "Epoch: 55: 100%|██████████| 738/738 [16:06<00:00,  1.31s/batch, iou=0.576, loss=0.281] \n"
     ]
    },
    {
     "name": "stdout",
     "output_type": "stream",
     "text": [
      "train Loss: 0.22324783665943276\n",
      "train IOU: 0.6430429231102873\n"
     ]
    },
    {
     "name": "stderr",
     "output_type": "stream",
     "text": [
      "Epoch: 55: 100%|██████████| 30/30 [01:17<00:00,  2.59s/batch, iou=0.714, loss=0.17] \n"
     ]
    },
    {
     "name": "stdout",
     "output_type": "stream",
     "text": [
      "val Loss: 0.24081056316693625\n",
      "val IOU: 0.6282714049021403\n",
      "Weight saved for epoch 55.\n"
     ]
    },
    {
     "name": "stderr",
     "output_type": "stream",
     "text": [
      "Epoch: 56: 100%|██████████| 738/738 [15:35<00:00,  1.27s/batch, iou=0.523, loss=0.32]  \n"
     ]
    },
    {
     "name": "stdout",
     "output_type": "stream",
     "text": [
      "train Loss: 0.22126257997056656\n",
      "train IOU: 0.6456636173049932\n"
     ]
    },
    {
     "name": "stderr",
     "output_type": "stream",
     "text": [
      "Epoch: 56: 100%|██████████| 30/30 [01:14<00:00,  2.48s/batch, iou=0.709, loss=0.173]\n"
     ]
    },
    {
     "name": "stdout",
     "output_type": "stream",
     "text": [
      "val Loss: 0.2565042518079281\n",
      "val IOU: 0.6115970035394033\n",
      "Weight saved for epoch 56.\n"
     ]
    },
    {
     "name": "stderr",
     "output_type": "stream",
     "text": [
      "Epoch: 57: 100%|██████████| 738/738 [15:08<00:00,  1.23s/batch, iou=0.487, loss=0.35]  \n"
     ]
    },
    {
     "name": "stdout",
     "output_type": "stream",
     "text": [
      "train Loss: 0.22001939858524458\n",
      "train IOU: 0.6471286833205521\n"
     ]
    },
    {
     "name": "stderr",
     "output_type": "stream",
     "text": [
      "Epoch: 57: 100%|██████████| 30/30 [01:04<00:00,  2.15s/batch, iou=0.7, loss=0.18]   \n"
     ]
    },
    {
     "name": "stdout",
     "output_type": "stream",
     "text": [
      "val Loss: 0.24896780451138814\n",
      "val IOU: 0.6180785208940506\n",
      "Weight saved for epoch 57.\n"
     ]
    },
    {
     "name": "stderr",
     "output_type": "stream",
     "text": [
      "Epoch: 58: 100%|██████████| 738/738 [15:20<00:00,  1.25s/batch, iou=0.692, loss=0.184] \n"
     ]
    },
    {
     "name": "stdout",
     "output_type": "stream",
     "text": [
      "train Loss: 0.2184070525413283\n",
      "train IOU: 0.649086806226552\n"
     ]
    },
    {
     "name": "stderr",
     "output_type": "stream",
     "text": [
      "Epoch: 58: 100%|██████████| 30/30 [01:18<00:00,  2.61s/batch, iou=0.679, loss=0.195]\n"
     ]
    },
    {
     "name": "stdout",
     "output_type": "stream",
     "text": [
      "val Loss: 0.258481544504563\n",
      "val IOU: 0.6103565663099288\n",
      "Weight saved for epoch 58.\n"
     ]
    },
    {
     "name": "stderr",
     "output_type": "stream",
     "text": [
      "Epoch: 59: 100%|██████████| 738/738 [15:29<00:00,  1.26s/batch, iou=0.629, loss=0.234] \n"
     ]
    },
    {
     "name": "stdout",
     "output_type": "stream",
     "text": [
      "train Loss: 0.21708122228946142\n",
      "train IOU: 0.6509867881533253\n"
     ]
    },
    {
     "name": "stderr",
     "output_type": "stream",
     "text": [
      "Epoch: 59: 100%|██████████| 30/30 [01:13<00:00,  2.46s/batch, iou=0.707, loss=0.175]\n"
     ]
    },
    {
     "name": "stdout",
     "output_type": "stream",
     "text": [
      "val Loss: 0.26728091165423395\n",
      "val IOU: 0.5993199904759725\n",
      "Weight saved for epoch 59.\n"
     ]
    },
    {
     "name": "stderr",
     "output_type": "stream",
     "text": [
      "Epoch: 60: 100%|██████████| 738/738 [15:14<00:00,  1.24s/batch, iou=0.575, loss=0.275] \n"
     ]
    },
    {
     "name": "stdout",
     "output_type": "stream",
     "text": [
      "train Loss: 0.2152882231283317\n",
      "train IOU: 0.6533737468525647\n"
     ]
    },
    {
     "name": "stderr",
     "output_type": "stream",
     "text": [
      "Epoch: 60: 100%|██████████| 30/30 [01:14<00:00,  2.47s/batch, iou=0.67, loss=0.201] \n"
     ]
    },
    {
     "name": "stdout",
     "output_type": "stream",
     "text": [
      "val Loss: 0.27387065440416336\n",
      "val IOU: 0.5899715334177017\n",
      "Weight saved for epoch 60.\n"
     ]
    },
    {
     "name": "stderr",
     "output_type": "stream",
     "text": [
      "Epoch: 61: 100%|██████████| 738/738 [15:14<00:00,  1.24s/batch, iou=0.495, loss=0.34]  \n"
     ]
    },
    {
     "name": "stdout",
     "output_type": "stream",
     "text": [
      "train Loss: 0.2153296338793062\n",
      "train IOU: 0.6534262988867798\n"
     ]
    },
    {
     "name": "stderr",
     "output_type": "stream",
     "text": [
      "Epoch: 61: 100%|██████████| 30/30 [01:07<00:00,  2.25s/batch, iou=0.64, loss=0.223] \n"
     ]
    },
    {
     "name": "stdout",
     "output_type": "stream",
     "text": [
      "val Loss: 0.2611369560162226\n",
      "val IOU: 0.604754384358724\n",
      "Weight saved for epoch 61.\n"
     ]
    },
    {
     "name": "stderr",
     "output_type": "stream",
     "text": [
      "Epoch: 62: 100%|██████████| 738/738 [15:04<00:00,  1.23s/batch, iou=0.521, loss=0.32]  \n"
     ]
    },
    {
     "name": "stdout",
     "output_type": "stream",
     "text": [
      "train Loss: 0.21487233851377557\n",
      "train IOU: 0.6539340393572319\n"
     ]
    },
    {
     "name": "stderr",
     "output_type": "stream",
     "text": [
      "Epoch: 62: 100%|██████████| 30/30 [01:18<00:00,  2.63s/batch, iou=0.705, loss=0.176]\n"
     ]
    },
    {
     "name": "stdout",
     "output_type": "stream",
     "text": [
      "val Loss: 0.24682295074065527\n",
      "val IOU: 0.6190824061632156\n",
      "Weight saved for epoch 62.\n"
     ]
    },
    {
     "name": "stderr",
     "output_type": "stream",
     "text": [
      "Epoch: 63: 100%|██████████| 738/738 [15:48<00:00,  1.29s/batch, iou=0.65, loss=0.215]  \n"
     ]
    },
    {
     "name": "stdout",
     "output_type": "stream",
     "text": [
      "train Loss: 0.21222174506846483\n",
      "train IOU: 0.6572672442853612\n"
     ]
    },
    {
     "name": "stderr",
     "output_type": "stream",
     "text": [
      "Epoch: 63: 100%|██████████| 30/30 [01:14<00:00,  2.50s/batch, iou=0.715, loss=0.169]\n"
     ]
    },
    {
     "name": "stdout",
     "output_type": "stream",
     "text": [
      "val Loss: 0.23815281117955844\n",
      "val IOU: 0.6323058634996415\n",
      "Weight saved for epoch 63.\n"
     ]
    },
    {
     "name": "stderr",
     "output_type": "stream",
     "text": [
      "Epoch: 64: 100%|██████████| 738/738 [15:40<00:00,  1.27s/batch, iou=0.61, loss=0.248]  \n"
     ]
    },
    {
     "name": "stdout",
     "output_type": "stream",
     "text": [
      "train Loss: 0.2105998002033085\n",
      "train IOU: 0.659715678552948\n"
     ]
    },
    {
     "name": "stderr",
     "output_type": "stream",
     "text": [
      "Epoch: 64: 100%|██████████| 30/30 [01:16<00:00,  2.56s/batch, iou=0.731, loss=0.158]\n"
     ]
    },
    {
     "name": "stdout",
     "output_type": "stream",
     "text": [
      "val Loss: 0.23485057478149732\n",
      "val IOU: 0.637312971552213\n",
      "Weight saved for epoch 64.\n"
     ]
    },
    {
     "name": "stderr",
     "output_type": "stream",
     "text": [
      "Epoch: 65: 100%|██████████| 738/738 [15:10<00:00,  1.23s/batch, iou=0.391, loss=0.448] \n"
     ]
    },
    {
     "name": "stdout",
     "output_type": "stream",
     "text": [
      "train Loss: 0.20990114647965769\n",
      "train IOU: 0.6607105235258738\n"
     ]
    },
    {
     "name": "stderr",
     "output_type": "stream",
     "text": [
      "Epoch: 65: 100%|██████████| 30/30 [01:14<00:00,  2.50s/batch, iou=0.712, loss=0.171]\n"
     ]
    },
    {
     "name": "stdout",
     "output_type": "stream",
     "text": [
      "val Loss: 0.23928573951125146\n",
      "val IOU: 0.6317367355028788\n",
      "Weight saved for epoch 65.\n"
     ]
    },
    {
     "name": "stderr",
     "output_type": "stream",
     "text": [
      "Epoch: 66: 100%|██████████| 738/738 [15:40<00:00,  1.27s/batch, iou=0.213, loss=0.653] \n"
     ]
    },
    {
     "name": "stdout",
     "output_type": "stream",
     "text": [
      "train Loss: 0.20756709631179082\n",
      "train IOU: 0.6638749847365265\n"
     ]
    },
    {
     "name": "stderr",
     "output_type": "stream",
     "text": [
      "Epoch: 66: 100%|██████████| 30/30 [01:17<00:00,  2.58s/batch, iou=0.725, loss=0.162]\n"
     ]
    },
    {
     "name": "stdout",
     "output_type": "stream",
     "text": [
      "val Loss: 0.24702585289875667\n",
      "val IOU: 0.6194613267978032\n",
      "Weight saved for epoch 66.\n"
     ]
    },
    {
     "name": "stderr",
     "output_type": "stream",
     "text": [
      "Epoch: 67: 100%|██████████| 738/738 [15:48<00:00,  1.29s/batch, iou=0.435, loss=0.397] \n"
     ]
    },
    {
     "name": "stdout",
     "output_type": "stream",
     "text": [
      "train Loss: 0.2076065641976792\n",
      "train IOU: 0.6636361597272439\n"
     ]
    },
    {
     "name": "stderr",
     "output_type": "stream",
     "text": [
      "Epoch: 67: 100%|██████████| 30/30 [01:22<00:00,  2.75s/batch, iou=0.538, loss=0.306]\n"
     ]
    },
    {
     "name": "stdout",
     "output_type": "stream",
     "text": [
      "val Loss: 0.31788996905088424\n",
      "val IOU: 0.5390047381321589\n",
      "Weight saved for epoch 67.\n"
     ]
    },
    {
     "name": "stderr",
     "output_type": "stream",
     "text": [
      "Epoch: 68: 100%|██████████| 738/738 [14:51<00:00,  1.21s/batch, iou=0.687, loss=0.189] \n"
     ]
    },
    {
     "name": "stdout",
     "output_type": "stream",
     "text": [
      "train Loss: 0.2064022573574287\n",
      "train IOU: 0.6654508443786523\n"
     ]
    },
    {
     "name": "stderr",
     "output_type": "stream",
     "text": [
      "Epoch: 68: 100%|██████████| 30/30 [01:08<00:00,  2.27s/batch, iou=0.727, loss=0.161]\n"
     ]
    },
    {
     "name": "stdout",
     "output_type": "stream",
     "text": [
      "val Loss: 0.22232105632623037\n",
      "val IOU: 0.6517303635676702\n",
      "Weight saved for epoch 68.\n"
     ]
    },
    {
     "name": "stderr",
     "output_type": "stream",
     "text": [
      "Epoch: 69: 100%|██████████| 738/738 [15:20<00:00,  1.25s/batch, iou=0.284, loss=0.56]  \n"
     ]
    },
    {
     "name": "stdout",
     "output_type": "stream",
     "text": [
      "train Loss: 0.2050254568861429\n",
      "train IOU: 0.6675022569129138\n"
     ]
    },
    {
     "name": "stderr",
     "output_type": "stream",
     "text": [
      "Epoch: 69: 100%|██████████| 30/30 [01:19<00:00,  2.66s/batch, iou=0.584, loss=0.268]\n"
     ]
    },
    {
     "name": "stdout",
     "output_type": "stream",
     "text": [
      "val Loss: 0.2749746007223924\n",
      "val IOU: 0.5901167273521424\n",
      "Weight saved for epoch 69.\n"
     ]
    },
    {
     "name": "stderr",
     "output_type": "stream",
     "text": [
      "Epoch: 70: 100%|██████████| 738/738 [16:18<00:00,  1.33s/batch, iou=0.428, loss=0.403] \n"
     ]
    },
    {
     "name": "stdout",
     "output_type": "stream",
     "text": [
      "train Loss: 0.20371344452345275\n",
      "train IOU: 0.6689857876478496\n"
     ]
    },
    {
     "name": "stderr",
     "output_type": "stream",
     "text": [
      "Epoch: 70: 100%|██████████| 30/30 [01:19<00:00,  2.66s/batch, iou=0.632, loss=0.23] \n"
     ]
    },
    {
     "name": "stdout",
     "output_type": "stream",
     "text": [
      "val Loss: 0.27709735880295433\n",
      "val IOU: 0.5847257892290751\n",
      "Weight saved for epoch 70.\n"
     ]
    },
    {
     "name": "stderr",
     "output_type": "stream",
     "text": [
      "Epoch: 71: 100%|██████████| 738/738 [15:06<00:00,  1.23s/batch, iou=0.323, loss=0.516] \n"
     ]
    },
    {
     "name": "stdout",
     "output_type": "stream",
     "text": [
      "train Loss: 0.20437545640277993\n",
      "train IOU: 0.6680649165619357\n"
     ]
    },
    {
     "name": "stderr",
     "output_type": "stream",
     "text": [
      "Epoch: 71: 100%|██████████| 30/30 [01:11<00:00,  2.39s/batch, iou=0.71, loss=0.173] \n"
     ]
    },
    {
     "name": "stdout",
     "output_type": "stream",
     "text": [
      "val Loss: 0.22459078679482142\n",
      "val IOU: 0.6496461202700933\n",
      "Weight saved for epoch 71.\n"
     ]
    },
    {
     "name": "stderr",
     "output_type": "stream",
     "text": [
      "Epoch: 72: 100%|██████████| 738/738 [15:05<00:00,  1.23s/batch, iou=0.589, loss=0.262] \n"
     ]
    },
    {
     "name": "stdout",
     "output_type": "stream",
     "text": [
      "train Loss: 0.20165471258121453\n",
      "train IOU: 0.6717703971597884\n"
     ]
    },
    {
     "name": "stderr",
     "output_type": "stream",
     "text": [
      "Epoch: 72: 100%|██████████| 30/30 [01:20<00:00,  2.69s/batch, iou=0.624, loss=0.235]\n"
     ]
    },
    {
     "name": "stdout",
     "output_type": "stream",
     "text": [
      "val Loss: 0.2740760244429111\n",
      "val IOU: 0.5878967483838399\n",
      "Weight saved for epoch 72.\n"
     ]
    },
    {
     "name": "stderr",
     "output_type": "stream",
     "text": [
      "Epoch: 73: 100%|██████████| 738/738 [15:54<00:00,  1.29s/batch, iou=0.718, loss=0.167] \n"
     ]
    },
    {
     "name": "stdout",
     "output_type": "stream",
     "text": [
      "train Loss: 0.20046143580056464\n",
      "train IOU: 0.6733629760461125\n"
     ]
    },
    {
     "name": "stderr",
     "output_type": "stream",
     "text": [
      "Epoch: 73: 100%|██████████| 30/30 [01:17<00:00,  2.57s/batch, iou=0.708, loss=0.174]\n"
     ]
    },
    {
     "name": "stdout",
     "output_type": "stream",
     "text": [
      "val Loss: 0.22720902984340985\n",
      "val IOU: 0.6464733411868413\n",
      "Weight saved for epoch 73.\n"
     ]
    },
    {
     "name": "stderr",
     "output_type": "stream",
     "text": [
      "Epoch: 74: 100%|██████████| 738/738 [15:11<00:00,  1.24s/batch, iou=0.431, loss=0.408] \n"
     ]
    },
    {
     "name": "stdout",
     "output_type": "stream",
     "text": [
      "train Loss: 0.19887169827088755\n",
      "train IOU: 0.6754351335408565\n"
     ]
    },
    {
     "name": "stderr",
     "output_type": "stream",
     "text": [
      "Epoch: 74: 100%|██████████| 30/30 [01:15<00:00,  2.51s/batch, iou=0.714, loss=0.17] \n"
     ]
    },
    {
     "name": "stdout",
     "output_type": "stream",
     "text": [
      "val Loss: 0.22526091213027635\n",
      "val IOU: 0.6491704831520716\n",
      "Weight saved for epoch 74.\n"
     ]
    },
    {
     "name": "stderr",
     "output_type": "stream",
     "text": [
      "Epoch: 75: 100%|██████████| 738/738 [15:13<00:00,  1.24s/batch, iou=0.606, loss=0.253] \n"
     ]
    },
    {
     "name": "stdout",
     "output_type": "stream",
     "text": [
      "train Loss: 0.19852177479725866\n",
      "train IOU: 0.6760426455235417\n"
     ]
    },
    {
     "name": "stderr",
     "output_type": "stream",
     "text": [
      "Epoch: 75: 100%|██████████| 30/30 [01:08<00:00,  2.29s/batch, iou=0.708, loss=0.174]\n"
     ]
    },
    {
     "name": "stdout",
     "output_type": "stream",
     "text": [
      "val Loss: 0.22815161024530728\n",
      "val IOU: 0.6458991030852\n",
      "Weight saved for epoch 75.\n"
     ]
    },
    {
     "name": "stderr",
     "output_type": "stream",
     "text": [
      "Epoch: 76: 100%|██████████| 738/738 [15:22<00:00,  1.25s/batch, iou=0.621, loss=0.236] \n"
     ]
    },
    {
     "name": "stdout",
     "output_type": "stream",
     "text": [
      "train Loss: 0.19863921902609388\n",
      "train IOU: 0.6757989473701492\n"
     ]
    },
    {
     "name": "stderr",
     "output_type": "stream",
     "text": [
      "Epoch: 76: 100%|██████████| 30/30 [01:19<00:00,  2.66s/batch, iou=0.726, loss=0.162]\n"
     ]
    },
    {
     "name": "stdout",
     "output_type": "stream",
     "text": [
      "val Loss: 0.22045553475618362\n",
      "val IOU: 0.6561467429002126\n",
      "Weight saved for epoch 76.\n"
     ]
    },
    {
     "name": "stderr",
     "output_type": "stream",
     "text": [
      "Epoch: 77: 100%|██████████| 738/738 [16:13<00:00,  1.32s/batch, iou=0.573, loss=0.273] \n"
     ]
    },
    {
     "name": "stdout",
     "output_type": "stream",
     "text": [
      "train Loss: 0.19616366042515773\n",
      "train IOU: 0.6789938026892783\n"
     ]
    },
    {
     "name": "stderr",
     "output_type": "stream",
     "text": [
      "Epoch: 77: 100%|██████████| 30/30 [01:19<00:00,  2.66s/batch, iou=0.682, loss=0.192]\n"
     ]
    },
    {
     "name": "stdout",
     "output_type": "stream",
     "text": [
      "val Loss: 0.31403219600518545\n",
      "val IOU: 0.5431100438038509\n",
      "Weight saved for epoch 77.\n"
     ]
    },
    {
     "name": "stderr",
     "output_type": "stream",
     "text": [
      "Epoch: 78: 100%|██████████| 738/738 [15:25<00:00,  1.25s/batch, iou=0.719, loss=0.166] \n"
     ]
    },
    {
     "name": "stdout",
     "output_type": "stream",
     "text": [
      "train Loss: 0.19684629432029194\n",
      "train IOU: 0.6781983628344084\n"
     ]
    },
    {
     "name": "stderr",
     "output_type": "stream",
     "text": [
      "Epoch: 78: 100%|██████████| 30/30 [01:10<00:00,  2.35s/batch, iou=0.727, loss=0.161]\n"
     ]
    },
    {
     "name": "stdout",
     "output_type": "stream",
     "text": [
      "val Loss: 0.21402776936690013\n",
      "val IOU: 0.6632305930058161\n",
      "Weight saved for epoch 78.\n"
     ]
    },
    {
     "name": "stderr",
     "output_type": "stream",
     "text": [
      "Epoch: 79: 100%|██████████| 738/738 [15:22<00:00,  1.25s/batch, iou=0.682, loss=0.191] \n"
     ]
    },
    {
     "name": "stdout",
     "output_type": "stream",
     "text": [
      "train Loss: 0.19532492434792725\n",
      "train IOU: 0.6803214770507037\n"
     ]
    },
    {
     "name": "stderr",
     "output_type": "stream",
     "text": [
      "Epoch: 79: 100%|██████████| 30/30 [01:21<00:00,  2.70s/batch, iou=0.718, loss=0.168]\n"
     ]
    },
    {
     "name": "stdout",
     "output_type": "stream",
     "text": [
      "val Loss: 0.23461327801148096\n",
      "val IOU: 0.6365294615427654\n",
      "Weight saved for epoch 79.\n"
     ]
    },
    {
     "name": "stderr",
     "output_type": "stream",
     "text": [
      "Epoch: 80: 100%|██████████| 738/738 [16:15<00:00,  1.32s/batch, iou=0.652, loss=0.215] \n"
     ]
    },
    {
     "name": "stdout",
     "output_type": "stream",
     "text": [
      "train Loss: 0.19428637491534073\n",
      "train IOU: 0.6816633692601832\n"
     ]
    },
    {
     "name": "stderr",
     "output_type": "stream",
     "text": [
      "Epoch: 80: 100%|██████████| 30/30 [01:21<00:00,  2.72s/batch, iou=0.736, loss=0.155]\n"
     ]
    },
    {
     "name": "stdout",
     "output_type": "stream",
     "text": [
      "val Loss: 0.21743812362353007\n",
      "val IOU: 0.6584584742784501\n",
      "Weight saved for epoch 80.\n"
     ]
    },
    {
     "name": "stderr",
     "output_type": "stream",
     "text": [
      "Epoch: 81: 100%|██████████| 738/738 [15:27<00:00,  1.26s/batch, iou=0.635, loss=0.226] \n"
     ]
    },
    {
     "name": "stdout",
     "output_type": "stream",
     "text": [
      "train Loss: 0.19092440045865247\n",
      "train IOU: 0.6862855560492048\n"
     ]
    },
    {
     "name": "stderr",
     "output_type": "stream",
     "text": [
      "Epoch: 81: 100%|██████████| 30/30 [01:10<00:00,  2.34s/batch, iou=0.734, loss=0.156]\n"
     ]
    },
    {
     "name": "stdout",
     "output_type": "stream",
     "text": [
      "val Loss: 0.22804689506689707\n",
      "val IOU: 0.6463265279928844\n",
      "Weight saved for epoch 81.\n"
     ]
    },
    {
     "name": "stderr",
     "output_type": "stream",
     "text": [
      "Epoch: 82: 100%|██████████| 738/738 [15:23<00:00,  1.25s/batch, iou=0.439, loss=0.397] \n"
     ]
    },
    {
     "name": "stdout",
     "output_type": "stream",
     "text": [
      "train Loss: 0.19085011258721352\n",
      "train IOU: 0.6864093915637592\n"
     ]
    },
    {
     "name": "stderr",
     "output_type": "stream",
     "text": [
      "Epoch: 82: 100%|██████████| 30/30 [01:20<00:00,  2.67s/batch, iou=0.647, loss=0.218]\n"
     ]
    },
    {
     "name": "stdout",
     "output_type": "stream",
     "text": [
      "val Loss: 0.22832389697432517\n",
      "val IOU: 0.6457376043001811\n",
      "Weight saved for epoch 82.\n"
     ]
    },
    {
     "name": "stderr",
     "output_type": "stream",
     "text": [
      "Epoch: 83: 100%|██████████| 738/738 [16:17<00:00,  1.32s/batch, iou=0.32, loss=0.524]  \n"
     ]
    },
    {
     "name": "stdout",
     "output_type": "stream",
     "text": [
      "train Loss: 0.19065934823457464\n",
      "train IOU: 0.6871141609218385\n"
     ]
    },
    {
     "name": "stderr",
     "output_type": "stream",
     "text": [
      "Epoch: 83: 100%|██████████| 30/30 [01:20<00:00,  2.69s/batch, iou=0.0824, loss=0.964]\n"
     ]
    },
    {
     "name": "stdout",
     "output_type": "stream",
     "text": [
      "val Loss: 1.1779156545797984\n",
      "val IOU: 0.05758018208046754\n",
      "Weight saved for epoch 83.\n"
     ]
    },
    {
     "name": "stderr",
     "output_type": "stream",
     "text": [
      "Epoch: 84: 100%|██████████| 738/738 [15:03<00:00,  1.22s/batch, iou=0.545, loss=0.299] \n"
     ]
    },
    {
     "name": "stdout",
     "output_type": "stream",
     "text": [
      "train Loss: 0.18924222820940703\n",
      "train IOU: 0.6886839787084559\n"
     ]
    },
    {
     "name": "stderr",
     "output_type": "stream",
     "text": [
      "Epoch: 84: 100%|██████████| 30/30 [01:15<00:00,  2.50s/batch, iou=0.714, loss=0.17] \n"
     ]
    },
    {
     "name": "stdout",
     "output_type": "stream",
     "text": [
      "val Loss: 0.22434246813257536\n",
      "val IOU: 0.6518347720305125\n",
      "Weight saved for epoch 84.\n"
     ]
    },
    {
     "name": "stderr",
     "output_type": "stream",
     "text": [
      "Epoch: 85: 100%|██████████| 738/738 [15:16<00:00,  1.24s/batch, iou=0.439, loss=0.391] \n"
     ]
    },
    {
     "name": "stdout",
     "output_type": "stream",
     "text": [
      "train Loss: 0.18760485443359792\n",
      "train IOU: 0.6909406668529278\n"
     ]
    },
    {
     "name": "stderr",
     "output_type": "stream",
     "text": [
      "Epoch: 85: 100%|██████████| 30/30 [01:19<00:00,  2.65s/batch, iou=0.526, loss=0.317]\n"
     ]
    },
    {
     "name": "stdout",
     "output_type": "stream",
     "text": [
      "val Loss: 0.37990752259890237\n",
      "val IOU: 0.468872107565403\n",
      "Weight saved for epoch 85.\n"
     ]
    },
    {
     "name": "stderr",
     "output_type": "stream",
     "text": [
      "Epoch: 86: 100%|██████████| 738/738 [16:15<00:00,  1.32s/batch, iou=0.665, loss=0.204] \n"
     ]
    },
    {
     "name": "stdout",
     "output_type": "stream",
     "text": [
      "train Loss: 0.1899403708514967\n",
      "train IOU: 0.6878065888070801\n"
     ]
    },
    {
     "name": "stderr",
     "output_type": "stream",
     "text": [
      "Epoch: 86: 100%|██████████| 30/30 [01:22<00:00,  2.74s/batch, iou=0.672, loss=0.2]  \n"
     ]
    },
    {
     "name": "stdout",
     "output_type": "stream",
     "text": [
      "val Loss: 0.23580237552523614\n",
      "val IOU: 0.6367073059082031\n",
      "Weight saved for epoch 86.\n"
     ]
    },
    {
     "name": "stderr",
     "output_type": "stream",
     "text": [
      "Epoch: 87: 100%|██████████| 738/738 [15:06<00:00,  1.23s/batch, iou=0.433, loss=0.401] \n"
     ]
    },
    {
     "name": "stdout",
     "output_type": "stream",
     "text": [
      "train Loss: 0.1865944760601695\n",
      "train IOU: 0.6923639063589618\n"
     ]
    },
    {
     "name": "stderr",
     "output_type": "stream",
     "text": [
      "Epoch: 87: 100%|██████████| 30/30 [01:17<00:00,  2.59s/batch, iou=0.737, loss=0.155]\n"
     ]
    },
    {
     "name": "stdout",
     "output_type": "stream",
     "text": [
      "val Loss: 0.23209696809450786\n",
      "val IOU: 0.6390275826056798\n",
      "Weight saved for epoch 87.\n"
     ]
    },
    {
     "name": "stderr",
     "output_type": "stream",
     "text": [
      "Epoch: 88: 100%|██████████| 738/738 [15:00<00:00,  1.22s/batch, iou=0.469, loss=0.363]\n"
     ]
    },
    {
     "name": "stdout",
     "output_type": "stream",
     "text": [
      "train Loss: 0.18744809058340908\n",
      "train IOU: 0.6911672591193905\n"
     ]
    },
    {
     "name": "stderr",
     "output_type": "stream",
     "text": [
      "Epoch: 88: 100%|██████████| 30/30 [01:04<00:00,  2.14s/batch, iou=0.572, loss=0.277]\n"
     ]
    },
    {
     "name": "stdout",
     "output_type": "stream",
     "text": [
      "val Loss: 0.40822915484507877\n",
      "val IOU: 0.44295280426740646\n",
      "Weight saved for epoch 88.\n"
     ]
    },
    {
     "name": "stderr",
     "output_type": "stream",
     "text": [
      "Epoch: 89: 100%|██████████| 738/738 [14:43<00:00,  1.20s/batch, iou=0.571, loss=0.28]  \n"
     ]
    },
    {
     "name": "stdout",
     "output_type": "stream",
     "text": [
      "train Loss: 0.18613426331784022\n",
      "train IOU: 0.6930887611093237\n"
     ]
    },
    {
     "name": "stderr",
     "output_type": "stream",
     "text": [
      "Epoch: 89: 100%|██████████| 30/30 [01:18<00:00,  2.62s/batch, iou=0.733, loss=0.158]\n"
     ]
    },
    {
     "name": "stdout",
     "output_type": "stream",
     "text": [
      "val Loss: 0.21446549867590267\n",
      "val IOU: 0.6643146604299546\n",
      "Weight saved for epoch 89.\n"
     ]
    },
    {
     "name": "stderr",
     "output_type": "stream",
     "text": [
      "Epoch: 90: 100%|██████████| 738/738 [15:35<00:00,  1.27s/batch, iou=0.624, loss=0.237] \n"
     ]
    },
    {
     "name": "stdout",
     "output_type": "stream",
     "text": [
      "train Loss: 0.18478460113207498\n",
      "train IOU: 0.6949486207105926\n"
     ]
    },
    {
     "name": "stderr",
     "output_type": "stream",
     "text": [
      "Epoch: 90: 100%|██████████| 30/30 [01:18<00:00,  2.62s/batch, iou=0.738, loss=0.153]\n"
     ]
    },
    {
     "name": "stdout",
     "output_type": "stream",
     "text": [
      "val Loss: 0.20884758979082108\n",
      "val IOU: 0.6694704065720241\n",
      "Weight saved for epoch 90.\n"
     ]
    },
    {
     "name": "stderr",
     "output_type": "stream",
     "text": [
      "Epoch: 91: 100%|██████████| 738/738 [15:48<00:00,  1.29s/batch, iou=0.457, loss=0.379] \n"
     ]
    },
    {
     "name": "stdout",
     "output_type": "stream",
     "text": [
      "train Loss: 0.1836295041147125\n",
      "train IOU: 0.6963884316001158\n"
     ]
    },
    {
     "name": "stderr",
     "output_type": "stream",
     "text": [
      "Epoch: 91: 100%|██████████| 30/30 [01:22<00:00,  2.74s/batch, iou=0.736, loss=0.155]\n"
     ]
    },
    {
     "name": "stdout",
     "output_type": "stream",
     "text": [
      "val Loss: 0.4379825460414092\n",
      "val IOU: 0.43254765768845876\n",
      "Weight saved for epoch 91.\n"
     ]
    },
    {
     "name": "stderr",
     "output_type": "stream",
     "text": [
      "Epoch: 92: 100%|██████████| 738/738 [14:36<00:00,  1.19s/batch, iou=0.522, loss=0.318] \n"
     ]
    },
    {
     "name": "stdout",
     "output_type": "stream",
     "text": [
      "train Loss: 0.1827754893095351\n",
      "train IOU: 0.6975757959816191\n"
     ]
    },
    {
     "name": "stderr",
     "output_type": "stream",
     "text": [
      "Epoch: 92: 100%|██████████| 30/30 [01:10<00:00,  2.36s/batch, iou=0.637, loss=0.226]\n"
     ]
    },
    {
     "name": "stdout",
     "output_type": "stream",
     "text": [
      "val Loss: 0.2945144747694333\n",
      "val IOU: 0.5647883991400401\n",
      "Weight saved for epoch 92.\n"
     ]
    },
    {
     "name": "stderr",
     "output_type": "stream",
     "text": [
      "Epoch: 93: 100%|██████████| 738/738 [15:11<00:00,  1.23s/batch, iou=0.727, loss=0.16]  \n"
     ]
    },
    {
     "name": "stdout",
     "output_type": "stream",
     "text": [
      "train Loss: 0.1814050656872067\n",
      "train IOU: 0.6996254824445176\n"
     ]
    },
    {
     "name": "stderr",
     "output_type": "stream",
     "text": [
      "Epoch: 93: 100%|██████████| 30/30 [01:21<00:00,  2.72s/batch, iou=0.682, loss=0.193]\n"
     ]
    },
    {
     "name": "stdout",
     "output_type": "stream",
     "text": [
      "val Loss: 0.22857318992416065\n",
      "val IOU: 0.6450012147426605\n",
      "Weight saved for epoch 93.\n"
     ]
    },
    {
     "name": "stderr",
     "output_type": "stream",
     "text": [
      "Epoch: 94: 100%|██████████| 738/738 [16:06<00:00,  1.31s/batch, iou=0.701, loss=0.183] \n"
     ]
    },
    {
     "name": "stdout",
     "output_type": "stream",
     "text": [
      "train Loss: 0.18147631978924036\n",
      "train IOU: 0.6994113455296855\n"
     ]
    },
    {
     "name": "stderr",
     "output_type": "stream",
     "text": [
      "Epoch: 94: 100%|██████████| 30/30 [01:23<00:00,  2.78s/batch, iou=0.73, loss=0.159] \n"
     ]
    },
    {
     "name": "stdout",
     "output_type": "stream",
     "text": [
      "val Loss: 0.20531069884697598\n",
      "val IOU: 0.6742139299710591\n",
      "Weight saved for epoch 94.\n"
     ]
    },
    {
     "name": "stderr",
     "output_type": "stream",
     "text": [
      "Epoch: 95: 100%|██████████| 738/738 [15:36<00:00,  1.27s/batch, iou=0.534, loss=0.306] \n"
     ]
    },
    {
     "name": "stdout",
     "output_type": "stream",
     "text": [
      "train Loss: 0.1793821701795105\n",
      "train IOU: 0.7023868156965509\n"
     ]
    },
    {
     "name": "stderr",
     "output_type": "stream",
     "text": [
      "Epoch: 95: 100%|██████████| 30/30 [01:13<00:00,  2.44s/batch, iou=0.726, loss=0.162]\n"
     ]
    },
    {
     "name": "stdout",
     "output_type": "stream",
     "text": [
      "val Loss: 0.20587050492564837\n",
      "val IOU: 0.6733355432748794\n",
      "Weight saved for epoch 95.\n"
     ]
    },
    {
     "name": "stderr",
     "output_type": "stream",
     "text": [
      "Epoch: 96: 100%|██████████| 738/738 [15:27<00:00,  1.26s/batch, iou=0.598, loss=0.258] \n"
     ]
    },
    {
     "name": "stdout",
     "output_type": "stream",
     "text": [
      "train Loss: 0.17978634196649076\n",
      "train IOU: 0.7018261750135318\n"
     ]
    },
    {
     "name": "stderr",
     "output_type": "stream",
     "text": [
      "Epoch: 96: 100%|██████████| 30/30 [01:21<00:00,  2.71s/batch, iou=0.726, loss=0.162]\n"
     ]
    },
    {
     "name": "stdout",
     "output_type": "stream",
     "text": [
      "val Loss: 0.20437444026271503\n",
      "val IOU: 0.6758179197708766\n",
      "Weight saved for epoch 96.\n"
     ]
    },
    {
     "name": "stderr",
     "output_type": "stream",
     "text": [
      "Epoch: 97: 100%|██████████| 738/738 [16:17<00:00,  1.32s/batch, iou=0.472, loss=0.362] \n"
     ]
    },
    {
     "name": "stdout",
     "output_type": "stream",
     "text": [
      "train Loss: 0.17908466003613097\n",
      "train IOU: 0.7028840251650591\n"
     ]
    },
    {
     "name": "stderr",
     "output_type": "stream",
     "text": [
      "Epoch: 97: 100%|██████████| 30/30 [01:21<00:00,  2.72s/batch, iou=0.551, loss=0.294]\n"
     ]
    },
    {
     "name": "stdout",
     "output_type": "stream",
     "text": [
      "val Loss: 0.32269206941127776\n",
      "val IOU: 0.5318227991461754\n",
      "Weight saved for epoch 97.\n"
     ]
    },
    {
     "name": "stderr",
     "output_type": "stream",
     "text": [
      "Epoch: 98: 100%|██████████| 738/738 [15:31<00:00,  1.26s/batch, iou=0.734, loss=0.156] \n"
     ]
    },
    {
     "name": "stdout",
     "output_type": "stream",
     "text": [
      "train Loss: 0.17831199424376656\n",
      "train IOU: 0.7041629275413064\n"
     ]
    },
    {
     "name": "stderr",
     "output_type": "stream",
     "text": [
      "Epoch: 98: 100%|██████████| 30/30 [01:10<00:00,  2.33s/batch, iou=0.692, loss=0.186]\n"
     ]
    },
    {
     "name": "stdout",
     "output_type": "stream",
     "text": [
      "val Loss: 0.20484616681933404\n",
      "val IOU: 0.6754084567228953\n",
      "Weight saved for epoch 98.\n"
     ]
    },
    {
     "name": "stderr",
     "output_type": "stream",
     "text": [
      "Epoch: 99: 100%|██████████| 738/738 [15:20<00:00,  1.25s/batch, iou=0.675, loss=0.197] \n"
     ]
    },
    {
     "name": "stdout",
     "output_type": "stream",
     "text": [
      "train Loss: 0.17632309245425187\n",
      "train IOU: 0.7065740984872104\n"
     ]
    },
    {
     "name": "stderr",
     "output_type": "stream",
     "text": [
      "Epoch: 99: 100%|██████████| 30/30 [01:20<00:00,  2.70s/batch, iou=0.705, loss=0.177]\n"
     ]
    },
    {
     "name": "stdout",
     "output_type": "stream",
     "text": [
      "val Loss: 0.25899417599042257\n",
      "val IOU: 0.609117575486501\n",
      "Weight saved for epoch 99.\n"
     ]
    }
   ],
   "source": [
    "train_model(get_model(), train_dataloader, val_dataloader, '../../weights/torch_final_model_v2/', train_batch_size=train_batch_size, num_workers=num_workers, epochs=100)"
   ]
  },
  {
   "cell_type": "code",
   "execution_count": 29,
   "metadata": {},
   "outputs": [
    {
     "name": "stderr",
     "output_type": "stream",
     "text": [
      "Failed to detect the name of this notebook, you can set it manually with the WANDB_NOTEBOOK_NAME environment variable to enable code saving.\n",
      "\u001b[34m\u001b[1mwandb\u001b[0m: Currently logged in as: \u001b[33myashchks87\u001b[0m. Use \u001b[1m`wandb login --relogin`\u001b[0m to force relogin\n"
     ]
    },
    {
     "data": {
      "text/html": [
       "Tracking run with wandb version 0.15.5"
      ],
      "text/plain": [
       "<IPython.core.display.HTML object>"
      ]
     },
     "metadata": {},
     "output_type": "display_data"
    },
    {
     "data": {
      "text/html": [
       "Run data is saved locally in <code>/home/ubuntu/ship_segmentation/notebooks/wandb/run-20230720_232031-6tk6ym0m</code>"
      ],
      "text/plain": [
       "<IPython.core.display.HTML object>"
      ]
     },
     "metadata": {},
     "output_type": "display_data"
    },
    {
     "data": {
      "text/html": [
       "Syncing run <strong><a href='https://wandb.ai/yashchks87/ship-segmentation-pytorch-wb/runs/6tk6ym0m' target=\"_blank\">soft-brook-70</a></strong> to <a href='https://wandb.ai/yashchks87/ship-segmentation-pytorch-wb' target=\"_blank\">Weights & Biases</a> (<a href='https://wandb.me/run' target=\"_blank\">docs</a>)<br/>"
      ],
      "text/plain": [
       "<IPython.core.display.HTML object>"
      ]
     },
     "metadata": {},
     "output_type": "display_data"
    },
    {
     "data": {
      "text/html": [
       " View project at <a href='https://wandb.ai/yashchks87/ship-segmentation-pytorch-wb' target=\"_blank\">https://wandb.ai/yashchks87/ship-segmentation-pytorch-wb</a>"
      ],
      "text/plain": [
       "<IPython.core.display.HTML object>"
      ]
     },
     "metadata": {},
     "output_type": "display_data"
    },
    {
     "data": {
      "text/html": [
       " View run at <a href='https://wandb.ai/yashchks87/ship-segmentation-pytorch-wb/runs/6tk6ym0m' target=\"_blank\">https://wandb.ai/yashchks87/ship-segmentation-pytorch-wb/runs/6tk6ym0m</a>"
      ],
      "text/plain": [
       "<IPython.core.display.HTML object>"
      ]
     },
     "metadata": {},
     "output_type": "display_data"
    },
    {
     "name": "stdout",
     "output_type": "stream",
     "text": [
      "Hello\n"
     ]
    },
    {
     "name": "stderr",
     "output_type": "stream",
     "text": [
      "Epoch: 0:   0%|          | 0/738 [00:49<?, ?batch/s]/usr/lib/python3/dist-packages/torch/nn/_reduction.py:42: UserWarning: size_average and reduce args will be deprecated, please use reduction='mean' instead.\n",
      "  warnings.warn(warning.format(ret))\n",
      "Epoch: 0: 100%|██████████| 738/738 [15:33<00:00,  1.26s/batch, iou=0.606, loss=0.247]  \n"
     ]
    },
    {
     "name": "stdout",
     "output_type": "stream",
     "text": [
      "train Loss: 0.1824469633178336\n",
      "train IOU: 0.6980489252544031\n"
     ]
    },
    {
     "name": "stderr",
     "output_type": "stream",
     "text": [
      "Epoch: 0: 100%|██████████| 30/30 [01:19<00:00,  2.64s/batch, iou=0.685, loss=0.191]\n"
     ]
    },
    {
     "name": "stdout",
     "output_type": "stream",
     "text": [
      "val Loss: 0.23843736673394839\n",
      "val IOU: 0.6308871388435364\n",
      "Weight saved for epoch 0.\n"
     ]
    },
    {
     "name": "stderr",
     "output_type": "stream",
     "text": [
      "Epoch: 1: 100%|██████████| 738/738 [14:38<00:00,  1.19s/batch, iou=0.393, loss=0.438] \n"
     ]
    },
    {
     "name": "stdout",
     "output_type": "stream",
     "text": [
      "train Loss: 0.17639653333197763\n",
      "train IOU: 0.7066588526576515\n"
     ]
    },
    {
     "name": "stderr",
     "output_type": "stream",
     "text": [
      "Epoch: 1: 100%|██████████| 30/30 [01:14<00:00,  2.48s/batch, iou=0.676, loss=0.199]\n"
     ]
    },
    {
     "name": "stdout",
     "output_type": "stream",
     "text": [
      "val Loss: 0.2831153964002927\n",
      "val IOU: 0.5765077819426855\n",
      "Weight saved for epoch 1.\n"
     ]
    },
    {
     "name": "stderr",
     "output_type": "stream",
     "text": [
      "Epoch: 2: 100%|██████████| 738/738 [14:38<00:00,  1.19s/batch, iou=0.336, loss=0.5]   \n"
     ]
    },
    {
     "name": "stdout",
     "output_type": "stream",
     "text": [
      "train Loss: 0.1771662954170368\n",
      "train IOU: 0.7057226455712383\n"
     ]
    },
    {
     "name": "stderr",
     "output_type": "stream",
     "text": [
      "Epoch: 2: 100%|██████████| 30/30 [01:10<00:00,  2.34s/batch, iou=0.466, loss=0.373]\n"
     ]
    },
    {
     "name": "stdout",
     "output_type": "stream",
     "text": [
      "val Loss: 0.4360782355070114\n",
      "val IOU: 0.41880641927321755\n",
      "Weight saved for epoch 2.\n"
     ]
    },
    {
     "name": "stderr",
     "output_type": "stream",
     "text": [
      "Epoch: 3: 100%|██████████| 738/738 [14:35<00:00,  1.19s/batch, iou=0.456, loss=0.382] \n"
     ]
    },
    {
     "name": "stdout",
     "output_type": "stream",
     "text": [
      "train Loss: 0.17496946482315942\n",
      "train IOU: 0.7086128234701751\n"
     ]
    },
    {
     "name": "stderr",
     "output_type": "stream",
     "text": [
      "Epoch: 3: 100%|██████████| 30/30 [01:15<00:00,  2.52s/batch, iou=0.712, loss=0.172]\n"
     ]
    },
    {
     "name": "stdout",
     "output_type": "stream",
     "text": [
      "val Loss: 0.22431100731094678\n",
      "val IOU: 0.6516065239906311\n",
      "Weight saved for epoch 3.\n"
     ]
    },
    {
     "name": "stderr",
     "output_type": "stream",
     "text": [
      "Epoch: 4: 100%|██████████| 738/738 [15:27<00:00,  1.26s/batch, iou=0.666, loss=0.208] \n"
     ]
    },
    {
     "name": "stdout",
     "output_type": "stream",
     "text": [
      "train Loss: 0.17359052197679595\n",
      "train IOU: 0.7105701414711754\n"
     ]
    },
    {
     "name": "stderr",
     "output_type": "stream",
     "text": [
      "Epoch: 4: 100%|██████████| 30/30 [01:16<00:00,  2.56s/batch, iou=0.717, loss=0.168]\n"
     ]
    },
    {
     "name": "stdout",
     "output_type": "stream",
     "text": [
      "val Loss: 0.21459634552399318\n",
      "val IOU: 0.6629288226366044\n",
      "Weight saved for epoch 4.\n"
     ]
    },
    {
     "name": "stderr",
     "output_type": "stream",
     "text": [
      "Epoch: 5: 100%|██████████| 738/738 [16:02<00:00,  1.30s/batch, iou=0.779, loss=0.127] \n"
     ]
    },
    {
     "name": "stdout",
     "output_type": "stream",
     "text": [
      "train Loss: 0.1732881264937764\n",
      "train IOU: 0.7111239259643607\n"
     ]
    },
    {
     "name": "stderr",
     "output_type": "stream",
     "text": [
      "Epoch: 5: 100%|██████████| 30/30 [01:18<00:00,  2.61s/batch, iou=0.672, loss=0.2]  \n"
     ]
    },
    {
     "name": "stdout",
     "output_type": "stream",
     "text": [
      "val Loss: 0.20721388806899388\n",
      "val IOU: 0.6723065117994944\n",
      "Weight saved for epoch 5.\n"
     ]
    },
    {
     "name": "stderr",
     "output_type": "stream",
     "text": [
      "Epoch: 6: 100%|██████████| 738/738 [14:38<00:00,  1.19s/batch, iou=0.597, loss=0.26]  \n"
     ]
    },
    {
     "name": "stdout",
     "output_type": "stream",
     "text": [
      "train Loss: 0.17274021106926082\n",
      "train IOU: 0.711837157122488\n"
     ]
    },
    {
     "name": "stderr",
     "output_type": "stream",
     "text": [
      "Epoch: 6: 100%|██████████| 30/30 [01:15<00:00,  2.51s/batch, iou=0.765, loss=0.136]\n"
     ]
    },
    {
     "name": "stdout",
     "output_type": "stream",
     "text": [
      "val Loss: 0.20757412215073903\n",
      "val IOU: 0.6716409693161647\n",
      "Weight saved for epoch 6.\n"
     ]
    },
    {
     "name": "stderr",
     "output_type": "stream",
     "text": [
      "Epoch: 7: 100%|██████████| 738/738 [14:37<00:00,  1.19s/batch, iou=0.743, loss=0.152] \n"
     ]
    },
    {
     "name": "stdout",
     "output_type": "stream",
     "text": [
      "train Loss: 0.17089729963077438\n",
      "train IOU: 0.7144567622805675\n"
     ]
    },
    {
     "name": "stderr",
     "output_type": "stream",
     "text": [
      "Epoch: 7: 100%|██████████| 30/30 [01:04<00:00,  2.15s/batch, iou=0.71, loss=0.173] \n"
     ]
    },
    {
     "name": "stdout",
     "output_type": "stream",
     "text": [
      "val Loss: 0.2007695898413658\n",
      "val IOU: 0.6806541383266449\n",
      "Weight saved for epoch 7.\n"
     ]
    },
    {
     "name": "stderr",
     "output_type": "stream",
     "text": [
      "Epoch: 8: 100%|██████████| 738/738 [15:09<00:00,  1.23s/batch, iou=0.426, loss=0.412] \n"
     ]
    },
    {
     "name": "stdout",
     "output_type": "stream",
     "text": [
      "train Loss: 0.1714962794670083\n",
      "train IOU: 0.7136408443131098\n"
     ]
    },
    {
     "name": "stderr",
     "output_type": "stream",
     "text": [
      "Epoch: 8: 100%|██████████| 30/30 [01:16<00:00,  2.54s/batch, iou=0.73, loss=0.159] \n"
     ]
    },
    {
     "name": "stdout",
     "output_type": "stream",
     "text": [
      "val Loss: 0.2010028712451458\n",
      "val IOU: 0.6800276060899099\n",
      "Weight saved for epoch 8.\n"
     ]
    },
    {
     "name": "stderr",
     "output_type": "stream",
     "text": [
      "Epoch: 9: 100%|██████████| 738/738 [15:34<00:00,  1.27s/batch, iou=0.415, loss=0.42]  \n"
     ]
    },
    {
     "name": "stdout",
     "output_type": "stream",
     "text": [
      "train Loss: 0.16988507227159452\n",
      "train IOU: 0.7160153643790945\n"
     ]
    },
    {
     "name": "stderr",
     "output_type": "stream",
     "text": [
      "Epoch: 9: 100%|██████████| 30/30 [01:14<00:00,  2.48s/batch, iou=0.678, loss=0.196] \n"
     ]
    },
    {
     "name": "stdout",
     "output_type": "stream",
     "text": [
      "val Loss: 0.21263745402296383\n",
      "val IOU: 0.663940605521202\n",
      "Weight saved for epoch 9.\n"
     ]
    },
    {
     "name": "stderr",
     "output_type": "stream",
     "text": [
      "Epoch: 10: 100%|██████████| 738/738 [15:42<00:00,  1.28s/batch, iou=0.463, loss=0.369] \n"
     ]
    },
    {
     "name": "stdout",
     "output_type": "stream",
     "text": [
      "train Loss: 0.16961085047259886\n",
      "train IOU: 0.7162434663875963\n"
     ]
    },
    {
     "name": "stderr",
     "output_type": "stream",
     "text": [
      "Epoch: 10: 100%|██████████| 30/30 [01:14<00:00,  2.50s/batch, iou=0.708, loss=0.175]\n"
     ]
    },
    {
     "name": "stdout",
     "output_type": "stream",
     "text": [
      "val Loss: 0.21708805834253628\n",
      "val IOU: 0.6590840210517247\n",
      "Weight saved for epoch 10.\n"
     ]
    },
    {
     "name": "stderr",
     "output_type": "stream",
     "text": [
      "Epoch: 11: 100%|██████████| 738/738 [14:36<00:00,  1.19s/batch, iou=0.717, loss=0.167] \n"
     ]
    },
    {
     "name": "stdout",
     "output_type": "stream",
     "text": [
      "train Loss: 0.16947378256537404\n",
      "train IOU: 0.7163881978529901\n"
     ]
    },
    {
     "name": "stderr",
     "output_type": "stream",
     "text": [
      "Epoch: 11: 100%|██████████| 30/30 [01:08<00:00,  2.27s/batch, iou=0.747, loss=0.148]\n"
     ]
    },
    {
     "name": "stdout",
     "output_type": "stream",
     "text": [
      "val Loss: 0.19458454449971516\n",
      "val IOU: 0.6889999369780223\n",
      "Weight saved for epoch 11.\n"
     ]
    },
    {
     "name": "stderr",
     "output_type": "stream",
     "text": [
      "Epoch: 12: 100%|██████████| 738/738 [14:36<00:00,  1.19s/batch, iou=0.644, loss=0.224] \n"
     ]
    },
    {
     "name": "stdout",
     "output_type": "stream",
     "text": [
      "train Loss: 0.16688003192143389\n",
      "train IOU: 0.7200682034822015\n"
     ]
    },
    {
     "name": "stderr",
     "output_type": "stream",
     "text": [
      "Epoch: 12: 100%|██████████| 30/30 [01:00<00:00,  2.02s/batch, iou=0.694, loss=0.184] \n"
     ]
    },
    {
     "name": "stdout",
     "output_type": "stream",
     "text": [
      "val Loss: 0.2260515550772349\n",
      "val IOU: 0.651156555612882\n",
      "Weight saved for epoch 12.\n"
     ]
    },
    {
     "name": "stderr",
     "output_type": "stream",
     "text": [
      "Epoch: 13: 100%|██████████| 738/738 [15:04<00:00,  1.23s/batch, iou=0.474, loss=0.369] \n"
     ]
    },
    {
     "name": "stdout",
     "output_type": "stream",
     "text": [
      "train Loss: 0.16905021591763186\n",
      "train IOU: 0.7171871085880894\n"
     ]
    },
    {
     "name": "stderr",
     "output_type": "stream",
     "text": [
      "Epoch: 13: 100%|██████████| 30/30 [01:12<00:00,  2.41s/batch, iou=0.746, loss=0.148]\n"
     ]
    },
    {
     "name": "stdout",
     "output_type": "stream",
     "text": [
      "val Loss: 0.19071308995286623\n",
      "val IOU: 0.6941812068223954\n",
      "Weight saved for epoch 13.\n"
     ]
    },
    {
     "name": "stderr",
     "output_type": "stream",
     "text": [
      "Epoch: 14: 100%|██████████| 738/738 [15:28<00:00,  1.26s/batch, iou=0.73, loss=0.159]  \n"
     ]
    },
    {
     "name": "stdout",
     "output_type": "stream",
     "text": [
      "train Loss: 0.16598214391810784\n",
      "train IOU: 0.7214772367703559\n"
     ]
    },
    {
     "name": "stderr",
     "output_type": "stream",
     "text": [
      "Epoch: 14: 100%|██████████| 30/30 [01:10<00:00,  2.35s/batch, iou=0.728, loss=0.16] \n"
     ]
    },
    {
     "name": "stdout",
     "output_type": "stream",
     "text": [
      "val Loss: 0.20405163168907164\n",
      "val IOU: 0.6773767600456874\n",
      "Weight saved for epoch 14.\n"
     ]
    },
    {
     "name": "stderr",
     "output_type": "stream",
     "text": [
      "Epoch: 15: 100%|██████████| 738/738 [15:49<00:00,  1.29s/batch, iou=0.725, loss=0.163] \n"
     ]
    },
    {
     "name": "stdout",
     "output_type": "stream",
     "text": [
      "train Loss: 0.16659067846774087\n",
      "train IOU: 0.7205297547142681\n"
     ]
    },
    {
     "name": "stderr",
     "output_type": "stream",
     "text": [
      "Epoch: 15: 100%|██████████| 30/30 [01:13<00:00,  2.46s/batch, iou=0.689, loss=0.188]\n"
     ]
    },
    {
     "name": "stdout",
     "output_type": "stream",
     "text": [
      "val Loss: 0.20988963171839714\n",
      "val IOU: 0.6693432887395223\n",
      "Weight saved for epoch 15.\n"
     ]
    },
    {
     "name": "stderr",
     "output_type": "stream",
     "text": [
      "Epoch: 16: 100%|██████████| 738/738 [14:35<00:00,  1.19s/batch, iou=0.664, loss=0.207] \n"
     ]
    },
    {
     "name": "stdout",
     "output_type": "stream",
     "text": [
      "train Loss: 0.16604522141176187\n",
      "train IOU: 0.7213560906529104\n"
     ]
    },
    {
     "name": "stderr",
     "output_type": "stream",
     "text": [
      "Epoch: 16: 100%|██████████| 30/30 [01:06<00:00,  2.23s/batch, iou=0.718, loss=0.167]\n"
     ]
    },
    {
     "name": "stdout",
     "output_type": "stream",
     "text": [
      "val Loss: 0.1954737611114979\n",
      "val IOU: 0.6867383817831675\n",
      "Weight saved for epoch 16.\n"
     ]
    },
    {
     "name": "stderr",
     "output_type": "stream",
     "text": [
      "Epoch: 17: 100%|██████████| 738/738 [14:35<00:00,  1.19s/batch, iou=0.736, loss=0.159] \n"
     ]
    },
    {
     "name": "stdout",
     "output_type": "stream",
     "text": [
      "train Loss: 0.16508987574234887\n",
      "train IOU: 0.7228338152250946\n"
     ]
    },
    {
     "name": "stderr",
     "output_type": "stream",
     "text": [
      "Epoch: 17: 100%|██████████| 30/30 [01:01<00:00,  2.05s/batch, iou=0.719, loss=0.166]\n"
     ]
    },
    {
     "name": "stdout",
     "output_type": "stream",
     "text": [
      "val Loss: 0.18872449398040772\n",
      "val IOU: 0.6954885462919871\n",
      "Weight saved for epoch 17.\n"
     ]
    },
    {
     "name": "stderr",
     "output_type": "stream",
     "text": [
      "Epoch: 18: 100%|██████████| 738/738 [14:34<00:00,  1.19s/batch, iou=0.436, loss=0.41]  \n"
     ]
    },
    {
     "name": "stdout",
     "output_type": "stream",
     "text": [
      "train Loss: 0.16491294153499086\n",
      "train IOU: 0.7232170159093086\n"
     ]
    },
    {
     "name": "stderr",
     "output_type": "stream",
     "text": [
      "Epoch: 18: 100%|██████████| 30/30 [01:08<00:00,  2.27s/batch, iou=0.701, loss=0.179]\n"
     ]
    },
    {
     "name": "stdout",
     "output_type": "stream",
     "text": [
      "val Loss: 0.20903843914469084\n",
      "val IOU: 0.6699158310890198\n",
      "Weight saved for epoch 18.\n"
     ]
    },
    {
     "name": "stderr",
     "output_type": "stream",
     "text": [
      "Epoch: 19: 100%|██████████| 738/738 [16:08<00:00,  1.31s/batch, iou=0.0755, loss=0.863]\n"
     ]
    },
    {
     "name": "stdout",
     "output_type": "stream",
     "text": [
      "train Loss: 0.16582133374643843\n",
      "train IOU: 0.7221630004948878\n"
     ]
    },
    {
     "name": "stderr",
     "output_type": "stream",
     "text": [
      "Epoch: 19: 100%|██████████| 30/30 [01:10<00:00,  2.36s/batch, iou=0.667, loss=0.204]\n"
     ]
    },
    {
     "name": "stdout",
     "output_type": "stream",
     "text": [
      "val Loss: 0.3114194666345914\n",
      "val IOU: 0.5454391280810038\n",
      "Weight saved for epoch 19.\n"
     ]
    },
    {
     "name": "stderr",
     "output_type": "stream",
     "text": [
      "Epoch: 20: 100%|██████████| 738/738 [15:57<00:00,  1.30s/batch, iou=0.312, loss=0.532] \n"
     ]
    },
    {
     "name": "stdout",
     "output_type": "stream",
     "text": [
      "train Loss: 0.16441837611398724\n",
      "train IOU: 0.7238252495281742\n"
     ]
    },
    {
     "name": "stderr",
     "output_type": "stream",
     "text": [
      "Epoch: 20: 100%|██████████| 30/30 [01:15<00:00,  2.52s/batch, iou=0.593, loss=0.261]\n"
     ]
    },
    {
     "name": "stdout",
     "output_type": "stream",
     "text": [
      "val Loss: 0.44848877340555193\n",
      "val IOU: 0.41338344862063725\n",
      "Weight saved for epoch 20.\n"
     ]
    },
    {
     "name": "stderr",
     "output_type": "stream",
     "text": [
      "Epoch: 21: 100%|██████████| 738/738 [14:42<00:00,  1.20s/batch, iou=0.521, loss=0.321] \n"
     ]
    },
    {
     "name": "stdout",
     "output_type": "stream",
     "text": [
      "train Loss: 0.16533002082692574\n",
      "train IOU: 0.7224449324737073\n"
     ]
    },
    {
     "name": "stderr",
     "output_type": "stream",
     "text": [
      "Epoch: 21: 100%|██████████| 30/30 [01:06<00:00,  2.22s/batch, iou=0.747, loss=0.148]\n"
     ]
    },
    {
     "name": "stdout",
     "output_type": "stream",
     "text": [
      "val Loss: 0.20865229989091555\n",
      "val IOU: 0.6700309723615646\n",
      "Weight saved for epoch 21.\n"
     ]
    },
    {
     "name": "stderr",
     "output_type": "stream",
     "text": [
      "Epoch: 22: 100%|██████████| 738/738 [15:09<00:00,  1.23s/batch, iou=0.47, loss=0.367]  \n"
     ]
    },
    {
     "name": "stdout",
     "output_type": "stream",
     "text": [
      "train Loss: 0.16344412521214344\n",
      "train IOU: 0.7251651873433493\n"
     ]
    },
    {
     "name": "stderr",
     "output_type": "stream",
     "text": [
      "Epoch: 22: 100%|██████████| 30/30 [01:10<00:00,  2.34s/batch, iou=0.763, loss=0.138] \n"
     ]
    },
    {
     "name": "stdout",
     "output_type": "stream",
     "text": [
      "val Loss: 0.19362926383813223\n",
      "val IOU: 0.6886255254348119\n",
      "Weight saved for epoch 22.\n"
     ]
    },
    {
     "name": "stderr",
     "output_type": "stream",
     "text": [
      "Epoch: 23: 100%|██████████| 738/738 [15:47<00:00,  1.28s/batch, iou=0.488, loss=0.348] \n"
     ]
    },
    {
     "name": "stdout",
     "output_type": "stream",
     "text": [
      "train Loss: 0.163227029588972\n",
      "train IOU: 0.7255009824263694\n"
     ]
    },
    {
     "name": "stderr",
     "output_type": "stream",
     "text": [
      "Epoch: 23: 100%|██████████| 30/30 [01:09<00:00,  2.32s/batch, iou=0.628, loss=0.233]\n"
     ]
    },
    {
     "name": "stdout",
     "output_type": "stream",
     "text": [
      "val Loss: 0.44564675440390905\n",
      "val IOU: 0.40669462233781817\n",
      "Weight saved for epoch 23.\n"
     ]
    },
    {
     "name": "stderr",
     "output_type": "stream",
     "text": [
      "Epoch: 24: 100%|██████████| 738/738 [15:19<00:00,  1.25s/batch, iou=0.651, loss=0.218] \n"
     ]
    },
    {
     "name": "stdout",
     "output_type": "stream",
     "text": [
      "train Loss: 0.16287382827380162\n",
      "train IOU: 0.7260436556203579\n"
     ]
    },
    {
     "name": "stderr",
     "output_type": "stream",
     "text": [
      "Epoch: 24: 100%|██████████| 30/30 [01:08<00:00,  2.28s/batch, iou=0.712, loss=0.171]\n"
     ]
    },
    {
     "name": "stdout",
     "output_type": "stream",
     "text": [
      "val Loss: 0.19435719003280003\n",
      "val IOU: 0.6896916836500168\n",
      "Weight saved for epoch 24.\n"
     ]
    },
    {
     "name": "stderr",
     "output_type": "stream",
     "text": [
      "Epoch: 25: 100%|██████████| 738/738 [14:46<00:00,  1.20s/batch, iou=0.476, loss=0.358] \n"
     ]
    },
    {
     "name": "stdout",
     "output_type": "stream",
     "text": [
      "train Loss: 0.1616913000056091\n",
      "train IOU: 0.7276268157613309\n"
     ]
    },
    {
     "name": "stderr",
     "output_type": "stream",
     "text": [
      "Epoch: 25: 100%|██████████| 30/30 [01:11<00:00,  2.37s/batch, iou=0.686, loss=0.189] \n"
     ]
    },
    {
     "name": "stdout",
     "output_type": "stream",
     "text": [
      "val Loss: 0.2079365111887455\n",
      "val IOU: 0.6704210529724757\n",
      "Weight saved for epoch 25.\n"
     ]
    },
    {
     "name": "stderr",
     "output_type": "stream",
     "text": [
      "Epoch: 26: 100%|██████████| 738/738 [15:16<00:00,  1.24s/batch, iou=0.719, loss=0.168] \n"
     ]
    },
    {
     "name": "stdout",
     "output_type": "stream",
     "text": [
      "train Loss: 0.1604514355622333\n",
      "train IOU: 0.7294494231057361\n"
     ]
    },
    {
     "name": "stderr",
     "output_type": "stream",
     "text": [
      "Epoch: 26: 100%|██████████| 30/30 [00:59<00:00,  1.99s/batch, iou=0.591, loss=0.263]\n"
     ]
    },
    {
     "name": "stdout",
     "output_type": "stream",
     "text": [
      "val Loss: 0.23917064319054285\n",
      "val IOU: 0.6319850285847982\n",
      "Weight saved for epoch 26.\n"
     ]
    },
    {
     "name": "stderr",
     "output_type": "stream",
     "text": [
      "Epoch: 27:  29%|██▉       | 214/738 [05:41<09:19,  1.07s/batch, iou=0.722, loss=0.164] "
     ]
    }
   ],
   "source": [
    "train_model(get_model(), train_dataloader, val_dataloader, '../../weights/torch_final_model_v3/', train_batch_size=train_batch_size, num_workers=num_workers, load_weights = '../../weights/torch_final_model_v2/99.pth', epochs=30)"
   ]
  },
  {
   "cell_type": "code",
   "execution_count": null,
   "metadata": {},
   "outputs": [],
   "source": []
  },
  {
   "cell_type": "code",
   "execution_count": null,
   "metadata": {},
   "outputs": [],
   "source": []
  }
 ],
 "metadata": {
  "kernelspec": {
   "display_name": "base_env",
   "language": "python",
   "name": "base_env"
  },
  "language_info": {
   "codemirror_mode": {
    "name": "ipython",
    "version": 3
   },
   "file_extension": ".py",
   "mimetype": "text/x-python",
   "name": "python",
   "nbconvert_exporter": "python",
   "pygments_lexer": "ipython3",
   "version": "3.8.10"
  },
  "orig_nbformat": 4
 },
 "nbformat": 4,
 "nbformat_minor": 2
}
