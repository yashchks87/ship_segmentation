{
 "cells": [
  {
   "cell_type": "code",
   "execution_count": 1,
   "metadata": {},
   "outputs": [],
   "source": [
    "import pandas as pd\n",
    "import pickle\n",
    "# import tensorflow as tf\n",
    "# from tensorflow import keras\n",
    "import PIL\n",
    "import os\n",
    "from tqdm import tqdm\n",
    "from PIL import Image\n",
    "import numpy as np\n",
    "import multiprocessing as mp"
   ]
  },
  {
   "cell_type": "code",
   "execution_count": 2,
   "metadata": {},
   "outputs": [],
   "source": [
    "def rle_decode(mask_rle, shape=(768, 768)):\n",
    "    '''\n",
    "    mask_rle: run-length as string formated (start length)\n",
    "    shape: (height,width) of array to return \n",
    "    Returns numpy array, 1 - mask, 0 - background\n",
    "    '''\n",
    "    s = mask_rle.split()\n",
    "    starts, lengths = [np.asarray(x, dtype=int) for x in (s[0:][::2], s[1:][::2])]\n",
    "    starts -= 1\n",
    "    ends = starts + lengths\n",
    "    img = np.zeros(shape[0]*shape[1], dtype=np.uint8)\n",
    "    for lo, hi in zip(starts, ends):\n",
    "        img[lo:hi] = 1\n",
    "    return img.reshape(shape).T  # Needed to align to RLE direction\n",
    "\n",
    "def masks_as_image(in_mask_list):\n",
    "    # Take the individual ship masks and create a single mask array for all ships\n",
    "    all_masks = np.zeros((768, 768), dtype = np.int16)\n",
    "    #if isinstance(in_mask_list, list):\n",
    "    for mask in in_mask_list:\n",
    "        if isinstance(mask, str):\n",
    "            all_masks += rle_decode(mask)\n",
    "    return np.expand_dims(all_masks, -1)\n",
    "\n",
    "# def save_masks(csv_file_path, col_1 = 'ImageId', col_2 = 'EncodedPixels', path_begin = '../../masks/'):\n",
    "#     \"\"\"\n",
    "#         It takes csv file as input and generate masks and save them to given path.\n",
    "#         Args:\n",
    "#         csv_file: Actual csv file(NOT A PATH),\n",
    "#         col_1: Column name for fetching image names; default value as ImageId,\n",
    "#         col_2: Pixel col name; default value is EncodedPixels,\n",
    "#         path_begin: It will store masks at this path.\n",
    "#         * Make sure column names are ImageId and EncodePixels.\n",
    "#     \"\"\"\n",
    "#     csv_file = pd.read_csv(csv_file_path)\n",
    "#     csv_file = csv_file.groupby('ImageId')['EncodedPixels'].apply(list).reset_index()\n",
    "#     image_ids, pixels = csv_file['ImageId'].values.tolist(), csv_file['EncodedPixels'].values.tolist()\n",
    "#     if os.path.exists(path_begin) == False:\n",
    "#         os.makedirs(path_begin)\n",
    "#     for x in tqdm(range(len(image_ids))):\n",
    "#         file_name = path_begin + image_ids[x].split('.')[0]\n",
    "#         if type(pixels[x][0]) != str:\n",
    "#             Image.fromarray(np.array(np.zeros(shape=(768, 768)).astype(np.uint8))).save(f'{file_name}.png')\n",
    "#         else:\n",
    "#             img_0 = masks_as_image(pixels[x])\n",
    "#             img = Image.fromarray((img_0 * 255).reshape(768, 768).astype(np.uint8))\n",
    "#             img.save(f'{file_name}.png')"
   ]
  },
  {
   "cell_type": "code",
   "execution_count": 3,
   "metadata": {},
   "outputs": [],
   "source": [
    "def save_masks(data):\n",
    "    try:\n",
    "        image_ids, pixels, path_begin = data[0], data[1], data[2]\n",
    "        file_name = path_begin + image_ids.split('.')[0]\n",
    "        if type(pixels[0]) != str:\n",
    "            Image.fromarray(np.array(np.zeros(shape=(768, 768)).astype(np.uint8))).save(f'{file_name}.png')\n",
    "        else:\n",
    "            img = masks_as_image(pixels)\n",
    "            img = Image.fromarray((img * 255).reshape(768, 768).astype(np.uint8))\n",
    "            img.save(f'{file_name}.png')\n",
    "        return 'DONE'\n",
    "    except:\n",
    "        return data[0]\n",
    "\n",
    "def save_masks_helper(csv_file_path, col_1 = 'ImageId', col_2 = 'EncodedPixels', path_begin = '../../masks/', pool_size = 15):\n",
    "    csv_file = pd.read_csv(csv_file_path)\n",
    "    csv_file = csv_file.groupby('ImageId')['EncodedPixels'].apply(list).reset_index()\n",
    "    image_ids, pixels = csv_file['ImageId'].values.tolist(), csv_file['EncodedPixels'].values.tolist()\n",
    "    if os.path.exists(path_begin) == False:\n",
    "        os.makedirs(path_begin)\n",
    "    with mp.Pool(pool_size) as p:\n",
    "        results = p.map(save_masks, [(image_ids[x], pixels[x], path_begin) for x in range(len(image_ids))])\n",
    "    for x in results:\n",
    "        if x != 'DONE':\n",
    "            print(x)"
   ]
  },
  {
   "cell_type": "code",
   "execution_count": 4,
   "metadata": {},
   "outputs": [],
   "source": [
    "save_masks_helper(csv_file_path='../../files/train_ship_segmentations_v2.csv', path_begin='../../files/masks_v1/train/', pool_size=25)"
   ]
  },
  {
   "cell_type": "code",
   "execution_count": null,
   "metadata": {},
   "outputs": [],
   "source": [
    "# 45 minutes"
   ]
  },
  {
   "cell_type": "code",
   "execution_count": null,
   "metadata": {},
   "outputs": [],
   "source": []
  },
  {
   "cell_type": "code",
   "execution_count": null,
   "metadata": {},
   "outputs": [],
   "source": []
  }
 ],
 "metadata": {
  "kernelspec": {
   "display_name": "torch_env",
   "language": "python",
   "name": "torch_env"
  },
  "language_info": {
   "codemirror_mode": {
    "name": "ipython",
    "version": 3
   },
   "file_extension": ".py",
   "mimetype": "text/x-python",
   "name": "python",
   "nbconvert_exporter": "python",
   "pygments_lexer": "ipython3",
   "version": "3.8.10"
  },
  "orig_nbformat": 4
 },
 "nbformat": 4,
 "nbformat_minor": 2
}
