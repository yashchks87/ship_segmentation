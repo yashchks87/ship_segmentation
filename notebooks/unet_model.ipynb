{
 "cells": [
  {
   "cell_type": "code",
   "execution_count": 10,
   "metadata": {},
   "outputs": [],
   "source": [
    "import tensorflow as tf\n",
    "from tensorflow import keras\n",
    "import pandas as pd\n",
    "import numpy as np\n",
    "import PIL\n",
    "import matplotlib.pyplot as plt\n",
    "import math\n",
    "from tqdm import tqdm\n",
    "import os\n",
    "import sys\n",
    "sys.path.append('../scripts/')\n",
    "from save_masks import save_masks\n",
    "import glob"
   ]
  },
  {
   "cell_type": "code",
   "execution_count": 2,
   "metadata": {},
   "outputs": [
    {
     "data": {
      "text/plain": [
       "[PhysicalDevice(name='/physical_device:CPU:0', device_type='CPU'),\n",
       " PhysicalDevice(name='/physical_device:GPU:0', device_type='GPU')]"
      ]
     },
     "execution_count": 2,
     "metadata": {},
     "output_type": "execute_result"
    }
   ],
   "source": [
    "tf.config.list_physical_devices()"
   ]
  },
  {
   "cell_type": "code",
   "execution_count": 4,
   "metadata": {},
   "outputs": [],
   "source": [
    "# def rle_decode(mask_rle, shape=(768, 768)):\n",
    "#     '''\n",
    "#     mask_rle: run-length as string formated (start length)\n",
    "#     shape: (height,width) of array to return \n",
    "#     Returns numpy array, 1 - mask, 0 - background\n",
    "#     '''\n",
    "#     s = mask_rle.split()\n",
    "#     starts, lengths = [np.asarray(x, dtype=int) for x in (s[0:][::2], s[1:][::2])]\n",
    "#     starts -= 1\n",
    "#     ends = starts + lengths\n",
    "#     img = np.zeros(shape[0]*shape[1], dtype=np.uint8)\n",
    "#     for lo, hi in zip(starts, ends):\n",
    "#         img[lo:hi] = 1\n",
    "#     return img.reshape(shape).T  # Needed to align to RLE direction\n",
    "\n",
    "# def masks_as_image(in_mask_list):\n",
    "#     # Take the individual ship masks and create a single mask array for all ships\n",
    "#     all_masks = np.zeros((768, 768), dtype = np.int16)\n",
    "#     #if isinstance(in_mask_list, list):\n",
    "#     for mask in in_mask_list:\n",
    "#         if isinstance(mask, str):\n",
    "#             all_masks += rle_decode(mask)\n",
    "#     return np.expand_dims(all_masks, -1)"
   ]
  },
  {
   "cell_type": "code",
   "execution_count": 5,
   "metadata": {},
   "outputs": [],
   "source": [
    "train_csv = pd.read_csv('../../files/train_ship_segmentations_v2.csv')"
   ]
  },
  {
   "cell_type": "code",
   "execution_count": 6,
   "metadata": {},
   "outputs": [],
   "source": [
    "updated_train_csv = train_csv.groupby('ImageId')['EncodedPixels'].apply(list).reset_index()"
   ]
  },
  {
   "cell_type": "code",
   "execution_count": 7,
   "metadata": {},
   "outputs": [],
   "source": [
    "# import os\n",
    "# import PIL\n",
    "# import pandas as pd\n",
    "# import numpy as np\n",
    "# from tqdm import tqdm\n",
    "# def save_masks(csv_file, path_begin = '../../masks/'):\n",
    "#     image_ids, pixels = csv_file['ImageId'].values.tolist(), csv_file['EncodedPixels'].values.tolist()\n",
    "#     if os.path.exists(path_begin) == False:\n",
    "#         os.makedirs(path_begin)\n",
    "#     for x in tqdm(range(len(image_ids))):\n",
    "#         file_name = path_begin + image_ids[x].split('.')[0]\n",
    "#         if type(pixels[x][0]) != str:\n",
    "#             PIL.Image.fromarray(np.array(np.zeros(shape=(768, 768)).astype(np.uint8))).save(f'{file_name}.png')\n",
    "#         else:\n",
    "#             img_0 = masks_as_image(pixels[x])\n",
    "#             img = PIL.Image.fromarray((img_0 * 255).reshape(768, 768).astype(np.uint8))\n",
    "#             img.save(f'{file_name}.png')"
   ]
  },
  {
   "cell_type": "code",
   "execution_count": 9,
   "metadata": {},
   "outputs": [
    {
     "name": "stderr",
     "output_type": "stream",
     "text": [
      "100%|██████████| 192556/192556 [22:11<00:00, 144.63it/s]\n"
     ]
    }
   ],
   "source": [
    "save_masks(updated_train_csv, path_begin='/home/ubuntu/masks/')"
   ]
  },
  {
   "cell_type": "code",
   "execution_count": null,
   "metadata": {},
   "outputs": [],
   "source": []
  },
  {
   "cell_type": "code",
   "execution_count": null,
   "metadata": {},
   "outputs": [],
   "source": []
  },
  {
   "cell_type": "code",
   "execution_count": null,
   "metadata": {},
   "outputs": [],
   "source": []
  },
  {
   "cell_type": "code",
   "execution_count": null,
   "metadata": {},
   "outputs": [],
   "source": []
  },
  {
   "cell_type": "code",
   "execution_count": null,
   "metadata": {},
   "outputs": [],
   "source": []
  },
  {
   "cell_type": "code",
   "execution_count": null,
   "metadata": {},
   "outputs": [],
   "source": []
  },
  {
   "cell_type": "code",
   "execution_count": null,
   "metadata": {},
   "outputs": [],
   "source": []
  }
 ],
 "metadata": {
  "kernelspec": {
   "display_name": "Python 3",
   "language": "python",
   "name": "python3"
  },
  "language_info": {
   "codemirror_mode": {
    "name": "ipython",
    "version": 3
   },
   "file_extension": ".py",
   "mimetype": "text/x-python",
   "name": "python",
   "nbconvert_exporter": "python",
   "pygments_lexer": "ipython3",
   "version": "3.8.10"
  },
  "orig_nbformat": 4,
  "vscode": {
   "interpreter": {
    "hash": "e7370f93d1d0cde622a1f8e1c04877d8463912d04d973331ad4851f04de6915a"
   }
  }
 },
 "nbformat": 4,
 "nbformat_minor": 2
}
