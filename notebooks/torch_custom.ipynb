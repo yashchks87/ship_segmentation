{
 "cells": [
  {
   "cell_type": "code",
   "execution_count": 1,
   "metadata": {},
   "outputs": [],
   "source": [
    "%load_ext autoreload\n",
    "%autoreload 2\n",
    "import torch\n",
    "import torch.nn as nn\n",
    "import sys\n",
    "sys.path.append('../scripts/')\n",
    "from unet_custom_implementation import Unet\n",
    "import torchvision\n",
    "import pandas as pd\n",
    "import os\n",
    "from sklearn.model_selection import train_test_split\n",
    "from torch.utils.data import Dataset, DataLoader\n",
    "import torch.optim as optim\n",
    "import wandb\n",
    "import segmentation_models_pytorch as smp\n",
    "from tqdm import tqdm"
   ]
  },
  {
   "cell_type": "code",
   "execution_count": 2,
   "metadata": {},
   "outputs": [],
   "source": [
    "multiple_gpus = True\n",
    "if torch.cuda.is_available():\n",
    "    if torch.cuda.device_count() > 1:\n",
    "        multiple_gpus = True\n",
    "    device = torch.device(\"cuda:0\" if torch.cuda.is_available() else \"cpu\")"
   ]
  },
  {
   "cell_type": "code",
   "execution_count": 3,
   "metadata": {},
   "outputs": [],
   "source": [
    "csv_file = pd.read_csv('../../ship_data/train_ship_segmentations_v2.csv')\n",
    "csv_file = csv_file.groupby('ImageId')['EncodedPixels'].apply(list).reset_index()\n",
    "image_ids, pixels = csv_file['ImageId'].values.tolist(), csv_file['EncodedPixels'].values.tolist()"
   ]
  },
  {
   "cell_type": "code",
   "execution_count": 4,
   "metadata": {},
   "outputs": [],
   "source": [
    "csv_file['fixed_inputs'] = csv_file['ImageId'].apply(lambda x: '../../ship_data/train_v2/' + x)\n",
    "csv_file['mask_paths'] = csv_file['ImageId'].apply(lambda x: '../../ship_data/masks_v1/train/' + x.split('.')[0] + '.' + 'png')"
   ]
  },
  {
   "cell_type": "code",
   "execution_count": 5,
   "metadata": {},
   "outputs": [],
   "source": [
    "csv_file = csv_file[csv_file['fixed_inputs'] != '../../files/train_v2/6384c3e78.jpg']"
   ]
  },
  {
   "cell_type": "code",
   "execution_count": 6,
   "metadata": {},
   "outputs": [],
   "source": [
    "def split_datasets(csv_file, test_size = 0.01):\n",
    "    train, test = train_test_split(csv_file, test_size = test_size, random_state=42)\n",
    "    train, val = train_test_split(train, test_size = test_size, random_state=42)\n",
    "    return train, val, test"
   ]
  },
  {
   "cell_type": "code",
   "execution_count": 7,
   "metadata": {},
   "outputs": [],
   "source": [
    "train, val, test = split_datasets(csv_file)"
   ]
  },
  {
   "cell_type": "code",
   "execution_count": 8,
   "metadata": {},
   "outputs": [],
   "source": [
    "class GetData(Dataset):\n",
    "    def __init__(self, csv_file: pd.DataFrame):\n",
    "        self.img_paths = csv_file['fixed_inputs'].values.tolist()\n",
    "        self.mask_paths = csv_file['mask_paths'].values.tolist()\n",
    "    \n",
    "    def __len__(self) -> int:\n",
    "        return len(self.img_paths)\n",
    "    \n",
    "    def __getitem__(self, index):\n",
    "        img = torchvision.io.read_file(self.img_paths[index])\n",
    "        img = torchvision.io.decode_jpeg(img)\n",
    "        mask = torchvision.io.read_file(self.mask_paths[index])\n",
    "        mask = torchvision.io.decode_image(mask)\n",
    "        img = torchvision.transforms.functional.resize(img, (256, 256))\n",
    "        mask = torchvision.transforms.functional.resize(mask, (68, 68))\n",
    "        img = img / 255\n",
    "        mask = mask / 255\n",
    "        return img, mask"
   ]
  },
  {
   "cell_type": "code",
   "execution_count": 9,
   "metadata": {},
   "outputs": [],
   "source": [
    "# Loss function\n",
    "def dice_bce_loss(inputs, targets, smooth = 1e-5):\n",
    "    # remove if your model inherently handles sigmoid\n",
    "    number_of_pixels = inputs.shape[0] * (512 * 512 * 3)\n",
    "    sigmoid = nn.Sigmoid()\n",
    "    inputs = sigmoid(inputs)\n",
    "    inputs = inputs.view(-1)\n",
    "    targets = targets.view(-1)\n",
    "    intersection = (inputs * targets).sum()\n",
    "    dice_loss = (2. * intersection + smooth) / (inputs.sum() + targets.sum() + smooth)\n",
    "    dice_loss = 1 - dice_loss\n",
    "    # Pixel wise log loss is calculated not number of images\n",
    "    # I checked reduce by mean is correct measure.\n",
    "    BCE = nn.functional.binary_cross_entropy(inputs, targets, reduce='mean')\n",
    "    final = dice_loss + BCE\n",
    "    return final, number_of_pixels"
   ]
  },
  {
   "cell_type": "code",
   "execution_count": 10,
   "metadata": {},
   "outputs": [],
   "source": [
    "# IOU metric\n",
    "# SMOOTH = 1e-5\n",
    "def iou_score(inputs, targets, thres = None, smooth=1e-5):\n",
    "    sigmoid = nn.Sigmoid()\n",
    "    inputs = sigmoid(inputs)\n",
    "    if thres != None:\n",
    "        inputs = (inputs > thres).float()\n",
    "    inputs = inputs.view(-1)\n",
    "    targets = targets.view(-1)\n",
    "    intersection = torch.sum(inputs * targets)\n",
    "    unioun = torch.sum(inputs + targets) - intersection\n",
    "    # TP = torch.sum(torch.logical_and(inputs == 1, targets == 1))\n",
    "    # FP = torch.sum(torch.logical_and(inputs == 1, targets == 0))\n",
    "    # FN = torch.sum(torch.logical_and(inputs == 0, targets == 1))\n",
    "    iou = (intersection + smooth) / (unioun + smooth)\n",
    "    return iou"
   ]
  },
  {
   "cell_type": "code",
   "execution_count": 11,
   "metadata": {},
   "outputs": [],
   "source": [
    "def train_model(model, train_set, val_set, epochs):\n",
    "    model = nn.DataParallel(model)\n",
    "    model = model.to(device)\n",
    "    datadict = {\n",
    "        'train': train_set,\n",
    "        'val' : val_set\n",
    "    }\n",
    "    optimizer = optim.SGD(model.parameters(), lr=0.01)\n",
    "    for epoch in range(epochs):\n",
    "        train_loss, train_iou = 0.0, 0.0\n",
    "        val_loss, val_iou = 0.0, 0.0\n",
    "        for phase in ['train', 'val']:\n",
    "            if phase == 'train':\n",
    "                model.train()\n",
    "            else:\n",
    "                model.eval()\n",
    "            running_loss, running_iou = 0.0, 0.0\n",
    "            with tqdm(datadict[phase], unit='batch') as tepoch:\n",
    "                for img, label in tepoch:\n",
    "                    img = img.to(device)\n",
    "                    label = label.to(device)\n",
    "                    optimizer.zero_grad()\n",
    "                    with torch.set_grad_enabled(phase == 'train'):\n",
    "                        outputs = model(img)\n",
    "                        loss, _ = dice_bce_loss(outputs, label)\n",
    "                        iou = iou_score(outputs, label)\n",
    "                        if phase == 'train':\n",
    "                            loss.backward()\n",
    "                            optimizer.step()\n",
    "                    running_loss += loss.item()\n",
    "                    running_iou += iou.item()\n",
    "                    tepoch.set_postfix(loss = loss.item(), iou = iou.item())\n",
    "            if phase == 'train':\n",
    "                train_loss = running_loss / len(datadict['train'])\n",
    "                train_iou = running_iou / len(datadict['train'])\n",
    "                # epoch_loss = running_loss / len(datadict['train'])\n",
    "                # epoch_iou = running_iou / len(datadict['train'])\n",
    "                # print(f'Train loss: {epoch_loss}')\n",
    "            else:\n",
    "                val_loss = running_loss / len(datadict['val'])\n",
    "                val_iou = running_iou / len(datadict['val'])\n",
    "                # epoch_loss = running_loss / len(datadict['val'])\n",
    "                # epoch_iou = running_iou / len(datadict['val'])\n",
    "                # print(f'Val loss: {epoch_loss}')\n",
    "        wandb.log({\n",
    "            'train_loss' : train_loss,\n",
    "            'val_loss' : val_loss,\n",
    "            'train_iou' : train_iou,\n",
    "            'val_iou' : val_iou\n",
    "        })"
   ]
  },
  {
   "cell_type": "code",
   "execution_count": 12,
   "metadata": {},
   "outputs": [],
   "source": [
    "train_dataset = GetData(train)\n",
    "train_loader = DataLoader(train_dataset, batch_size=128, shuffle=True, num_workers=22)\n",
    "val_dataset = GetData(val)\n",
    "val_loader = DataLoader(val_dataset, batch_size=128, shuffle=True, num_workers=22)"
   ]
  },
  {
   "cell_type": "code",
   "execution_count": 13,
   "metadata": {},
   "outputs": [
    {
     "name": "stderr",
     "output_type": "stream",
     "text": [
      "  0%|          | 0/1475 [00:00<?, ?batch/s]/home/paperspace/.local/lib/python3.9/site-packages/torch/nn/_reduction.py:42: UserWarning: size_average and reduce args will be deprecated, please use reduction='mean' instead.\n",
      "  warnings.warn(warning.format(ret))\n",
      "  3%|▎         | 47/1475 [00:20<10:34,  2.25batch/s, iou=0.00211, loss=1.96] \n"
     ]
    },
    {
     "ename": "KeyboardInterrupt",
     "evalue": "",
     "output_type": "error",
     "traceback": [
      "\u001b[0;31m---------------------------------------------------------------------------\u001b[0m",
      "\u001b[0;31mKeyboardInterrupt\u001b[0m                         Traceback (most recent call last)",
      "Cell \u001b[0;32mIn [13], line 1\u001b[0m\n\u001b[0;32m----> 1\u001b[0m \u001b[43mtrain_model\u001b[49m\u001b[43m(\u001b[49m\u001b[43mUnet\u001b[49m\u001b[43m(\u001b[49m\u001b[38;5;241;43m3\u001b[39;49m\u001b[43m)\u001b[49m\u001b[43m,\u001b[49m\u001b[43m \u001b[49m\u001b[43mtrain_loader\u001b[49m\u001b[43m,\u001b[49m\u001b[43m \u001b[49m\u001b[43mval_loader\u001b[49m\u001b[43m,\u001b[49m\u001b[43m \u001b[49m\u001b[38;5;241;43m10\u001b[39;49m\u001b[43m)\u001b[49m\n",
      "Cell \u001b[0;32mIn [11], line 29\u001b[0m, in \u001b[0;36mtrain_model\u001b[0;34m(model, train_set, val_set, epochs)\u001b[0m\n\u001b[1;32m     27\u001b[0m         loss\u001b[38;5;241m.\u001b[39mbackward()\n\u001b[1;32m     28\u001b[0m         optimizer\u001b[38;5;241m.\u001b[39mstep()\n\u001b[0;32m---> 29\u001b[0m running_loss \u001b[38;5;241m+\u001b[39m\u001b[38;5;241m=\u001b[39m \u001b[43mloss\u001b[49m\u001b[38;5;241;43m.\u001b[39;49m\u001b[43mitem\u001b[49m\u001b[43m(\u001b[49m\u001b[43m)\u001b[49m\n\u001b[1;32m     30\u001b[0m running_iou \u001b[38;5;241m+\u001b[39m\u001b[38;5;241m=\u001b[39m iou\u001b[38;5;241m.\u001b[39mitem()\n\u001b[1;32m     31\u001b[0m tepoch\u001b[38;5;241m.\u001b[39mset_postfix(loss \u001b[38;5;241m=\u001b[39m loss\u001b[38;5;241m.\u001b[39mitem(), iou \u001b[38;5;241m=\u001b[39m iou\u001b[38;5;241m.\u001b[39mitem())\n",
      "\u001b[0;31mKeyboardInterrupt\u001b[0m: "
     ]
    }
   ],
   "source": [
    "train_model(Unet(3), train_loader, val_loader, 10)"
   ]
  },
  {
   "cell_type": "code",
   "execution_count": 21,
   "metadata": {},
   "outputs": [
    {
     "data": {
      "text/plain": [
       "torch.Size([64, 64, 68, 68])"
      ]
     },
     "execution_count": 21,
     "metadata": {},
     "output_type": "execute_result"
    }
   ],
   "source": [
    "x.shape"
   ]
  },
  {
   "cell_type": "code",
   "execution_count": 14,
   "metadata": {},
   "outputs": [],
   "source": [
    "# def get_model():\n",
    "#     model = smp.Unet(\n",
    "#         in_channels=3,             \n",
    "#         classes=1,                \n",
    "#     )\n",
    "#     return model"
   ]
  },
  {
   "cell_type": "code",
   "execution_count": 27,
   "metadata": {},
   "outputs": [],
   "source": [
    "model = Unet(3)"
   ]
  },
  {
   "cell_type": "code",
   "execution_count": 28,
   "metadata": {},
   "outputs": [],
   "source": [
    "temp = torch.rand(1, 3, 256, 256)"
   ]
  },
  {
   "cell_type": "code",
   "execution_count": 29,
   "metadata": {},
   "outputs": [],
   "source": [
    "pred_temp = model(temp)"
   ]
  },
  {
   "cell_type": "code",
   "execution_count": 30,
   "metadata": {},
   "outputs": [],
   "source": [
    "# original - 68, new -  "
   ]
  },
  {
   "cell_type": "code",
   "execution_count": 31,
   "metadata": {},
   "outputs": [
    {
     "data": {
      "text/plain": [
       "torch.Size([1, 1, 68, 68])"
      ]
     },
     "execution_count": 31,
     "metadata": {},
     "output_type": "execute_result"
    }
   ],
   "source": [
    "pred_temp.shape"
   ]
  },
  {
   "cell_type": "code",
   "execution_count": null,
   "metadata": {},
   "outputs": [],
   "source": []
  }
 ],
 "metadata": {
  "kernelspec": {
   "display_name": "base_env",
   "language": "python",
   "name": "base_env"
  },
  "language_info": {
   "codemirror_mode": {
    "name": "ipython",
    "version": 3
   },
   "file_extension": ".py",
   "mimetype": "text/x-python",
   "name": "python",
   "nbconvert_exporter": "python",
   "pygments_lexer": "ipython3",
   "version": "3.9.16"
  }
 },
 "nbformat": 4,
 "nbformat_minor": 2
}
