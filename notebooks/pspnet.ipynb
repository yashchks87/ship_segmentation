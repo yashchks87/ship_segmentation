{
 "cells": [
  {
   "cell_type": "code",
   "execution_count": 2,
   "metadata": {},
   "outputs": [
    {
     "name": "stdout",
     "output_type": "stream",
     "text": [
      "Segmentation Models: using `keras` framework.\n"
     ]
    }
   ],
   "source": [
    "import os\n",
    "os.environ['TF_CPP_MIN_LOG_LEVEL'] = '3' \n",
    "import pandas as pd\n",
    "import numpy as np\n",
    "import tensorflow as tf\n",
    "import seaborn as sns\n",
    "import matplotlib.pyplot as plt\n",
    "from tqdm import tqdm\n",
    "from tensorflow import keras\n",
    "import sys\n",
    "import PIL\n",
    "import os\n",
    "import tensorflow.keras.backend as K\n",
    "import glob\n",
    "sys.path.append('../scripts/helper_functions_cv/tensorflow_helpers/')\n",
    "from dotenv import load_dotenv\n",
    "from sklearn.model_selection import train_test_split\n",
    "import segmentation_models as sm\n",
    "sm.set_framework('tf.keras')\n",
    "import multiprocessing as mp\n",
    "from save_weights_every_epoch import CallbackForSavingModelWeights\n",
    "from change_learning_rate_epoch import ChangeLR\n",
    "import multiprocessing as mp"
   ]
  },
  {
   "cell_type": "code",
   "execution_count": 3,
   "metadata": {},
   "outputs": [
    {
     "data": {
      "text/plain": [
       "True"
      ]
     },
     "execution_count": 3,
     "metadata": {},
     "output_type": "execute_result"
    }
   ],
   "source": [
    "load_dotenv('../config_files/dev.env')"
   ]
  },
  {
   "cell_type": "code",
   "execution_count": 4,
   "metadata": {},
   "outputs": [],
   "source": [
    "csv_file = pd.read_csv('../../files/train_ship_segmentations_v2.csv')\n",
    "csv_file = csv_file.groupby('ImageId')['EncodedPixels'].apply(list).reset_index()\n",
    "image_ids, pixels = csv_file['ImageId'].values.tolist(), csv_file['EncodedPixels'].values.tolist()"
   ]
  },
  {
   "cell_type": "code",
   "execution_count": 5,
   "metadata": {},
   "outputs": [],
   "source": [
    "csv_file['fixed_inputs'] = csv_file['ImageId'].apply(lambda x: '../../files/train_v2/' + x)\n",
    "csv_file['mask_paths'] = csv_file['ImageId'].apply(lambda x: '../../files/masks_v1/train/' + x.split('.')[0] + '.' + 'png')"
   ]
  },
  {
   "cell_type": "code",
   "execution_count": 6,
   "metadata": {},
   "outputs": [
    {
     "name": "stderr",
     "output_type": "stream",
     "text": [
      "100%|██████████| 192556/192556 [00:00<00:00, 387183.10it/s]\n"
     ]
    }
   ],
   "source": [
    "for x in tqdm(csv_file['fixed_inputs'].values.tolist()):\n",
    "    if os.path.exists(x) == False:\n",
    "        print(x)"
   ]
  },
  {
   "cell_type": "code",
   "execution_count": 7,
   "metadata": {},
   "outputs": [
    {
     "name": "stderr",
     "output_type": "stream",
     "text": [
      "100%|██████████| 192556/192556 [00:00<00:00, 402124.45it/s]\n"
     ]
    }
   ],
   "source": [
    "for x in tqdm(csv_file['mask_paths'].values.tolist()):\n",
    "    if os.path.exists(x) == False:\n",
    "        print(x)"
   ]
  },
  {
   "cell_type": "code",
   "execution_count": 8,
   "metadata": {},
   "outputs": [
    {
     "data": {
      "text/plain": [
       "'../../files/train_v2/00003e153.jpg'"
      ]
     },
     "execution_count": 8,
     "metadata": {},
     "output_type": "execute_result"
    }
   ],
   "source": [
    "csv_file['fixed_inputs'].values.tolist()[0]"
   ]
  },
  {
   "cell_type": "code",
   "execution_count": 9,
   "metadata": {},
   "outputs": [],
   "source": [
    "csv_file = csv_file[csv_file['fixed_inputs'] != '../../files/train_v2/6384c3e78.jpg']"
   ]
  },
  {
   "cell_type": "code",
   "execution_count": 10,
   "metadata": {},
   "outputs": [
    {
     "name": "stdout",
     "output_type": "stream",
     "text": [
      "INFO:tensorflow:Using MirroredStrategy with devices ('/job:localhost/replica:0/task:0/device:GPU:0', '/job:localhost/replica:0/task:0/device:GPU:1', '/job:localhost/replica:0/task:0/device:GPU:2', '/job:localhost/replica:0/task:0/device:GPU:3', '/job:localhost/replica:0/task:0/device:GPU:4', '/job:localhost/replica:0/task:0/device:GPU:5', '/job:localhost/replica:0/task:0/device:GPU:6', '/job:localhost/replica:0/task:0/device:GPU:7')\n"
     ]
    }
   ],
   "source": [
    "allowed_gpus = [0, 1, 2, 3, 4, 5, 6, 7]\n",
    "gpus = tf.config.list_physical_devices(\"GPU\")\n",
    "final_gpu_list = [gpus[x] for x in allowed_gpus]\n",
    "tf.config.set_visible_devices(final_gpu_list, \"GPU\")\n",
    "for gpu in final_gpu_list:\n",
    "    tf.config.experimental.set_memory_growth(gpu, True)\n",
    "\n",
    "strategy = tf.distribute.MirroredStrategy()\n",
    "AUTO = tf.data.experimental.AUTOTUNE\n",
    "REPLICAS = strategy.num_replicas_in_sync"
   ]
  },
  {
   "cell_type": "code",
   "execution_count": 11,
   "metadata": {},
   "outputs": [],
   "source": [
    "def split_datasets(csv_file, test_size = 0.01):\n",
    "    train, test = train_test_split(csv_file, test_size = test_size, random_state=42)\n",
    "    train, val = train_test_split(train, test_size = test_size, random_state=42)\n",
    "    return train, val, test"
   ]
  },
  {
   "cell_type": "code",
   "execution_count": 12,
   "metadata": {},
   "outputs": [],
   "source": [
    "# csv_file = pd.read_csv\n",
    "train, val, test = split_datasets(csv_file)"
   ]
  },
  {
   "cell_type": "code",
   "execution_count": 13,
   "metadata": {},
   "outputs": [],
   "source": [
    "def get_model(model_name=None, image_size=524):\n",
    "    with strategy.scope():\n",
    "        if model_name == None:\n",
    "            model = sm.PSPNet(classes=1, input_shape=(image_size, image_size, 3), activation='sigmoid')\n",
    "        else:\n",
    "            model = sm.PSPNet(model_name, weights=None, input_shape=(image_size, image_size, 3), classes=1, activation='sigmoid')\n",
    "        model.compile(\n",
    "            tf.keras.optimizers.SGD(),\n",
    "            loss = sm.losses.bce_dice_loss,\n",
    "            metrics = [sm.metrics.iou_score]\n",
    "        )\n",
    "    return model"
   ]
  },
  {
   "cell_type": "code",
   "execution_count": 14,
   "metadata": {},
   "outputs": [],
   "source": [
    "def read_imgs(img, mask, shape):\n",
    "    img = tf.io.read_file(img)\n",
    "    mask = tf.io.read_file(mask)\n",
    "    img = tf.image.decode_jpeg(img, channels=3)\n",
    "    mask = tf.image.decode_jpeg(mask, channels=1)\n",
    "    img = tf.image.resize(img, size=shape)\n",
    "    mask = tf.image.resize(mask, size=shape)\n",
    "    img = img / 255\n",
    "    mask = mask / 255\n",
    "    return img, mask"
   ]
  },
  {
   "cell_type": "code",
   "execution_count": 15,
   "metadata": {},
   "outputs": [],
   "source": [
    "def get_data(data, test_ = False, aug_seq = None, shape = (256, 256), shuffle = True, repeat = True, batch = True, batch_size = 32):\n",
    "    imgs, masks = data['fixed_inputs'].values.tolist(), data['mask_paths'].values.tolist()\n",
    "    shapes = [shape for x in range(len(imgs))]\n",
    "    tensor = tf.data.Dataset.from_tensor_slices((imgs, masks, shapes))\n",
    "    tensor = tensor.cache()\n",
    "    if repeat:\n",
    "        tensor = tensor.repeat()\n",
    "    if shuffle:\n",
    "        tensor = tensor.shuffle(256 * REPLICAS)\n",
    "        opt = tf.data.Options()\n",
    "        opt.experimental_deterministic = False\n",
    "        tensor = tensor.with_options(opt)\n",
    "    tensor = tensor.map(read_imgs)\n",
    "    if batch:\n",
    "        tensor = tensor.batch(batch_size * REPLICAS)\n",
    "    tensor = tensor.prefetch(AUTO)\n",
    "    return tensor"
   ]
  },
  {
   "cell_type": "code",
   "execution_count": 16,
   "metadata": {},
   "outputs": [
    {
     "data": {
      "text/plain": [
       "'/home/ubuntu/ship_segmentation/TB/'"
      ]
     },
     "execution_count": 16,
     "metadata": {},
     "output_type": "execute_result"
    }
   ],
   "source": [
    "os.environ['tb_path']"
   ]
  },
  {
   "cell_type": "code",
   "execution_count": 16,
   "metadata": {},
   "outputs": [
    {
     "name": "stdout",
     "output_type": "stream",
     "text": [
      "INFO:tensorflow:Reduce to /job:localhost/replica:0/task:0/device:CPU:0 then broadcast to ('/job:localhost/replica:0/task:0/device:CPU:0',).\n",
      "INFO:tensorflow:Reduce to /job:localhost/replica:0/task:0/device:CPU:0 then broadcast to ('/job:localhost/replica:0/task:0/device:CPU:0',).\n",
      "INFO:tensorflow:Reduce to /job:localhost/replica:0/task:0/device:CPU:0 then broadcast to ('/job:localhost/replica:0/task:0/device:CPU:0',).\n",
      "INFO:tensorflow:Reduce to /job:localhost/replica:0/task:0/device:CPU:0 then broadcast to ('/job:localhost/replica:0/task:0/device:CPU:0',).\n",
      "INFO:tensorflow:Reduce to /job:localhost/replica:0/task:0/device:CPU:0 then broadcast to ('/job:localhost/replica:0/task:0/device:CPU:0',).\n",
      "INFO:tensorflow:Reduce to /job:localhost/replica:0/task:0/device:CPU:0 then broadcast to ('/job:localhost/replica:0/task:0/device:CPU:0',).\n",
      "INFO:tensorflow:Reduce to /job:localhost/replica:0/task:0/device:CPU:0 then broadcast to ('/job:localhost/replica:0/task:0/device:CPU:0',).\n",
      "INFO:tensorflow:Reduce to /job:localhost/replica:0/task:0/device:CPU:0 then broadcast to ('/job:localhost/replica:0/task:0/device:CPU:0',).\n",
      "INFO:tensorflow:Reduce to /job:localhost/replica:0/task:0/device:CPU:0 then broadcast to ('/job:localhost/replica:0/task:0/device:CPU:0',).\n",
      "INFO:tensorflow:Reduce to /job:localhost/replica:0/task:0/device:CPU:0 then broadcast to ('/job:localhost/replica:0/task:0/device:CPU:0',).\n",
      "Epoch 1/50\n",
      "INFO:tensorflow:batch_all_reduce: 88 all-reduces with algorithm = nccl, num_packs = 1\n",
      "INFO:tensorflow:batch_all_reduce: 88 all-reduces with algorithm = nccl, num_packs = 1\n",
      "368/368 [==============================] - 264s 555ms/step - loss: 0.9572 - iou_score: 0.0302 - val_loss: 1.0123 - val_iou_score: 1.0767e-04\n",
      "Epoch 2/50\n",
      "368/368 [==============================] - 191s 520ms/step - loss: 0.5066 - iou_score: 0.3490 - val_loss: 0.9370 - val_iou_score: 0.0430\n",
      "Epoch 3/50\n",
      "368/368 [==============================] - 191s 520ms/step - loss: 0.3063 - iou_score: 0.5448 - val_loss: 0.3236 - val_iou_score: 0.5261\n",
      "Epoch 4/50\n",
      "368/368 [==============================] - 192s 521ms/step - loss: 0.2655 - iou_score: 0.5926 - val_loss: 0.2663 - val_iou_score: 0.5935\n",
      "Epoch 5/50\n",
      "368/368 [==============================] - 192s 521ms/step - loss: 0.2422 - iou_score: 0.6208 - val_loss: 0.2507 - val_iou_score: 0.6118\n",
      "Epoch 6/50\n",
      "368/368 [==============================] - 190s 517ms/step - loss: 0.2276 - iou_score: 0.6394 - val_loss: 0.2323 - val_iou_score: 0.6343\n",
      "Epoch 7/50\n",
      "368/368 [==============================] - 192s 521ms/step - loss: 0.2165 - iou_score: 0.6536 - val_loss: 0.2329 - val_iou_score: 0.6321\n",
      "Epoch 8/50\n",
      "368/368 [==============================] - 191s 518ms/step - loss: 0.2073 - iou_score: 0.6657 - val_loss: 0.2185 - val_iou_score: 0.6514\n",
      "Epoch 9/50\n",
      "368/368 [==============================] - 191s 519ms/step - loss: 0.1994 - iou_score: 0.6761 - val_loss: 0.2487 - val_iou_score: 0.6124\n",
      "Epoch 10/50\n",
      "368/368 [==============================] - 191s 520ms/step - loss: 0.1953 - iou_score: 0.6819 - val_loss: 0.2164 - val_iou_score: 0.6544\n",
      "Epoch 11/50\n",
      "368/368 [==============================] - 190s 518ms/step - loss: 0.1903 - iou_score: 0.6888 - val_loss: 0.2058 - val_iou_score: 0.6676\n",
      "Epoch 12/50\n",
      "368/368 [==============================] - 191s 519ms/step - loss: 0.1852 - iou_score: 0.6957 - val_loss: 0.2025 - val_iou_score: 0.6730\n",
      "Epoch 13/50\n",
      "368/368 [==============================] - 191s 519ms/step - loss: 0.1801 - iou_score: 0.7023 - val_loss: 0.2074 - val_iou_score: 0.6680\n",
      "Epoch 14/50\n",
      "368/368 [==============================] - 191s 519ms/step - loss: 0.1774 - iou_score: 0.7065 - val_loss: 0.1920 - val_iou_score: 0.6861\n",
      "Epoch 15/50\n",
      "368/368 [==============================] - 191s 519ms/step - loss: 0.1734 - iou_score: 0.7118 - val_loss: 0.1889 - val_iou_score: 0.6902\n",
      "Epoch 16/50\n",
      "368/368 [==============================] - 191s 518ms/step - loss: 0.1709 - iou_score: 0.7154 - val_loss: 0.1943 - val_iou_score: 0.6845\n",
      "Epoch 17/50\n",
      "368/368 [==============================] - 191s 519ms/step - loss: 0.1684 - iou_score: 0.7190 - val_loss: 0.1843 - val_iou_score: 0.6961\n",
      "Epoch 18/50\n",
      "368/368 [==============================] - 191s 519ms/step - loss: 0.1670 - iou_score: 0.7213 - val_loss: 0.1808 - val_iou_score: 0.7011\n",
      "Epoch 19/50\n",
      "368/368 [==============================] - 191s 519ms/step - loss: 0.1647 - iou_score: 0.7244 - val_loss: 0.1825 - val_iou_score: 0.6998\n",
      "Epoch 20/50\n",
      "368/368 [==============================] - 191s 518ms/step - loss: 0.1606 - iou_score: 0.7299 - val_loss: 0.1844 - val_iou_score: 0.6959\n",
      "Epoch 21/50\n",
      "368/368 [==============================] - 190s 518ms/step - loss: 0.1587 - iou_score: 0.7329 - val_loss: 0.2277 - val_iou_score: 0.6426\n",
      "Epoch 22/50\n",
      "368/368 [==============================] - 190s 517ms/step - loss: 0.1566 - iou_score: 0.7357 - val_loss: 0.1713 - val_iou_score: 0.7147\n",
      "Epoch 23/50\n",
      "368/368 [==============================] - 191s 518ms/step - loss: 0.1551 - iou_score: 0.7380 - val_loss: 0.1711 - val_iou_score: 0.7153\n",
      "Epoch 24/50\n",
      "368/368 [==============================] - 191s 518ms/step - loss: 0.1536 - iou_score: 0.7401 - val_loss: 0.1724 - val_iou_score: 0.7130\n",
      "Epoch 25/50\n",
      "368/368 [==============================] - 191s 519ms/step - loss: 0.1511 - iou_score: 0.7438 - val_loss: 0.1688 - val_iou_score: 0.7192\n",
      "Epoch 26/50\n",
      "368/368 [==============================] - 190s 517ms/step - loss: 0.1507 - iou_score: 0.7446 - val_loss: 0.1711 - val_iou_score: 0.7145\n",
      "Epoch 27/50\n",
      "368/368 [==============================] - 191s 519ms/step - loss: 0.1483 - iou_score: 0.7480 - val_loss: 0.1818 - val_iou_score: 0.7009\n",
      "Epoch 28/50\n",
      "368/368 [==============================] - 191s 519ms/step - loss: 0.1464 - iou_score: 0.7506 - val_loss: 0.1623 - val_iou_score: 0.7266\n",
      "Epoch 29/50\n",
      "368/368 [==============================] - 191s 520ms/step - loss: 0.1450 - iou_score: 0.7529 - val_loss: 0.1714 - val_iou_score: 0.7136\n",
      "Epoch 30/50\n",
      "368/368 [==============================] - 191s 519ms/step - loss: 0.1437 - iou_score: 0.7547 - val_loss: 0.1551 - val_iou_score: 0.7374\n",
      "Epoch 31/50\n",
      "368/368 [==============================] - 191s 518ms/step - loss: 0.1421 - iou_score: 0.7570 - val_loss: 0.1571 - val_iou_score: 0.7340\n",
      "Epoch 32/50\n",
      "368/368 [==============================] - 191s 518ms/step - loss: 0.1409 - iou_score: 0.7588 - val_loss: 0.1617 - val_iou_score: 0.7270\n",
      "Epoch 33/50\n",
      "368/368 [==============================] - 191s 519ms/step - loss: 0.1405 - iou_score: 0.7597 - val_loss: 0.1588 - val_iou_score: 0.7330\n",
      "Epoch 34/50\n",
      "368/368 [==============================] - 191s 519ms/step - loss: 0.1388 - iou_score: 0.7621 - val_loss: 0.1512 - val_iou_score: 0.7431\n",
      "Epoch 35/50\n",
      "368/368 [==============================] - 191s 519ms/step - loss: 0.1381 - iou_score: 0.7633 - val_loss: 0.1492 - val_iou_score: 0.7460\n",
      "Epoch 36/50\n",
      "368/368 [==============================] - 190s 517ms/step - loss: 0.1365 - iou_score: 0.7656 - val_loss: 0.1691 - val_iou_score: 0.7169\n",
      "Epoch 37/50\n",
      "368/368 [==============================] - 191s 519ms/step - loss: 0.1357 - iou_score: 0.7668 - val_loss: 0.1455 - val_iou_score: 0.7509\n",
      "Epoch 38/50\n",
      "368/368 [==============================] - 191s 520ms/step - loss: 0.1348 - iou_score: 0.7682 - val_loss: 0.1430 - val_iou_score: 0.7546\n",
      "Epoch 39/50\n",
      "368/368 [==============================] - 192s 522ms/step - loss: 0.1332 - iou_score: 0.7705 - val_loss: 0.1433 - val_iou_score: 0.7544\n",
      "Epoch 40/50\n",
      "368/368 [==============================] - 191s 519ms/step - loss: 0.1321 - iou_score: 0.7722 - val_loss: 0.1420 - val_iou_score: 0.7561\n",
      "Epoch 41/50\n",
      "368/368 [==============================] - 191s 519ms/step - loss: 0.1313 - iou_score: 0.7736 - val_loss: 0.1405 - val_iou_score: 0.7588\n",
      "Epoch 42/50\n",
      "368/368 [==============================] - 191s 519ms/step - loss: 0.1306 - iou_score: 0.7746 - val_loss: 0.1399 - val_iou_score: 0.7594\n",
      "Epoch 43/50\n",
      "368/368 [==============================] - 191s 520ms/step - loss: 0.1298 - iou_score: 0.7758 - val_loss: 0.1385 - val_iou_score: 0.7616\n",
      "Epoch 44/50\n",
      "368/368 [==============================] - 191s 518ms/step - loss: 0.1276 - iou_score: 0.7791 - val_loss: 0.1399 - val_iou_score: 0.7589\n",
      "Epoch 45/50\n",
      "368/368 [==============================] - 191s 519ms/step - loss: 0.1289 - iou_score: 0.7772 - val_loss: 0.1361 - val_iou_score: 0.7651\n",
      "Epoch 46/50\n",
      "368/368 [==============================] - 191s 519ms/step - loss: 0.1265 - iou_score: 0.7808 - val_loss: 0.1342 - val_iou_score: 0.7678\n",
      "Epoch 47/50\n",
      "368/368 [==============================] - 191s 520ms/step - loss: 0.1253 - iou_score: 0.7827 - val_loss: 0.1349 - val_iou_score: 0.7668\n",
      "Epoch 48/50\n",
      "368/368 [==============================] - 191s 519ms/step - loss: 0.1252 - iou_score: 0.7827 - val_loss: 0.1363 - val_iou_score: 0.7652\n",
      "Epoch 49/50\n",
      "368/368 [==============================] - 191s 519ms/step - loss: 0.1241 - iou_score: 0.7845 - val_loss: 0.1334 - val_iou_score: 0.7693\n",
      "Epoch 50/50\n",
      "368/368 [==============================] - 191s 519ms/step - loss: 0.1235 - iou_score: 0.7854 - val_loss: 0.1363 - val_iou_score: 0.7652\n"
     ]
    }
   ],
   "source": [
    "K.clear_session()\n",
    "batch_size = 64\n",
    "image_size = 528\n",
    "log_dir = f\"{os.environ['tb_path']}segmentation/pspnet/res50_baseline_{batch_size}_is_{image_size}/\"\n",
    "if os.path.exists(log_dir) == False:\n",
    "    os.makedirs(log_dir)\n",
    "tensorboard_callback = tf.keras.callbacks.TensorBoard(log_dir = log_dir)\n",
    "weights_path = f'../../ship_seg_weights/segmentation/pspnet/res50_baseline_{batch_size}_is_{image_size}/'\n",
    "weights_save = CallbackForSavingModelWeights(weights_path)\n",
    "train_dataset = get_data(train, shape = (image_size, image_size), batch_size=batch_size)\n",
    "val_dataset = get_data(val, shape = (image_size, image_size), batch_size=batch_size, shuffle=False, repeat=False)\n",
    "with strategy.scope():\n",
    "    model = get_model(model_name='resnet50', image_size=image_size)\n",
    "    model_hist = model.fit(\n",
    "        train_dataset,\n",
    "        steps_per_epoch = len(train) // (batch_size * REPLICAS),\n",
    "        epochs = 50,\n",
    "        verbose = 1,\n",
    "        validation_data = val_dataset,\n",
    "        callbacks = [tensorboard_callback]\n",
    "    )"
   ]
  },
  {
   "cell_type": "code",
   "execution_count": 17,
   "metadata": {},
   "outputs": [
    {
     "name": "stdout",
     "output_type": "stream",
     "text": [
      "Epoch 1/50\n",
      "INFO:tensorflow:batch_all_reduce: 69 all-reduces with algorithm = nccl, num_packs = 1\n",
      "INFO:tensorflow:batch_all_reduce: 69 all-reduces with algorithm = nccl, num_packs = 1\n",
      "368/368 [==============================] - 180s 379ms/step - loss: 0.9999 - iou_score: 0.0064 - val_loss: 0.8821 - val_iou_score: 0.0657\n",
      "Epoch 2/50\n",
      "368/368 [==============================] - 137s 372ms/step - loss: 0.4153 - iou_score: 0.4337 - val_loss: 0.3564 - val_iou_score: 0.4928\n",
      "Epoch 3/50\n",
      "368/368 [==============================] - 136s 371ms/step - loss: 0.2945 - iou_score: 0.5576 - val_loss: 0.3085 - val_iou_score: 0.5449\n",
      "Epoch 4/50\n",
      "368/368 [==============================] - 136s 371ms/step - loss: 0.2646 - iou_score: 0.5935 - val_loss: 0.2888 - val_iou_score: 0.5710\n",
      "Epoch 5/50\n",
      "368/368 [==============================] - 137s 371ms/step - loss: 0.2448 - iou_score: 0.6180 - val_loss: 0.2644 - val_iou_score: 0.5991\n",
      "Epoch 6/50\n",
      "368/368 [==============================] - 137s 371ms/step - loss: 0.2315 - iou_score: 0.6348 - val_loss: 0.2476 - val_iou_score: 0.6185\n",
      "Epoch 7/50\n",
      "368/368 [==============================] - 137s 371ms/step - loss: 0.2205 - iou_score: 0.6490 - val_loss: 0.2375 - val_iou_score: 0.6309\n",
      "Epoch 8/50\n",
      "368/368 [==============================] - 136s 370ms/step - loss: 0.2127 - iou_score: 0.6592 - val_loss: 0.2303 - val_iou_score: 0.6399\n",
      "Epoch 9/50\n",
      "368/368 [==============================] - 137s 371ms/step - loss: 0.2065 - iou_score: 0.6677 - val_loss: 0.2243 - val_iou_score: 0.6480\n",
      "Epoch 10/50\n",
      "368/368 [==============================] - 136s 371ms/step - loss: 0.2003 - iou_score: 0.6756 - val_loss: 0.2189 - val_iou_score: 0.6543\n",
      "Epoch 11/50\n",
      "368/368 [==============================] - 137s 371ms/step - loss: 0.1964 - iou_score: 0.6810 - val_loss: 0.2224 - val_iou_score: 0.6497\n",
      "Epoch 12/50\n",
      "368/368 [==============================] - 136s 371ms/step - loss: 0.1909 - iou_score: 0.6881 - val_loss: 0.2099 - val_iou_score: 0.6659\n",
      "Epoch 13/50\n",
      "368/368 [==============================] - 136s 371ms/step - loss: 0.1870 - iou_score: 0.6935 - val_loss: 0.2058 - val_iou_score: 0.6712\n",
      "Epoch 14/50\n",
      "368/368 [==============================] - 136s 371ms/step - loss: 0.1857 - iou_score: 0.6955 - val_loss: 0.2061 - val_iou_score: 0.6717\n",
      "Epoch 15/50\n",
      "368/368 [==============================] - 136s 370ms/step - loss: 0.1806 - iou_score: 0.7023 - val_loss: 0.2012 - val_iou_score: 0.6771\n",
      "Epoch 16/50\n",
      "368/368 [==============================] - 136s 370ms/step - loss: 0.1786 - iou_score: 0.7052 - val_loss: 0.1984 - val_iou_score: 0.6811\n",
      "Epoch 17/50\n",
      "368/368 [==============================] - 136s 370ms/step - loss: 0.1746 - iou_score: 0.7104 - val_loss: 0.1962 - val_iou_score: 0.6833\n",
      "Epoch 18/50\n",
      "368/368 [==============================] - 137s 372ms/step - loss: 0.1738 - iou_score: 0.7119 - val_loss: 0.1930 - val_iou_score: 0.6873\n",
      "Epoch 19/50\n",
      "368/368 [==============================] - 137s 371ms/step - loss: 0.1711 - iou_score: 0.7157 - val_loss: 0.1980 - val_iou_score: 0.6811\n",
      "Epoch 20/50\n",
      "368/368 [==============================] - 138s 375ms/step - loss: 0.1690 - iou_score: 0.7187 - val_loss: 0.1901 - val_iou_score: 0.6919\n",
      "Epoch 21/50\n",
      "368/368 [==============================] - 137s 371ms/step - loss: 0.1677 - iou_score: 0.7204 - val_loss: 0.1898 - val_iou_score: 0.6914\n",
      "Epoch 22/50\n",
      "368/368 [==============================] - 136s 371ms/step - loss: 0.1652 - iou_score: 0.7239 - val_loss: 0.1860 - val_iou_score: 0.6966\n",
      "Epoch 23/50\n",
      "368/368 [==============================] - 137s 371ms/step - loss: 0.1629 - iou_score: 0.7271 - val_loss: 0.1847 - val_iou_score: 0.6982\n",
      "Epoch 24/50\n",
      "368/368 [==============================] - 137s 372ms/step - loss: 0.1621 - iou_score: 0.7283 - val_loss: 0.1814 - val_iou_score: 0.7032\n",
      "Epoch 25/50\n",
      "368/368 [==============================] - 137s 372ms/step - loss: 0.1605 - iou_score: 0.7306 - val_loss: 0.1807 - val_iou_score: 0.7032\n",
      "Epoch 26/50\n",
      "368/368 [==============================] - 137s 372ms/step - loss: 0.1584 - iou_score: 0.7335 - val_loss: 0.1766 - val_iou_score: 0.7094\n",
      "Epoch 27/50\n",
      "368/368 [==============================] - 137s 372ms/step - loss: 0.1585 - iou_score: 0.7337 - val_loss: 0.1758 - val_iou_score: 0.7105\n",
      "Epoch 28/50\n",
      "368/368 [==============================] - 137s 372ms/step - loss: 0.1566 - iou_score: 0.7364 - val_loss: 0.1895 - val_iou_score: 0.6912\n",
      "Epoch 29/50\n",
      "368/368 [==============================] - 137s 372ms/step - loss: 0.1536 - iou_score: 0.7405 - val_loss: 0.2170 - val_iou_score: 0.6560\n",
      "Epoch 30/50\n",
      "368/368 [==============================] - 137s 371ms/step - loss: 0.1534 - iou_score: 0.7409 - val_loss: 0.1709 - val_iou_score: 0.7167\n",
      "Epoch 31/50\n",
      "368/368 [==============================] - 137s 371ms/step - loss: 0.1519 - iou_score: 0.7430 - val_loss: 0.1727 - val_iou_score: 0.7151\n",
      "Epoch 32/50\n",
      "368/368 [==============================] - 137s 371ms/step - loss: 0.1503 - iou_score: 0.7454 - val_loss: 0.1672 - val_iou_score: 0.7220\n",
      "Epoch 33/50\n",
      "368/368 [==============================] - 137s 372ms/step - loss: 0.1492 - iou_score: 0.7469 - val_loss: 0.1669 - val_iou_score: 0.7231\n",
      "Epoch 34/50\n",
      "368/368 [==============================] - 137s 371ms/step - loss: 0.1482 - iou_score: 0.7486 - val_loss: 0.1712 - val_iou_score: 0.7157\n",
      "Epoch 35/50\n",
      "368/368 [==============================] - 137s 371ms/step - loss: 0.1471 - iou_score: 0.7501 - val_loss: 0.1677 - val_iou_score: 0.7229\n",
      "Epoch 36/50\n",
      "368/368 [==============================] - 137s 371ms/step - loss: 0.1463 - iou_score: 0.7512 - val_loss: 0.1670 - val_iou_score: 0.7213\n",
      "Epoch 37/50\n",
      "368/368 [==============================] - 137s 372ms/step - loss: 0.1457 - iou_score: 0.7522 - val_loss: 0.1690 - val_iou_score: 0.7214\n",
      "Epoch 38/50\n",
      "368/368 [==============================] - 136s 371ms/step - loss: 0.1436 - iou_score: 0.7551 - val_loss: 0.1696 - val_iou_score: 0.7202\n",
      "Epoch 39/50\n",
      "368/368 [==============================] - 137s 371ms/step - loss: 0.1440 - iou_score: 0.7547 - val_loss: 0.1772 - val_iou_score: 0.7070\n",
      "Epoch 40/50\n",
      "368/368 [==============================] - 136s 370ms/step - loss: 0.1420 - iou_score: 0.7575 - val_loss: 0.1573 - val_iou_score: 0.7363\n",
      "Epoch 41/50\n",
      "368/368 [==============================] - 136s 370ms/step - loss: 0.1427 - iou_score: 0.7568 - val_loss: 0.1592 - val_iou_score: 0.7344\n",
      "Epoch 42/50\n",
      "368/368 [==============================] - 136s 370ms/step - loss: 0.1405 - iou_score: 0.7599 - val_loss: 0.1557 - val_iou_score: 0.7386\n",
      "Epoch 43/50\n",
      "368/368 [==============================] - 136s 370ms/step - loss: 0.1410 - iou_score: 0.7594 - val_loss: 0.2071 - val_iou_score: 0.6684\n",
      "Epoch 44/50\n",
      "368/368 [==============================] - 137s 371ms/step - loss: 0.1386 - iou_score: 0.7625 - val_loss: 0.1823 - val_iou_score: 0.7046\n",
      "Epoch 45/50\n",
      "368/368 [==============================] - 137s 372ms/step - loss: 0.1389 - iou_score: 0.7625 - val_loss: 0.1520 - val_iou_score: 0.7433\n",
      "Epoch 46/50\n",
      "368/368 [==============================] - 137s 371ms/step - loss: 0.1381 - iou_score: 0.7636 - val_loss: 0.1907 - val_iou_score: 0.6924\n",
      "Epoch 47/50\n",
      "368/368 [==============================] - 136s 371ms/step - loss: 0.1363 - iou_score: 0.7659 - val_loss: 0.1522 - val_iou_score: 0.7440\n",
      "Epoch 48/50\n",
      "368/368 [==============================] - 136s 370ms/step - loss: 0.1359 - iou_score: 0.7666 - val_loss: 0.1505 - val_iou_score: 0.7460\n",
      "Epoch 49/50\n",
      "368/368 [==============================] - 136s 370ms/step - loss: 0.1363 - iou_score: 0.7665 - val_loss: 0.1499 - val_iou_score: 0.7472\n",
      "Epoch 50/50\n",
      "368/368 [==============================] - 137s 371ms/step - loss: 0.1354 - iou_score: 0.7677 - val_loss: 0.1494 - val_iou_score: 0.7469\n"
     ]
    }
   ],
   "source": [
    "K.clear_session()\n",
    "batch_size = 64\n",
    "image_size = 528\n",
    "log_dir = f\"{os.environ['tb_path']}segmentation/pspnet/psp_incep_baseline_{batch_size}_is_{image_size}/\"\n",
    "if os.path.exists(log_dir) == False:\n",
    "    os.makedirs(log_dir)\n",
    "tensorboard_callback = tf.keras.callbacks.TensorBoard(log_dir = log_dir)\n",
    "weights_path = f'../../ship_seg_weights/segmentation/pspnet/psp_incep_baseline_{batch_size}_is_{image_size}/'\n",
    "weights_save = CallbackForSavingModelWeights(weights_path)\n",
    "train_dataset = get_data(train, shape = (image_size, image_size), batch_size=batch_size)\n",
    "val_dataset = get_data(val, shape = (image_size, image_size), batch_size=batch_size, shuffle=False, repeat=False)\n",
    "with strategy.scope():\n",
    "    model = get_model(model_name='inceptionv3', image_size=image_size)\n",
    "    model_hist = model.fit(\n",
    "        train_dataset,\n",
    "        steps_per_epoch = len(train) // (batch_size * REPLICAS),\n",
    "        epochs = 50,\n",
    "        verbose = 1,\n",
    "        validation_data = val_dataset,\n",
    "        callbacks = [tensorboard_callback, weights_save]\n",
    "    )"
   ]
  },
  {
   "cell_type": "code",
   "execution_count": 17,
   "metadata": {},
   "outputs": [
    {
     "name": "stdout",
     "output_type": "stream",
     "text": [
      "INFO:tensorflow:Reduce to /job:localhost/replica:0/task:0/device:CPU:0 then broadcast to ('/job:localhost/replica:0/task:0/device:CPU:0',).\n",
      "INFO:tensorflow:Reduce to /job:localhost/replica:0/task:0/device:CPU:0 then broadcast to ('/job:localhost/replica:0/task:0/device:CPU:0',).\n",
      "INFO:tensorflow:Reduce to /job:localhost/replica:0/task:0/device:CPU:0 then broadcast to ('/job:localhost/replica:0/task:0/device:CPU:0',).\n",
      "INFO:tensorflow:Reduce to /job:localhost/replica:0/task:0/device:CPU:0 then broadcast to ('/job:localhost/replica:0/task:0/device:CPU:0',).\n",
      "INFO:tensorflow:Reduce to /job:localhost/replica:0/task:0/device:CPU:0 then broadcast to ('/job:localhost/replica:0/task:0/device:CPU:0',).\n",
      "INFO:tensorflow:Reduce to /job:localhost/replica:0/task:0/device:CPU:0 then broadcast to ('/job:localhost/replica:0/task:0/device:CPU:0',).\n",
      "INFO:tensorflow:Reduce to /job:localhost/replica:0/task:0/device:CPU:0 then broadcast to ('/job:localhost/replica:0/task:0/device:CPU:0',).\n",
      "INFO:tensorflow:Reduce to /job:localhost/replica:0/task:0/device:CPU:0 then broadcast to ('/job:localhost/replica:0/task:0/device:CPU:0',).\n",
      "INFO:tensorflow:Reduce to /job:localhost/replica:0/task:0/device:CPU:0 then broadcast to ('/job:localhost/replica:0/task:0/device:CPU:0',).\n",
      "INFO:tensorflow:Reduce to /job:localhost/replica:0/task:0/device:CPU:0 then broadcast to ('/job:localhost/replica:0/task:0/device:CPU:0',).\n",
      "Epoch 1/50\n",
      "INFO:tensorflow:batch_all_reduce: 37 all-reduces with algorithm = nccl, num_packs = 1\n",
      "INFO:tensorflow:batch_all_reduce: 37 all-reduces with algorithm = nccl, num_packs = 1\n",
      "368/368 [==============================] - 407s 862ms/step - loss: 0.4541 - iou_score: 0.4237 - val_loss: 0.2872 - val_iou_score: 0.5695\n",
      "Epoch 2/50\n",
      "368/368 [==============================] - 304s 827ms/step - loss: 0.2469 - iou_score: 0.6155 - val_loss: 0.2451 - val_iou_score: 0.6210\n",
      "Epoch 3/50\n",
      "368/368 [==============================] - 304s 826ms/step - loss: 0.2182 - iou_score: 0.6518 - val_loss: 0.2483 - val_iou_score: 0.6163\n",
      "Epoch 4/50\n",
      "368/368 [==============================] - 304s 826ms/step - loss: 0.2007 - iou_score: 0.6750 - val_loss: 0.2152 - val_iou_score: 0.6586\n",
      "Epoch 5/50\n",
      "368/368 [==============================] - 304s 827ms/step - loss: 0.1856 - iou_score: 0.6951 - val_loss: 0.2053 - val_iou_score: 0.6710\n",
      "Epoch 6/50\n",
      "368/368 [==============================] - 304s 826ms/step - loss: 0.1783 - iou_score: 0.7052 - val_loss: 0.1966 - val_iou_score: 0.6823\n",
      "Epoch 7/50\n",
      "368/368 [==============================] - 304s 826ms/step - loss: 0.1708 - iou_score: 0.7156 - val_loss: 0.1853 - val_iou_score: 0.6965\n",
      "Epoch 8/50\n",
      "368/368 [==============================] - 304s 827ms/step - loss: 0.1652 - iou_score: 0.7237 - val_loss: 0.1807 - val_iou_score: 0.7030\n",
      "Epoch 9/50\n",
      "368/368 [==============================] - 304s 827ms/step - loss: 0.1611 - iou_score: 0.7294 - val_loss: 0.1785 - val_iou_score: 0.7060\n",
      "Epoch 10/50\n",
      "368/368 [==============================] - 304s 827ms/step - loss: 0.1554 - iou_score: 0.7378 - val_loss: 0.1722 - val_iou_score: 0.7147\n",
      "Epoch 11/50\n",
      "368/368 [==============================] - 304s 826ms/step - loss: 0.1554 - iou_score: 0.7381 - val_loss: 0.1766 - val_iou_score: 0.7098\n",
      "Epoch 12/50\n",
      "368/368 [==============================] - 304s 826ms/step - loss: 0.1485 - iou_score: 0.7476 - val_loss: 0.1647 - val_iou_score: 0.7251\n",
      "Epoch 13/50\n",
      "368/368 [==============================] - 304s 826ms/step - loss: 0.1465 - iou_score: 0.7509 - val_loss: 0.1643 - val_iou_score: 0.7244\n",
      "Epoch 14/50\n",
      "368/368 [==============================] - 304s 826ms/step - loss: 0.1430 - iou_score: 0.7560 - val_loss: 0.1661 - val_iou_score: 0.7244\n",
      "Epoch 15/50\n",
      "368/368 [==============================] - 304s 826ms/step - loss: 0.1404 - iou_score: 0.7600 - val_loss: 0.1603 - val_iou_score: 0.7303\n",
      "Epoch 16/50\n",
      "368/368 [==============================] - 304s 826ms/step - loss: 0.1391 - iou_score: 0.7622 - val_loss: 0.1676 - val_iou_score: 0.7224\n",
      "Epoch 17/50\n",
      "368/368 [==============================] - 304s 826ms/step - loss: 0.1350 - iou_score: 0.7679 - val_loss: 0.1515 - val_iou_score: 0.7431\n",
      "Epoch 18/50\n",
      "368/368 [==============================] - 304s 826ms/step - loss: 0.1344 - iou_score: 0.7692 - val_loss: 0.1544 - val_iou_score: 0.7386\n",
      "Epoch 19/50\n",
      "368/368 [==============================] - 304s 826ms/step - loss: 0.1322 - iou_score: 0.7723 - val_loss: 0.1722 - val_iou_score: 0.7136\n",
      "Epoch 20/50\n",
      "368/368 [==============================] - 304s 826ms/step - loss: 0.1310 - iou_score: 0.7741 - val_loss: 0.1560 - val_iou_score: 0.7363\n",
      "Epoch 21/50\n",
      "368/368 [==============================] - 304s 827ms/step - loss: 0.1305 - iou_score: 0.7751 - val_loss: 0.1452 - val_iou_score: 0.7527\n",
      "Epoch 22/50\n",
      "368/368 [==============================] - 304s 826ms/step - loss: 0.1265 - iou_score: 0.7809 - val_loss: 0.1452 - val_iou_score: 0.7526\n",
      "Epoch 23/50\n",
      "368/368 [==============================] - 304s 826ms/step - loss: 0.1254 - iou_score: 0.7825 - val_loss: 0.1414 - val_iou_score: 0.7585\n",
      "Epoch 24/50\n",
      "368/368 [==============================] - 304s 826ms/step - loss: 0.1266 - iou_score: 0.7810 - val_loss: 0.1417 - val_iou_score: 0.7575\n",
      "Epoch 25/50\n",
      "368/368 [==============================] - 304s 826ms/step - loss: 0.1220 - iou_score: 0.7876 - val_loss: 0.1513 - val_iou_score: 0.7430\n",
      "Epoch 26/50\n",
      "368/368 [==============================] - 304s 826ms/step - loss: 0.1208 - iou_score: 0.7899 - val_loss: 0.1370 - val_iou_score: 0.7653\n",
      "Epoch 27/50\n",
      "368/368 [==============================] - 304s 826ms/step - loss: 0.1201 - iou_score: 0.7909 - val_loss: 0.1415 - val_iou_score: 0.7592\n",
      "Epoch 28/50\n",
      "368/368 [==============================] - 305s 827ms/step - loss: 0.1177 - iou_score: 0.7944 - val_loss: 0.1349 - val_iou_score: 0.7681\n",
      "Epoch 29/50\n",
      "368/368 [==============================] - 304s 826ms/step - loss: 0.1167 - iou_score: 0.7959 - val_loss: 0.1396 - val_iou_score: 0.7613\n",
      "Epoch 30/50\n",
      "368/368 [==============================] - 304s 827ms/step - loss: 0.1149 - iou_score: 0.7987 - val_loss: 0.1319 - val_iou_score: 0.7725\n",
      "Epoch 31/50\n",
      "368/368 [==============================] - 304s 826ms/step - loss: 0.1150 - iou_score: 0.7988 - val_loss: 0.1309 - val_iou_score: 0.7744\n",
      "Epoch 32/50\n",
      "368/368 [==============================] - 304s 826ms/step - loss: 0.1131 - iou_score: 0.8016 - val_loss: 0.1317 - val_iou_score: 0.7738\n",
      "Epoch 33/50\n",
      "368/368 [==============================] - 304s 826ms/step - loss: 0.1125 - iou_score: 0.8025 - val_loss: 0.1314 - val_iou_score: 0.7742\n",
      "Epoch 34/50\n",
      "368/368 [==============================] - 304s 826ms/step - loss: 0.1119 - iou_score: 0.8035 - val_loss: 0.1316 - val_iou_score: 0.7731\n",
      "Epoch 35/50\n",
      "368/368 [==============================] - 304s 826ms/step - loss: 0.1106 - iou_score: 0.8057 - val_loss: 0.1293 - val_iou_score: 0.7768\n",
      "Epoch 36/50\n",
      "368/368 [==============================] - 304s 826ms/step - loss: 0.1096 - iou_score: 0.8071 - val_loss: 0.1256 - val_iou_score: 0.7820\n",
      "Epoch 37/50\n",
      "368/368 [==============================] - 304s 826ms/step - loss: 0.1087 - iou_score: 0.8086 - val_loss: 0.1273 - val_iou_score: 0.7801\n",
      "Epoch 38/50\n",
      "368/368 [==============================] - 304s 826ms/step - loss: 0.1081 - iou_score: 0.8096 - val_loss: 0.1227 - val_iou_score: 0.7870\n",
      "Epoch 39/50\n",
      "368/368 [==============================] - 304s 826ms/step - loss: 0.1068 - iou_score: 0.8116 - val_loss: 0.1262 - val_iou_score: 0.7814\n",
      "Epoch 40/50\n",
      "368/368 [==============================] - 304s 826ms/step - loss: 0.1060 - iou_score: 0.8127 - val_loss: 0.1212 - val_iou_score: 0.7893\n",
      "Epoch 41/50\n",
      "368/368 [==============================] - 304s 826ms/step - loss: 0.1057 - iou_score: 0.8137 - val_loss: 0.1230 - val_iou_score: 0.7870\n",
      "Epoch 42/50\n",
      "368/368 [==============================] - 304s 826ms/step - loss: 0.1033 - iou_score: 0.8172 - val_loss: 0.1208 - val_iou_score: 0.7902\n",
      "Epoch 43/50\n",
      "368/368 [==============================] - 304s 826ms/step - loss: 0.1035 - iou_score: 0.8168 - val_loss: 0.1206 - val_iou_score: 0.7901\n",
      "Epoch 44/50\n",
      "368/368 [==============================] - 304s 826ms/step - loss: 0.1025 - iou_score: 0.8186 - val_loss: 0.1214 - val_iou_score: 0.7894\n",
      "Epoch 45/50\n",
      "368/368 [==============================] - 304s 825ms/step - loss: 0.1030 - iou_score: 0.8177 - val_loss: 0.1222 - val_iou_score: 0.7872\n",
      "Epoch 46/50\n",
      "368/368 [==============================] - 304s 827ms/step - loss: 0.1017 - iou_score: 0.8200 - val_loss: 0.1186 - val_iou_score: 0.7928\n",
      "Epoch 47/50\n",
      "368/368 [==============================] - 304s 826ms/step - loss: 0.0998 - iou_score: 0.8228 - val_loss: 0.1159 - val_iou_score: 0.7975\n",
      "Epoch 48/50\n",
      "368/368 [==============================] - 304s 826ms/step - loss: 0.0998 - iou_score: 0.8228 - val_loss: 0.1169 - val_iou_score: 0.7952\n",
      "Epoch 49/50\n",
      "368/368 [==============================] - 304s 826ms/step - loss: 0.1007 - iou_score: 0.8216 - val_loss: 0.1176 - val_iou_score: 0.7952\n",
      "Epoch 50/50\n",
      "368/368 [==============================] - 304s 826ms/step - loss: 0.0984 - iou_score: 0.8251 - val_loss: 0.1450 - val_iou_score: 0.7529\n"
     ]
    }
   ],
   "source": [
    "K.clear_session()\n",
    "batch_size = 64\n",
    "image_size = 528\n",
    "log_dir = f\"{os.environ['tb_path']}segmentation/pspnet/psp_baseline_{batch_size}_is_{image_size}/\"\n",
    "if os.path.exists(log_dir) == False:\n",
    "    os.makedirs(log_dir)\n",
    "tensorboard_callback = tf.keras.callbacks.TensorBoard(log_dir = log_dir)\n",
    "weights_path = f'../../ship_seg_weights/segmentation/pspnet/psp_baseline_{batch_size}_is_{image_size}/'\n",
    "weights_save = CallbackForSavingModelWeights(weights_path)\n",
    "train_dataset = get_data(train, shape = (image_size, image_size), batch_size=batch_size)\n",
    "val_dataset = get_data(val, shape = (image_size, image_size), batch_size=batch_size, shuffle=False, repeat=False)\n",
    "with strategy.scope():\n",
    "    model = get_model(image_size=image_size)\n",
    "    model_hist = model.fit(\n",
    "        train_dataset,\n",
    "        steps_per_epoch = len(train) // (batch_size * REPLICAS),\n",
    "        epochs = 50,\n",
    "        verbose = 1,\n",
    "        validation_data = val_dataset,\n",
    "        callbacks = [tensorboard_callback, weights_save]\n",
    "    )"
   ]
  },
  {
   "cell_type": "code",
   "execution_count": null,
   "metadata": {},
   "outputs": [],
   "source": []
  }
 ],
 "metadata": {
  "kernelspec": {
   "display_name": "tensor_env",
   "language": "python",
   "name": "tensor_env"
  },
  "language_info": {
   "codemirror_mode": {
    "name": "ipython",
    "version": 3
   },
   "file_extension": ".py",
   "mimetype": "text/x-python",
   "name": "python",
   "nbconvert_exporter": "python",
   "pygments_lexer": "ipython3",
   "version": "3.8.10"
  },
  "orig_nbformat": 4
 },
 "nbformat": 4,
 "nbformat_minor": 2
}
